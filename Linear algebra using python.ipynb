{
 "cells": [
  {
   "cell_type": "markdown",
   "id": "06d45d51",
   "metadata": {},
   "source": [
    "# Scalar\n",
    "A Scalar is a quantity which is described by a numerical value. It is used to represent values such as:\n",
    "•\tA number like 50\n",
    "•\tMass of sun in kilograms \n",
    "•\tLength of the great wall of china in kilometres"
   ]
  },
  {
   "cell_type": "code",
   "execution_count": 1,
   "id": "02aa78e9",
   "metadata": {},
   "outputs": [
    {
     "name": "stdout",
     "output_type": "stream",
     "text": [
      "50\n",
      "1.989e+30\n",
      "21196\n"
     ]
    }
   ],
   "source": [
    "# Define scalars\n",
    "number_of_units = 50\n",
    "mass_of_sun = 1.989e30\n",
    "length_great_wall_of_china = 21196\n",
    "print(number_of_units)\n",
    "print(mass_of_sun)\n",
    "print(length_great_wall_of_china)"
   ]
  },
  {
   "cell_type": "markdown",
   "id": "de13cc07",
   "metadata": {},
   "source": [
    "# Vector\n",
    "A vector is an ordered collection of scalars. It can be represented in two forms:\n",
    "•\tColumn vector: Contains n rows and 1 column\n",
    "•\tRow vector: Contains 1 row and n columns\n",
    "The number of scalars in a vector is called its dimension or order."
   ]
  },
  {
   "cell_type": "code",
   "execution_count": 2,
   "id": "6f0f16f5",
   "metadata": {},
   "outputs": [
    {
     "name": "stdout",
     "output_type": "stream",
     "text": [
      "A column vector\n",
      " [[4]\n",
      " [3]]\n",
      "Shape of vector= (2, 1)\n"
     ]
    }
   ],
   "source": [
    "# importing required library (numpy as np)\n",
    "import numpy as np\n",
    "# creating a column vector with 2 rows and 1 column using np.array() function\n",
    "col_vec = np.array([[4],[3]])\n",
    "print (\"A column vector\\n\",col_vec)\n",
    "# printing the shape of the vector\n",
    "print(\"Shape of vector=\",col_vec.shape)"
   ]
  },
  {
   "cell_type": "code",
   "execution_count": 3,
   "id": "af451327",
   "metadata": {},
   "outputs": [
    {
     "name": "stdout",
     "output_type": "stream",
     "text": [
      "A row vector\n",
      " [[ 4 -1  2]]\n",
      "Shape of vector= (1, 3)\n"
     ]
    }
   ],
   "source": [
    "# importing required library (numpy as np)\n",
    "import numpy as np\n",
    "# creating a row vector with 1 row and 3 columns using np.array() function\n",
    "row_vec = np.array([[4,-1,2]])\n",
    "print(\"A row vector\\n\",row_vec)\n",
    "# printing the shape of the vector\n",
    "print(\"Shape of vector=\",row_vec.shape)"
   ]
  },
  {
   "cell_type": "code",
   "execution_count": 4,
   "id": "73778d4c",
   "metadata": {},
   "outputs": [
    {
     "name": "stdout",
     "output_type": "stream",
     "text": [
      "[0 0 0]\n",
      "[0. 0. 0.]\n",
      "[[0.]\n",
      " [0.]\n",
      " [0.]]\n"
     ]
    }
   ],
   "source": [
    "# importing required library (numpy as np)\n",
    "import numpy as np\n",
    "#Illustrating a Zero row vector of dimension 3 using np.array() function\n",
    "zero_vector_1=np.array([0,0,0])\n",
    "print(zero_vector_1)\n",
    "#Illustrating a Zero row vector of dimension 3 using np.zeros() function\n",
    "zero_vector_2=np.zeros(3)\n",
    "print(zero_vector_2)\n",
    "#Illustrating a Zero column vector of dimension 3 using np.zeros() and reshape() function\n",
    "zero_vector_3=np.zeros(3).reshape(3,-1)\n",
    "print(zero_vector_3)"
   ]
  },
  {
   "cell_type": "code",
   "execution_count": 5,
   "id": "d97da410",
   "metadata": {},
   "outputs": [
    {
     "name": "stdout",
     "output_type": "stream",
     "text": [
      "[1 1 1]\n",
      "[1. 1. 1.]\n",
      "[[1.]\n",
      " [1.]\n",
      " [1.]]\n"
     ]
    }
   ],
   "source": [
    "# importing required library (numpy as np)\n",
    "import numpy as np\n",
    "#Illustrating a One vector of dimension 3 using np.array() function\n",
    "one_vector_1=np.array([1,1,1])\n",
    "print(one_vector_1)\n",
    "#Illustrating a One vector of dimension 3 using np.ones() function\n",
    "one_vector_2=np.ones(3)\n",
    "print(one_vector_2)\n",
    "#Illustrating a column vector of ones of dimension 3 using np.ones() and reshape() function \n",
    "one_vector_3=np.ones(3).reshape(3,-1)\n",
    "print(one_vector_3)"
   ]
  },
  {
   "cell_type": "code",
   "execution_count": 6,
   "id": "3c1fb765",
   "metadata": {},
   "outputs": [
    {
     "name": "stdout",
     "output_type": "stream",
     "text": [
      "The vector\n",
      " [[ 4]\n",
      " [-1]\n",
      " [ 2]]\n",
      "\n",
      "Element at position 1= [-1]\n"
     ]
    }
   ],
   "source": [
    "# Indexing\n",
    "# importing required libraries (numpy as np)\n",
    "import numpy as np\n",
    "vector=np.array([[4],[-1],[2]])\n",
    "print(\"The vector\\n\",vector)\n",
    "#Addressing a value of vector by index\n",
    "print(\"\\nElement at position 1=\",vector[1])"
   ]
  },
  {
   "cell_type": "code",
   "execution_count": 7,
   "id": "f044ccb6",
   "metadata": {},
   "outputs": [
    {
     "name": "stdout",
     "output_type": "stream",
     "text": [
      "\n",
      "Magnitude of the vector =  4.242640687119285\n"
     ]
    }
   ],
   "source": [
    "# Magnitude and direction of a vector\n",
    "# importing required libraries (numpy as np)\n",
    "import numpy as np\n",
    "#Create a vector\n",
    "vector=np.array([3,3])\n",
    "#Magnitude of vector can be found using function np.linalg.norm() function\n",
    "print(\"\\nMagnitude of the vector = \",np.linalg.norm(vector))"
   ]
  },
  {
   "cell_type": "code",
   "execution_count": 8,
   "id": "5c3af0b7",
   "metadata": {},
   "outputs": [
    {
     "name": "stdout",
     "output_type": "stream",
     "text": [
      "2x2 Matrix\n",
      " [[1 2]\n",
      " [3 4]] \n",
      "shape of matrix ->  (2, 2)\n",
      "\n",
      "3x3 Matrix\n",
      " [[ 1  2  3]\n",
      " [ 4  5  6]\n",
      " [ 8  9 10]] \n",
      "shape of matrix ->  (3, 3)\n"
     ]
    }
   ],
   "source": [
    "# Matrix\n",
    "# importing required libraries (numpy as np)\n",
    "import numpy as np\n",
    "# Creating matrices of various dimension using np.array() function\n",
    "matrix_2x2 = np.array([[1, 2], \n",
    "                       [3, 4]])\n",
    "matrix_3x3 = np.array([[1, 2, 3],\n",
    "                       [4, 5, 6],\n",
    "                       [8, 9, 10]])\n",
    "print(\"2x2 Matrix\\n\",matrix_2x2,\"\\nshape of matrix -> \",matrix_2x2.shape)\n",
    "print(\"\\n3x3 Matrix\\n\",matrix_3x3,\"\\nshape of matrix -> \",matrix_3x3.shape)"
   ]
  },
  {
   "cell_type": "code",
   "execution_count": 10,
   "id": "e86f5197",
   "metadata": {},
   "outputs": [
    {
     "name": "stdout",
     "output_type": "stream",
     "text": [
      "Element of matrix A at index position [2,1] is 4\n"
     ]
    }
   ],
   "source": [
    "# Accessing elements of a matrix\n",
    "# importing required libraries (numpy as np)\n",
    "import numpy as np\n",
    "# Creating a 3x2 Matrix \"A\"\n",
    "A = np.array([[2,-2],[3,1],[1,4]])\n",
    "#selecting an element at row index 2 and column index 1\n",
    "print(\"Element of matrix A at index position [2,1] is\", A[2,1])"
   ]
  },
  {
   "cell_type": "code",
   "execution_count": null,
   "id": "a04b83ad",
   "metadata": {},
   "outputs": [],
   "source": [
    "# Transpose of a matrix\n",
    "# importing required libraries (numpy as np)\n",
    "import numpy as np\n",
    "# Creating a 3x2 Matrix \"A\"\n",
    "A = np.array([[2,-2],[3,1],[1,4]])\n",
    "print(\"Matrix A:\\n\",A)\n",
    "# Finding transpose of a matrix using the function transpose()\n",
    "print(\"Matrix A Transpose: \\n\",np.transpose(A))"
   ]
  },
  {
   "cell_type": "markdown",
   "id": "f904665f",
   "metadata": {},
   "source": [
    "# Types of Matrices\n",
    "Matrices can be categorized on the basis of the value of their elements, position of elements,  number of rows and columns, etc. as follows:\n",
    "\n",
    "Diagonal matrix\n",
    "Identity matrix\n",
    "Symmetric matrix\n",
    "Triangular matrix"
   ]
  },
  {
   "cell_type": "code",
   "execution_count": 13,
   "id": "6cb0e21d",
   "metadata": {},
   "outputs": [
    {
     "name": "stdout",
     "output_type": "stream",
     "text": [
      "[[1 0 0]\n",
      " [0 3 0]\n",
      " [0 0 2]]\n",
      "[[1 0 0]\n",
      " [0 3 0]\n",
      " [0 0 5]]\n"
     ]
    }
   ],
   "source": [
    "# importing required libraries (numpy as np)\n",
    "import numpy as np\n",
    "# Creating a diagonal matrix with diagonal elements as (1,3,2)\n",
    "diagonal_matrix = np.diag((1,3,2))\n",
    "print(diagonal_matrix)\n",
    "# Creating a diagonal matrix with a range of values\n",
    "matrix_range= np.diag(np.arange(1,6,2))\n",
    "print(matrix_range)"
   ]
  },
  {
   "cell_type": "code",
   "execution_count": 14,
   "id": "0a5ca203",
   "metadata": {},
   "outputs": [
    {
     "name": "stdout",
     "output_type": "stream",
     "text": [
      "Identity_matrix 1\n",
      " [[1. 0.]\n",
      " [0. 1.]]\n",
      "\n",
      "Identity_matrix 2\n",
      " [[1. 0. 0.]\n",
      " [0. 1. 0.]\n",
      " [0. 0. 1.]]\n"
     ]
    }
   ],
   "source": [
    "# importing required libraries (numpy as np)\n",
    "import numpy as np\n",
    "#Creating an Identity matrix of size 2 using np.identity() function\n",
    "identity_matrix_1 = np.identity(2)\n",
    "print(\"Identity_matrix 1\\n\",identity_matrix_1)\n",
    "#Creating an Identity matrix of size 3 using np.eye() fucntion\n",
    "identity_matrix_2 = np.eye(3)\n",
    "print(\"\\nIdentity_matrix 2\\n\",identity_matrix_2)"
   ]
  },
  {
   "cell_type": "code",
   "execution_count": 15,
   "id": "62f7ad8b",
   "metadata": {},
   "outputs": [
    {
     "name": "stdout",
     "output_type": "stream",
     "text": [
      "A:\n",
      " [[ 2  3  1]\n",
      " [ 3  4 -1]\n",
      " [ 1 -1  1]]\n",
      "Transpose of A:\n",
      " [[ 2  3  1]\n",
      " [ 3  4 -1]\n",
      " [ 1 -1  1]]\n",
      "True\n"
     ]
    }
   ],
   "source": [
    "# importing required libraries (numpy as np)\n",
    "import numpy as np\n",
    "#Creating matrix A\n",
    "A = np.array([[2,3,1],\n",
    "            [3,4,-1],\n",
    "            [1,-1,1]])\n",
    "print(\"A:\\n\" , A)\n",
    "# Finding the Transpose of the matrix\n",
    "transposed_matrix = A.transpose()\n",
    "print(\"Transpose of A:\\n\" , transposed_matrix)\n",
    "#Comparing each element of both matrices (returns a matrix of boolean compared values) and saving it in a variable comparison\n",
    "comparison = (A == transposed_matrix)\n",
    "#Checking if all the elements in the matrix comparision is true\n",
    "equal_arrays = comparison.all()\n",
    "print(equal_arrays)"
   ]
  },
  {
   "cell_type": "code",
   "execution_count": 16,
   "id": "5204d4f7",
   "metadata": {},
   "outputs": [
    {
     "name": "stdout",
     "output_type": "stream",
     "text": [
      "Lower triangular matrix\n",
      " [[1 0 0]\n",
      " [4 5 0]\n",
      " [7 8 9]]\n"
     ]
    }
   ],
   "source": [
    "# importing required libraries (numpy as np)\n",
    "import numpy as np\n",
    "#Creating a lower triangular matrix\n",
    "lower_triangular_matrix_1 = np.tril([[1,2,3],\n",
    "                               [4,5,6],\n",
    "                               [7,8,9]])\n",
    "print(\"Lower triangular matrix\\n\",lower_triangular_matrix_1)"
   ]
  },
  {
   "cell_type": "code",
   "execution_count": 17,
   "id": "b544351e",
   "metadata": {},
   "outputs": [
    {
     "name": "stdout",
     "output_type": "stream",
     "text": [
      "Upper triangular matrix\n",
      " [[1 2 3]\n",
      " [0 5 6]\n",
      " [0 0 9]]\n"
     ]
    }
   ],
   "source": [
    "# importing required libraries (numpy as np)\n",
    "import numpy as np\n",
    "#Creating a Upper triangular matrix\n",
    "upper_triangular_matrix_1 = np.triu([[1,2,3],\n",
    "                               [4,5,6],\n",
    "                               [7,8,9]])\n",
    "print(\"Upper triangular matrix\\n\",upper_triangular_matrix_1)"
   ]
  },
  {
   "cell_type": "code",
   "execution_count": 1,
   "id": "638863d9",
   "metadata": {},
   "outputs": [
    {
     "name": "stdout",
     "output_type": "stream",
     "text": [
      "1st  Vector :   [[ 2 -1  1]]\n",
      "2nd  Vector :   [[ 1  2 -1]]\n",
      "Added Vector :  [[3 1 0]]\n"
     ]
    }
   ],
   "source": [
    "# Vectors\n",
    "# importing required libraries (numpy as np)\n",
    "import numpy as np\n",
    "#Create 2 vectors\n",
    "vector_1 = np.array([[2, -1, 1]]) \n",
    "vector_2 = np.array([[1, 2, -1]]) \n",
    "   \n",
    "print (\"1st  Vector :  \", vector_1)  \n",
    "print (\"2nd  Vector :  \", vector_2)  \n",
    "# Addition of the vectors using the function np.add()\n",
    "out = np.add(vector_1, vector_2)  \n",
    "print (\"Added Vector : \", out)"
   ]
  },
  {
   "cell_type": "code",
   "execution_count": 2,
   "id": "66e01f92",
   "metadata": {},
   "outputs": [
    {
     "name": "stdout",
     "output_type": "stream",
     "text": [
      "1st  Vector :   [[ 2 -1  1]]\n",
      "2nd  Vector :   [[ 1  2 -1]]\n",
      "Added Vector :  [[3 1 0]]\n"
     ]
    }
   ],
   "source": [
    "# Vector Addition\n",
    "# importing required libraries (numpy as np)\n",
    "import numpy as np\n",
    "#Create 2 vectors\n",
    "vector_1 = np.array([[2, -1, 1]]) \n",
    "vector_2 = np.array([[1, 2, -1]]) \n",
    "   \n",
    "print (\"1st  Vector :  \", vector_1)  \n",
    "print (\"2nd  Vector :  \", vector_2)  \n",
    "# Addition of the vectors using the function np.add()\n",
    "out = np.add(vector_1, vector_2)  \n",
    "print (\"Added Vector : \", out)"
   ]
  },
  {
   "cell_type": "code",
   "execution_count": 4,
   "id": "28dc15ef",
   "metadata": {},
   "outputs": [
    {
     "name": "stdout",
     "output_type": "stream",
     "text": [
      "1st  Matrix : \n",
      " [[ 10  20  30]\n",
      " [-30 -40 -50]]\n",
      "2nd  Matrix : \n",
      " [[ 100 -200  300]\n",
      " [  30   50   70]]\n",
      "Added Matrix : \n",
      " [[ 110 -180  330]\n",
      " [   0   10   20]]\n"
     ]
    }
   ],
   "source": [
    "# Matrix Addition\n",
    "# importing required libraries (numpy as np)\n",
    "import numpy as np\n",
    "# Creation of 2 matrices\n",
    "matrix_1 = np.array([[10,20,30],\n",
    "                     [-30,-40,-50]]) \n",
    "matrix_2 = np.array([[100,-200,300],\n",
    "                     [30,50,70]]) \n",
    "   \n",
    "print (\"1st  Matrix : \\n\", matrix_1)  \n",
    "print (\"2nd  Matrix : \\n\", matrix_2)  \n",
    "# Addition of the matrices using np.add() function\n",
    "out = np.add(matrix_1, matrix_2)  \n",
    "print (\"Added Matrix : \\n\", out)"
   ]
  },
  {
   "cell_type": "code",
   "execution_count": 6,
   "id": "703e1fc2",
   "metadata": {},
   "outputs": [
    {
     "name": "stdout",
     "output_type": "stream",
     "text": [
      "Vector: \n",
      " [[ 2]\n",
      " [-1]\n",
      " [ 3]] \n",
      "Scalar: 2.5 \n",
      "Scalar Vector multiplication:\n",
      " [[ 5. ]\n",
      " [-2.5]\n",
      " [ 7.5]]\n"
     ]
    }
   ],
   "source": [
    "# Multiplication of Vector by a Scalar\n",
    "# importing required libraries (numpy as np)\n",
    "import numpy as np\n",
    "#Defining a Vector 'v' and scalar 's'\n",
    "v = np.array([[2],[-1],[3]])\n",
    "s = 2.5 \n",
    "#Scalar Vector Multiplication\n",
    "vector_mul = v*s \n",
    "print(\"Vector: \\n\",v,\"\\nScalar:\",s,\"\\nScalar Vector multiplication:\\n\",vector_mul)"
   ]
  },
  {
   "cell_type": "code",
   "execution_count": 7,
   "id": "0938759a",
   "metadata": {},
   "outputs": [
    {
     "name": "stdout",
     "output_type": "stream",
     "text": [
      "Matrix:\n",
      " [[ 1  2  1]\n",
      " [-1  1  0]\n",
      " [ 2 -1  1]]\n",
      "Scalar : 2.5\n",
      "Multiplication of Matrix by a Scalar:\n",
      " [[ 2.5  5.   2.5]\n",
      " [-2.5  2.5  0. ]\n",
      " [ 5.  -2.5  2.5]]\n"
     ]
    }
   ],
   "source": [
    "#Multiplication of Matrix by a Scalar\n",
    "# importing required libraries (numpy as np)\n",
    "import numpy as np\n",
    "#Defining a matrix 'A' and scalar 's'\n",
    "A = np.array([[1,2,1],\n",
    "                     [-1,1,0],\n",
    "                     [2,-1,1]])\n",
    "print(\"Matrix:\\n\",A)\n",
    "s = 2.5\n",
    "print(\"Scalar :\",s)\n",
    "#Multiplication of Matrix by a Scalar\n",
    "matrix_mul =  s * A\n",
    "print(\"Multiplication of Matrix by a Scalar:\\n\",matrix_mul)"
   ]
  },
  {
   "cell_type": "code",
   "execution_count": 8,
   "id": "0f1e6fde",
   "metadata": {},
   "outputs": [
    {
     "name": "stdout",
     "output_type": "stream",
     "text": [
      "Vector 1\n",
      " [[ 3]\n",
      " [-1]\n",
      " [ 2]]\n",
      "Vector 2\n",
      " [[ 2]\n",
      " [ 4]\n",
      " [-1]]\n",
      "Dot Product\n",
      " [[0]]\n"
     ]
    }
   ],
   "source": [
    "#Orthogonal vectors : If the inner product of two non-zero vectors v1 and v2 is zero, that is\n",
    "#then, the vectors v1 and v2 are called orthogonal vectors.\n",
    "# importing required libraries (numpy as np)\n",
    "import numpy as np\n",
    "#Creating vectors\n",
    "Vector_1 = np.array([[3],[-1],[2]])\n",
    "Vector_2 = np.array([[2],[4],[-1]])\n",
    "print(\"Vector 1\\n\",Vector_1)\n",
    "print(\"Vector 2\\n\",Vector_2)\n",
    "#Finding the transpose of Vector_1 \n",
    "trans = np.transpose(Vector_1)\n",
    "#Finding the dot product \n",
    "result = np.dot(trans,Vector_2)\n",
    "print(\"Dot Product\\n\",result)"
   ]
  },
  {
   "cell_type": "code",
   "execution_count": 9,
   "id": "66f5b285",
   "metadata": {
    "scrolled": true
   },
   "outputs": [
    {
     "name": "stdout",
     "output_type": "stream",
     "text": [
      "A :\n",
      " [[1 2 3]\n",
      " [4 5 6]\n",
      " [7 8 9]]\n",
      "v :\n",
      " [[1]\n",
      " [2]\n",
      " [3]]\n",
      "Product of A and v is: \n",
      " [[14]\n",
      " [32]\n",
      " [50]]\n"
     ]
    }
   ],
   "source": [
    "# Matrix - Vector Multiplication\n",
    "#import the library numpy\n",
    "import numpy as np\n",
    "#Define a matrix\n",
    "A =  np.array([[1, 2, 3], [4, 5, 6], [7, 8, 9]])\n",
    "print(\"A :\\n\", A)\n",
    "#Define a column vector\n",
    "v = np.array([[1], [2], [3]])\n",
    "print(\"v :\\n\", v)\n",
    "# Find product of the matrix and Vector\n",
    "product = np.matmul(A,v)\n",
    "print(\"Product of A and v is: \\n\", product)"
   ]
  },
  {
   "cell_type": "code",
   "execution_count": 2,
   "id": "60a110f7",
   "metadata": {},
   "outputs": [
    {
     "name": "stdout",
     "output_type": "stream",
     "text": [
      "Printing the Original square array:\n",
      " [[1 2]\n",
      " [2 3]]\n",
      "Printing the Eigen values of the given square array:\n",
      " [-0.23606798  4.23606798]\n",
      "Printing Right eigenvectors of the given square array:\n",
      " [[-0.85065081 -0.52573111]\n",
      " [ 0.52573111 -0.85065081]]\n"
     ]
    }
   ],
   "source": [
    "# importing numpy library\n",
    "import numpy as np\t\n",
    "# create numpy 2d-array\t\n",
    "m = np.array([[1, 2],[2, 3]])\n",
    "print(\"Printing the Original square array:\\n\",m)\n",
    "# finding eigenvalues and eigenvectors\n",
    "w, v = np.linalg.eig(m)\n",
    "# printing eigen values\n",
    "print(\"Printing the Eigen values of the given square array:\\n\",w)\n",
    "# printing eigen vectors\n",
    "print(\"Printing Right eigenvectors of the given square array:\\n\",v)"
   ]
  },
  {
   "cell_type": "code",
   "execution_count": 1,
   "id": "6f9e60d0",
   "metadata": {},
   "outputs": [
    {
     "ename": "ModuleNotFoundError",
     "evalue": "No module named 'numdifftools'",
     "output_type": "error",
     "traceback": [
      "\u001b[1;31m---------------------------------------------------------------------------\u001b[0m",
      "\u001b[1;31mModuleNotFoundError\u001b[0m                       Traceback (most recent call last)",
      "Input \u001b[1;32mIn [1]\u001b[0m, in \u001b[0;36m<cell line: 1>\u001b[1;34m()\u001b[0m\n\u001b[1;32m----> 1\u001b[0m \u001b[38;5;28;01mimport\u001b[39;00m \u001b[38;5;21;01mnumdifftools\u001b[39;00m \u001b[38;5;28;01mas\u001b[39;00m \u001b[38;5;21;01mnd\u001b[39;00m\n\u001b[0;32m      4\u001b[0m g \u001b[38;5;241m=\u001b[39m \u001b[38;5;28;01mlambda\u001b[39;00m x:(x\u001b[38;5;241m*\u001b[39m\u001b[38;5;241m*\u001b[39m\u001b[38;5;241m4\u001b[39m)\u001b[38;5;241m+\u001b[39mx \u001b[38;5;241m+\u001b[39m \u001b[38;5;241m1\u001b[39m\n\u001b[0;32m      5\u001b[0m grad1 \u001b[38;5;241m=\u001b[39m nd\u001b[38;5;241m.\u001b[39mGradient(g)([\u001b[38;5;241m1\u001b[39m])\n",
      "\u001b[1;31mModuleNotFoundError\u001b[0m: No module named 'numdifftools'"
     ]
    }
   ],
   "source": [
    "import numdifftools as nd\n",
    "\n",
    "\n",
    "g = lambda x:(x**4)+x + 1\n",
    "grad1 = nd.Gradient(g)([1])\n",
    "print(\"Gradient of x ^ 4 + x+1 at x = 1 is \", grad1)\n",
    "\n",
    "def rosen(x):\n",
    "\treturn (1-x[0])**2 +(x[1]-x[0]**2)**2\n",
    "\n",
    "grad2 = nd.Gradient(rosen)([1, 2])\n",
    "print(\"Gradient of (1-x ^ 2)+(y-x ^ 2)^2 at (1, 2) is \", grad2)\n"
   ]
  },
  {
   "cell_type": "code",
   "execution_count": 4,
   "id": "6d5698df",
   "metadata": {},
   "outputs": [
    {
     "name": "stdout",
     "output_type": "stream",
     "text": [
      "[1 2 3 4 5]\n",
      "15.0\n"
     ]
    }
   ],
   "source": [
    "from numpy import array\n",
    "from numpy.linalg import norm\n",
    "arr = array([1, 2, 3, 4, 5])\n",
    "print(arr)\n",
    "norm_l1 = norm(arr, 1)\n",
    "print(norm_l1)"
   ]
  },
  {
   "cell_type": "code",
   "execution_count": 11,
   "id": "e06e5db4",
   "metadata": {},
   "outputs": [
    {
     "name": "stdout",
     "output_type": "stream",
     "text": [
      "[[1 2 1]\n",
      " [0 1 0]\n",
      " [1 0 1]]\n",
      "[[ 0.70710678 -0.70710678  0.        ]\n",
      " [ 0.          0.          0.4472136 ]\n",
      " [ 0.70710678  0.70710678 -0.89442719]]\n",
      "[2. 0. 1.]\n"
     ]
    },
    {
     "data": {
      "text/plain": [
       "array([[1., 2., 1.],\n",
       "       [0., 1., 0.],\n",
       "       [1., 0., 1.]])"
      ]
     },
     "execution_count": 11,
     "metadata": {},
     "output_type": "execute_result"
    }
   ],
   "source": [
    "import numpy as np\n",
    "M = np.array([ [1,2,1], [0,1,0], [1, 0, 1] ])\n",
    "print(M)\n",
    "#getting the eigenvalues and eigenvvector of M\n",
    "Lambda, U = np.linalg.eig(M)\n",
    "## eigenvectors\n",
    "print(U)\n",
    "## eigenvalues\n",
    "print(Lambda)\n",
    "\n",
    "# We need Λ and U−1 to calculate all components of our Eigendecomposition.\n",
    "\n",
    "# We will first utilize the Numpy inv() function to determine U−1 \n",
    "# using the inverse of U, as demonstrated below:\n",
    "\n",
    "# getting U inverse\n",
    "inv_U = np.linalg.inv(U)\n",
    "inv_U\n",
    "\n",
    "# Let’s compute Λ on the diagonal matrix. \n",
    "# We will use the diag() function with the Lambda vector to obtain this matrix:\n",
    "Λ = np.diag(Lambda)\n",
    "Λ\n",
    "\n",
    "# Since we have the three components of our eigendecomposition, \n",
    "# let’s reconstruct the original matrix:\n",
    "\n",
    "def round(values, decs=0): # we don't want to include decimal points in our returned matrix\n",
    "  return np.round(values*10**decs)/(10**decs)\n",
    "\n",
    "vec = np.dot(U,np.dot(Λ, inv_U)) # taking the product of our three matrices\n",
    "round(vec, decs=0)    \n"
   ]
  },
  {
   "cell_type": "code",
   "execution_count": null,
   "id": "be022bae",
   "metadata": {},
   "outputs": [],
   "source": []
  }
 ],
 "metadata": {
  "kernelspec": {
   "display_name": "Python 3 (ipykernel)",
   "language": "python",
   "name": "python3"
  },
  "language_info": {
   "codemirror_mode": {
    "name": "ipython",
    "version": 3
   },
   "file_extension": ".py",
   "mimetype": "text/x-python",
   "name": "python",
   "nbconvert_exporter": "python",
   "pygments_lexer": "ipython3",
   "version": "3.9.12"
  }
 },
 "nbformat": 4,
 "nbformat_minor": 5
}
