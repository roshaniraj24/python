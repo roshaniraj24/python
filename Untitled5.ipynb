{
 "cells": [
  {
   "cell_type": "markdown",
   "id": "9d95c086",
   "metadata": {},
   "source": [
    "# Scalar"
   ]
  },
  {
   "cell_type": "code",
   "execution_count": 1,
   "id": "0a2c2061",
   "metadata": {},
   "outputs": [
    {
     "name": "stdout",
     "output_type": "stream",
     "text": [
      "50\n",
      "1.989e+30\n",
      "21196\n"
     ]
    }
   ],
   "source": [
    "number_of_units=50\n",
    "mass_of_sun=1.989e30\n",
    "length_great_wall_of_china=21196\n",
    "print(number_of_units)\n",
    "print(mass_of_sun)\n",
    "print(length_great_wall_of_china)"
   ]
  },
  {
   "cell_type": "markdown",
   "id": "3f241a29",
   "metadata": {},
   "source": [
    "# Vector"
   ]
  },
  {
   "cell_type": "code",
   "execution_count": 2,
   "id": "d91df5c1",
   "metadata": {},
   "outputs": [
    {
     "name": "stdout",
     "output_type": "stream",
     "text": [
      "A column vector\n",
      " [[4]\n",
      " [3]]\n",
      "shape of vector= (2, 1)\n"
     ]
    }
   ],
   "source": [
    "import numpy as np\n",
    "col_vec=np.array([[4],[3]])\n",
    "print(\"A column vector\\n\",col_vec)\n",
    "print(\"shape of vector=\",col_vec.shape)"
   ]
  },
  {
   "cell_type": "code",
   "execution_count": 3,
   "id": "df026666",
   "metadata": {},
   "outputs": [
    {
     "name": "stdout",
     "output_type": "stream",
     "text": [
      "A row vector\n",
      " [[ 4 -1  2]]\n",
      "shape of vector= (1, 3)\n"
     ]
    }
   ],
   "source": [
    "import numpy as np\n",
    "row_vec = np.array([[4,-1,2]])\n",
    "print(\"A row vector\\n\",row_vec)\n",
    "print(\"shape of vector=\",row_vec.shape)"
   ]
  },
  {
   "cell_type": "code",
   "execution_count": 4,
   "id": "c3ac1fc9",
   "metadata": {},
   "outputs": [
    {
     "name": "stdout",
     "output_type": "stream",
     "text": [
      "[0 0 0]\n",
      "[0. 0. 0.]\n",
      "[[0.]\n",
      " [0.]\n",
      " [0.]]\n"
     ]
    }
   ],
   "source": [
    "import numpy as np\n",
    "zero_vector_1=np.array([0,0,0])\n",
    "print(zero_vector_1)\n",
    "zero_vector_2=np.zeros(3)\n",
    "print(zero_vector_2)\n",
    "zero_vector_3=np.zeros(3).reshape(3,-1)\n",
    "print(zero_vector_3)"
   ]
  },
  {
   "cell_type": "code",
   "execution_count": 7,
   "id": "ebcd8a2d",
   "metadata": {},
   "outputs": [
    {
     "ename": "SyntaxError",
     "evalue": "invalid syntax (4117109293.py, line 3)",
     "output_type": "error",
     "traceback": [
      "\u001b[1;36m  Input \u001b[1;32mIn [7]\u001b[1;36m\u001b[0m\n\u001b[1;33m    print(one_vector_1))\u001b[0m\n\u001b[1;37m    ^\u001b[0m\n\u001b[1;31mSyntaxError\u001b[0m\u001b[1;31m:\u001b[0m invalid syntax\n"
     ]
    }
   ],
   "source": [
    "import numpy as np\n",
    "one_vector_1=np.array([1,1,1]\n",
    "print(one_vector_1))\n",
    "one_vector_2=np.ones(3)\n",
    "print(one_vector_2)\n",
    "one_vector_3=np.ones(3).reshape(3,-1)\n",
    "print(one_vector_3)"
   ]
  },
  {
   "cell_type": "code",
   "execution_count": 8,
   "id": "06b36fe2",
   "metadata": {},
   "outputs": [
    {
     "name": "stdout",
     "output_type": "stream",
     "text": [
      "The vector\n",
      " [[ 4]\n",
      " [-1]\n",
      " [ 2]]\n",
      "\n",
      "Element at position 1= [-1]\n"
     ]
    }
   ],
   "source": [
    "import numpy as np\n",
    "vector=np.array([[4],[-1],[2]])\n",
    "print(\"The vector\\n\",vector)\n",
    "print(\"\\nElement at position 1=\",vector[1])"
   ]
  },
  {
   "cell_type": "code",
   "execution_count": 9,
   "id": "b24286e6",
   "metadata": {},
   "outputs": [
    {
     "name": "stdout",
     "output_type": "stream",
     "text": [
      "\n",
      "Magnitude of the vector= 4.242640687119285\n"
     ]
    }
   ],
   "source": [
    "import numpy as np\n",
    "vector=np.array([3,3])\n",
    "print(\"\\nMagnitude of the vector=\",np.linalg.norm(vector))"
   ]
  },
  {
   "cell_type": "code",
   "execution_count": 13,
   "id": "66152257",
   "metadata": {},
   "outputs": [
    {
     "name": "stdout",
     "output_type": "stream",
     "text": [
      "2x2 Matrix\n",
      " [[1 2]\n",
      " [3 4]] \n",
      "shape of matrix -> (2, 2)\n",
      "\n",
      "3x3 Matrix\n",
      " [[ 1  2  3]\n",
      " [ 4  5  6]\n",
      " [ 8  9 10]] \n",
      "shape of matrix -> (3, 3)\n"
     ]
    }
   ],
   "source": [
    "import numpy as np\n",
    "matrix_2x2=np.array([[1, 2],\n",
    "                     [3, 4]])\n",
    "matrix_3x3=np.array([[1, 2, 3],\n",
    "                     [4, 5, 6],\n",
    "                     [8, 9, 10]])\n",
    "print(\"2x2 Matrix\\n\",matrix_2x2,\"\\nshape of matrix ->\",matrix_2x2.shape)\n",
    "print(\"\\n3x3 Matrix\\n\",matrix_3x3,\"\\nshape of matrix ->\",matrix_3x3.shape)"
   ]
  },
  {
   "cell_type": "code",
   "execution_count": 14,
   "id": "b5117b0b",
   "metadata": {},
   "outputs": [
    {
     "name": "stdout",
     "output_type": "stream",
     "text": [
      "Element of matrix A at index position [2,1] is A[2,1]\n"
     ]
    }
   ],
   "source": [
    "import numpy as np\n",
    "A = np.array([[2,-2],[3,1],[1,4]])\n",
    "print(\"Element of matrix A at index position [2,1] is A[2,1]\")"
   ]
  },
  {
   "cell_type": "code",
   "execution_count": 15,
   "id": "adc52cc1",
   "metadata": {},
   "outputs": [
    {
     "name": "stdout",
     "output_type": "stream",
     "text": [
      "Matrix A:\n",
      " [[ 2 -2]\n",
      " [ 3  1]\n",
      " [ 1  4]]\n",
      "Matrix A Transpose: \n",
      " [[ 2  3  1]\n",
      " [-2  1  4]]\n"
     ]
    }
   ],
   "source": [
    "import numpy as np\n",
    "A = np.array([[2,-2],[3,1],[1,4]])\n",
    "print(\"Matrix A:\\n\",A)\n",
    "print(\"Matrix A Transpose: \\n\",np.transpose(A))"
   ]
  },
  {
   "cell_type": "markdown",
   "id": "863de261",
   "metadata": {},
   "source": [
    "# Diagonal Matrix"
   ]
  },
  {
   "cell_type": "code",
   "execution_count": 16,
   "id": "4d4ac3ab",
   "metadata": {},
   "outputs": [
    {
     "name": "stdout",
     "output_type": "stream",
     "text": [
      "[[1 0 0]\n",
      " [0 3 0]\n",
      " [0 0 2]]\n",
      "[[1 0 0]\n",
      " [0 3 0]\n",
      " [0 0 5]]\n"
     ]
    }
   ],
   "source": [
    "import numpy as np\n",
    "diagonal_matrix = np.diag((1,3,2))\n",
    "print(diagonal_matrix)\n",
    "matrix_range = np.diag(np.arange(1,6,2))\n",
    "print(matrix_range)"
   ]
  },
  {
   "cell_type": "code",
   "execution_count": 18,
   "id": "34676e0a",
   "metadata": {},
   "outputs": [
    {
     "name": "stdout",
     "output_type": "stream",
     "text": [
      "Identify_matrix 1\n",
      " [[1. 0.]\n",
      " [0. 1.]]\n",
      "\n",
      "Identify_matrix 2\n",
      " [[1. 0. 0.]\n",
      " [0. 1. 0.]\n",
      " [0. 0. 1.]]\n"
     ]
    }
   ],
   "source": [
    "import numpy as np\n",
    "identify_matrix_1 = np.identity(2)\n",
    "print(\"Identify_matrix 1\\n\",identify_matrix_1)\n",
    "identify_matrix_2 = np.eye(3)\n",
    "print(\"\\nIdentify_matrix 2\\n\",identify_matrix_2)"
   ]
  },
  {
   "cell_type": "code",
   "execution_count": 19,
   "id": "e8c7f742",
   "metadata": {},
   "outputs": [
    {
     "name": "stdout",
     "output_type": "stream",
     "text": [
      "A:\n",
      " [[ 2  3  1]\n",
      " [ 3  4 -1]\n",
      " [ 1 -1  1]]\n",
      "Transpose of A:\n",
      " [[ 2  3  1]\n",
      " [ 3  4 -1]\n",
      " [ 1 -1  1]]\n",
      "True\n"
     ]
    }
   ],
   "source": [
    "import numpy as np\n",
    "A = np.array([[2,3,1],\n",
    "              [3,4,-1],\n",
    "              [1,-1,1]])\n",
    "print(\"A:\\n\" , A)\n",
    "transposed_matrix = A.transpose()\n",
    "print(\"Transpose of A:\\n\" , transposed_matrix)\n",
    "comparison = (A == transposed_matrix)\n",
    "equal_arrays = comparison.all()\n",
    "print(equal_arrays)"
   ]
  },
  {
   "cell_type": "code",
   "execution_count": 20,
   "id": "29feb3d1",
   "metadata": {},
   "outputs": [
    {
     "name": "stdout",
     "output_type": "stream",
     "text": [
      "Lower triangular matrix\n",
      " [[1 0 0]\n",
      " [4 5 0]\n",
      " [7 8 9]]\n"
     ]
    }
   ],
   "source": [
    "import numpy as np\n",
    "lower_triangular_matrix_1 = np.tril([[1,2,3],\n",
    "                                    [4,5,6],\n",
    "                                    [7,8,9]])\n",
    "print(\"Lower triangular matrix\\n\",lower_triangular_matrix_1)"
   ]
  },
  {
   "cell_type": "code",
   "execution_count": 21,
   "id": "b4152e28",
   "metadata": {},
   "outputs": [
    {
     "name": "stdout",
     "output_type": "stream",
     "text": [
      "upper triangular matrix\n",
      " [[1 2 3]\n",
      " [0 5 6]\n",
      " [0 0 9]]\n"
     ]
    }
   ],
   "source": [
    "import numpy as np\n",
    "upper_triangular_matrix_1 = np.triu([[1,2,3],\n",
    "                                     [4,5,6],\n",
    "                                    [7,8,9]])\n",
    "print(\"upper triangular matrix\\n\",upper_triangular_matrix_1)"
   ]
  },
  {
   "cell_type": "code",
   "execution_count": 1,
   "id": "da7f2e8d",
   "metadata": {},
   "outputs": [
    {
     "name": "stdout",
     "output_type": "stream",
     "text": [
      "1st vector :  [[ 2 -1  1]]\n",
      "2nd vector :  [[ 1  2 -1]]\n",
      "Added vector :  [[3 1 0]]\n"
     ]
    }
   ],
   "source": [
    "import numpy as np\n",
    "vector_1 = np.array([[2, -1, 1]])\n",
    "vector_2 = np.array([[1, 2, -1]])\n",
    "print (\"1st vector : \", vector_1)\n",
    "print(\"2nd vector : \", vector_2)\n",
    "out = np.add(vector_1, vector_2)\n",
    "print (\"Added vector : \", out)"
   ]
  },
  {
   "cell_type": "code",
   "execution_count": 2,
   "id": "463a1d41",
   "metadata": {},
   "outputs": [
    {
     "name": "stdout",
     "output_type": "stream",
     "text": [
      "1st vector :  [[ 2 -1  1]]\n",
      "2nd vector :  [[ 1  2 -1]]\n",
      "Added vector :  [[3 1 0]]\n"
     ]
    }
   ],
   "source": [
    "import numpy as np\n",
    "vector_1 = np.array([[2, -1, 1]])\n",
    "vector_2 = np.array([[1, 2, -1]])\n",
    "\n",
    "print(\"1st vector : \", vector_1)\n",
    "print (\"2nd vector : \", vector_2)\n",
    "out = np.add(vector_1, vector_2)\n",
    "print (\"Added vector : \", out)"
   ]
  },
  {
   "cell_type": "code",
   "execution_count": 3,
   "id": "378bd697",
   "metadata": {},
   "outputs": [
    {
     "name": "stdout",
     "output_type": "stream",
     "text": [
      "1st Matrix : \n",
      " [[ 10  20  30]\n",
      " [-30 -40 -50]]\n",
      "2nd Matrix : \n",
      " [[ 100 -200  300]\n",
      " [  30   50   70]]\n",
      "Added Matrix : \n",
      " [[ 110 -180  330]\n",
      " [   0   10   20]]\n"
     ]
    }
   ],
   "source": [
    "import numpy as np\n",
    "matrix_1 = np.array([[10,20,30],\n",
    "                    [-30,-40,-50]])\n",
    "matrix_2 = np.array([[100,-200,300],\n",
    "                    [30,50,70]])\n",
    "print (\"1st Matrix : \\n\", matrix_1)\n",
    "print (\"2nd Matrix : \\n\", matrix_2)\n",
    "out = np.add(matrix_1, matrix_2)\n",
    "print (\"Added Matrix : \\n\", out)"
   ]
  },
  {
   "cell_type": "code",
   "execution_count": 4,
   "id": "b33d7325",
   "metadata": {},
   "outputs": [
    {
     "name": "stdout",
     "output_type": "stream",
     "text": [
      "vector: \n",
      " [[ 2]\n",
      " [-1]\n",
      " [ 3]] \n",
      "Scalar: 2.5 \n",
      "Scalar vector multiplication:\n",
      " [[ 5. ]\n",
      " [-2.5]\n",
      " [ 7.5]]\n"
     ]
    }
   ],
   "source": [
    "import numpy as np\n",
    "v = np.array([[2],[-1],[3]])\n",
    "s = 2.5\n",
    "vector_mul = v*s\n",
    "print(\"vector: \\n\",v,\"\\nScalar:\",s,\"\\nScalar vector multiplication:\\n\",vector_mul)"
   ]
  },
  {
   "cell_type": "code",
   "execution_count": 5,
   "id": "4cc9d0ad",
   "metadata": {},
   "outputs": [
    {
     "name": "stdout",
     "output_type": "stream",
     "text": [
      "Matrix:\n",
      " [[ 1  2  1]\n",
      " [-1  1  0]\n",
      " [ 2 -1  1]]\n",
      "Scalar : 2.5\n",
      "Multiplication of matrix by a Scalar:\n",
      " [[ 2.5  5.   2.5]\n",
      " [-2.5  2.5  0. ]\n",
      " [ 5.  -2.5  2.5]]\n"
     ]
    }
   ],
   "source": [
    "import numpy as np\n",
    "A = np.array([[1,2,1],\n",
    "             [-1,1,0],\n",
    "            [2,-1,1]])\n",
    "print(\"Matrix:\\n\",A)\n",
    "s = 2.5\n",
    "print(\"Scalar :\",s)\n",
    "matrix_mul = s*A\n",
    "print(\"Multiplication of matrix by a Scalar:\\n\",matrix_mul)"
   ]
  },
  {
   "cell_type": "code",
   "execution_count": 6,
   "id": "b58e43c1",
   "metadata": {},
   "outputs": [
    {
     "name": "stdout",
     "output_type": "stream",
     "text": [
      "vector 1\n",
      " [[ 3]\n",
      " [-1]\n",
      " [ 2]]\n",
      "vector 2\n",
      " [[ 2]\n",
      " [ 4]\n",
      " [-1]]\n",
      "Dot Product\n",
      " [[0]]\n"
     ]
    }
   ],
   "source": [
    "import numpy as np\n",
    "vector_1 = np.array([[3],[-1],[2]])\n",
    "vector_2 = np.array([[2],[4],[-1]])\n",
    "print(\"vector 1\\n\",vector_1)\n",
    "print(\"vector 2\\n\",vector_2)\n",
    "trans = np.transpose(vector_1)\n",
    "result = np.dot(trans,vector_2)\n",
    "print(\"Dot Product\\n\",result)"
   ]
  },
  {
   "cell_type": "code",
   "execution_count": 7,
   "id": "7a17d509",
   "metadata": {},
   "outputs": [
    {
     "name": "stdout",
     "output_type": "stream",
     "text": [
      "A :\n",
      " [[1 2 3]\n",
      " [4 5 6]\n",
      " [7 8 9]]\n",
      "v :\n",
      " [[1]\n",
      " [2]\n",
      " [3]]\n",
      "Product of A and v is: \n",
      " [[14]\n",
      " [32]\n",
      " [50]]\n"
     ]
    }
   ],
   "source": [
    "import numpy as np\n",
    "A = np.array([[1, 2, 3], [4, 5, 6], [7, 8, 9]])\n",
    "print(\"A :\\n\", A)\n",
    "v = np.array([[1], [2], [3]])\n",
    "print(\"v :\\n\", v)\n",
    "product = np.matmul(A,v)\n",
    "print(\"Product of A and v is: \\n\", product)"
   ]
  },
  {
   "cell_type": "code",
   "execution_count": 8,
   "id": "2fff3cba",
   "metadata": {},
   "outputs": [
    {
     "name": "stdout",
     "output_type": "stream",
     "text": [
      "Printing the original square array:\n",
      " [[1 2]\n",
      " [2 3]]\n",
      "Printing the Eigen values of the given square array:\n",
      " [-0.23606798  4.23606798]\n",
      "Printing Right eigenvectors of the given square array:\n",
      ",v\n"
     ]
    }
   ],
   "source": [
    "import numpy as np\n",
    "m = np.array([[1, 2],[2, 3]])\n",
    "print(\"Printing the original square array:\\n\",m)\n",
    "w, v = np.linalg.eig(m)\n",
    "print(\"Printing the Eigen values of the given square array:\\n\",w)\n",
    "print(\"Printing Right eigenvectors of the given square array:\\n,v\")"
   ]
  },
  {
   "cell_type": "code",
   "execution_count": 10,
   "id": "c665f607",
   "metadata": {},
   "outputs": [
    {
     "ename": "ModuleNotFoundError",
     "evalue": "No module named 'numdifftools'",
     "output_type": "error",
     "traceback": [
      "\u001b[1;31m---------------------------------------------------------------------------\u001b[0m",
      "\u001b[1;31mModuleNotFoundError\u001b[0m                       Traceback (most recent call last)",
      "Input \u001b[1;32mIn [10]\u001b[0m, in \u001b[0;36m<cell line: 1>\u001b[1;34m()\u001b[0m\n\u001b[1;32m----> 1\u001b[0m \u001b[38;5;28;01mimport\u001b[39;00m \u001b[38;5;21;01mnumdifftools\u001b[39;00m \u001b[38;5;28;01mas\u001b[39;00m \u001b[38;5;21;01mnd\u001b[39;00m\n\u001b[0;32m      3\u001b[0m g \u001b[38;5;241m=\u001b[39m \u001b[38;5;28;01mlambda\u001b[39;00m x:(x\u001b[38;5;241m*\u001b[39m\u001b[38;5;241m*\u001b[39m\u001b[38;5;241m4\u001b[39m)\u001b[38;5;241m+\u001b[39mx \u001b[38;5;241m+\u001b[39m \u001b[38;5;241m1\u001b[39m\n\u001b[0;32m      4\u001b[0m grad1 \u001b[38;5;241m=\u001b[39m nd\u001b[38;5;241m.\u001b[39mGradient(g)([\u001b[38;5;241m1\u001b[39m])\n",
      "\u001b[1;31mModuleNotFoundError\u001b[0m: No module named 'numdifftools'"
     ]
    }
   ],
   "source": [
    "import numdifftools as nd\n",
    "\n",
    "g = lambda x:(x**4)+x + 1\n",
    "grad1 = nd.Gradient(g)([1])\n",
    "print(\"Gradient of x ^ 4 + x+1 at = 1 is \", grad1)\n",
    "\n",
    "def rosen(x):\n",
    "    return (1-x[0])**2 +(x[1]-x[0]**2)**2\n",
    "\n",
    "grad2 = nd.Gradient(rosen)([1, 2])\n",
    "print(\"Gradient of (1-x ^ 2)+(y-x ^ 2)^2 at (1, 2) is \", grad2)"
   ]
  },
  {
   "cell_type": "code",
   "execution_count": 12,
   "id": "166dfc4c",
   "metadata": {},
   "outputs": [
    {
     "name": "stdout",
     "output_type": "stream",
     "text": [
      "[1 2 3 4 5]\n",
      "15.0\n"
     ]
    }
   ],
   "source": [
    "from numpy import array\n",
    "from numpy.linalg import norm\n",
    "arr = array([1, 2, 3, 4, 5])\n",
    "print(arr)\n",
    "norm_l1 = norm(arr, 1)\n",
    "print(norm_l1)"
   ]
  },
  {
   "cell_type": "code",
   "execution_count": 15,
   "id": "c2971a18",
   "metadata": {},
   "outputs": [
    {
     "name": "stdout",
     "output_type": "stream",
     "text": [
      "[[1 2 1]\n",
      " [0 1 0]\n",
      " [1 0 1]]\n",
      "[[ 7.07106781e-01 -7.07106781e-01  2.00093587e-17]\n",
      " [ 0.00000000e+00  0.00000000e+00  4.47213595e-01]\n",
      " [ 7.07106781e-01  7.07106781e-01 -8.94427191e-01]]\n",
      "[2. 0. 1.]\n"
     ]
    },
    {
     "data": {
      "text/plain": [
       "array([[ 1.,  2.,  1.],\n",
       "       [ 0.,  1.,  0.],\n",
       "       [ 1., -0.,  1.]])"
      ]
     },
     "execution_count": 15,
     "metadata": {},
     "output_type": "execute_result"
    }
   ],
   "source": [
    "import numpy as np\n",
    "M = np.array([ [1,2,1], [0,1,0], [1,0,1]])\n",
    "print(M)\n",
    "Lambda, U = np.linalg.eig(M)\n",
    "print(U)\n",
    "print(Lambda)\n",
    "inv_U = np.linalg.inv(U)\n",
    "inv_U\n",
    "Λ = np.diag(Lambda)\n",
    "Λ\n",
    "def round(values, decs=0): \n",
    "  return np.round(values*10**decs)/(10**decs)\n",
    "\n",
    "vec = np.dot(U,np.dot(Λ, inv_U))\n",
    "round(vec, decs=0)    "
   ]
  },
  {
   "cell_type": "code",
   "execution_count": null,
   "id": "2b4830ac",
   "metadata": {},
   "outputs": [],
   "source": []
  }
 ],
 "metadata": {
  "kernelspec": {
   "display_name": "Python 3 (ipykernel)",
   "language": "python",
   "name": "python3"
  },
  "language_info": {
   "codemirror_mode": {
    "name": "ipython",
    "version": 3
   },
   "file_extension": ".py",
   "mimetype": "text/x-python",
   "name": "python",
   "nbconvert_exporter": "python",
   "pygments_lexer": "ipython3",
   "version": "3.9.12"
  }
 },
 "nbformat": 4,
 "nbformat_minor": 5
}
