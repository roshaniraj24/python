{
 "cells": [
  {
   "cell_type": "markdown",
   "id": "c0475ada",
   "metadata": {},
   "source": [
    "# 1... Consider the credit card dataset which contains the following\n",
    "columns:"
   ]
  },
  {
   "cell_type": "code",
   "execution_count": 28,
   "id": "9c51cc7c",
   "metadata": {},
   "outputs": [],
   "source": [
    "# import numpy as np\n",
    "import pandas as pd\n",
    "import matplotlib.pyplot as plt\n",
    "import matplotlib.cm as cm"
   ]
  },
  {
   "cell_type": "code",
   "execution_count": 29,
   "id": "a0150f1b",
   "metadata": {},
   "outputs": [
    {
     "data": {
      "text/html": [
       "<div>\n",
       "<style scoped>\n",
       "    .dataframe tbody tr th:only-of-type {\n",
       "        vertical-align: middle;\n",
       "    }\n",
       "\n",
       "    .dataframe tbody tr th {\n",
       "        vertical-align: top;\n",
       "    }\n",
       "\n",
       "    .dataframe thead th {\n",
       "        text-align: right;\n",
       "    }\n",
       "</style>\n",
       "<table border=\"1\" class=\"dataframe\">\n",
       "  <thead>\n",
       "    <tr style=\"text-align: right;\">\n",
       "      <th></th>\n",
       "      <th>CLIENTNUM</th>\n",
       "      <th>Attrition_Flag</th>\n",
       "      <th>Customer_Age</th>\n",
       "      <th>Gender</th>\n",
       "      <th>Dependent_count</th>\n",
       "      <th>Education_Level</th>\n",
       "      <th>Income_Category</th>\n",
       "      <th>Credit_Limit</th>\n",
       "      <th>Total_Revolving_Bal</th>\n",
       "      <th>Avg_Purchase</th>\n",
       "      <th>Total_Trans_Amt</th>\n",
       "    </tr>\n",
       "  </thead>\n",
       "  <tbody>\n",
       "    <tr>\n",
       "      <th>0</th>\n",
       "      <td>768805383</td>\n",
       "      <td>Existing Customer</td>\n",
       "      <td>45</td>\n",
       "      <td>M</td>\n",
       "      <td>3</td>\n",
       "      <td>High School</td>\n",
       "      <td>$60K - $80K</td>\n",
       "      <td>12691.0</td>\n",
       "      <td>777</td>\n",
       "      <td>11914.0</td>\n",
       "      <td>1144</td>\n",
       "    </tr>\n",
       "    <tr>\n",
       "      <th>1</th>\n",
       "      <td>818770008</td>\n",
       "      <td>Existing Customer</td>\n",
       "      <td>49</td>\n",
       "      <td>F</td>\n",
       "      <td>5</td>\n",
       "      <td>Graduate</td>\n",
       "      <td>Less than $40K</td>\n",
       "      <td>8256.0</td>\n",
       "      <td>864</td>\n",
       "      <td>7392.0</td>\n",
       "      <td>1291</td>\n",
       "    </tr>\n",
       "    <tr>\n",
       "      <th>2</th>\n",
       "      <td>713982108</td>\n",
       "      <td>Existing Customer</td>\n",
       "      <td>51</td>\n",
       "      <td>M</td>\n",
       "      <td>3</td>\n",
       "      <td>Graduate</td>\n",
       "      <td>$80K - $120K</td>\n",
       "      <td>3418.0</td>\n",
       "      <td>0</td>\n",
       "      <td>3418.0</td>\n",
       "      <td>1887</td>\n",
       "    </tr>\n",
       "    <tr>\n",
       "      <th>3</th>\n",
       "      <td>769911858</td>\n",
       "      <td>Existing Customer</td>\n",
       "      <td>40</td>\n",
       "      <td>F</td>\n",
       "      <td>4</td>\n",
       "      <td>High School</td>\n",
       "      <td>Less than $40K</td>\n",
       "      <td>3313.0</td>\n",
       "      <td>2517</td>\n",
       "      <td>796.0</td>\n",
       "      <td>1171</td>\n",
       "    </tr>\n",
       "    <tr>\n",
       "      <th>4</th>\n",
       "      <td>709106358</td>\n",
       "      <td>Existing Customer</td>\n",
       "      <td>40</td>\n",
       "      <td>M</td>\n",
       "      <td>3</td>\n",
       "      <td>Uneducated</td>\n",
       "      <td>$60K - $80K</td>\n",
       "      <td>4716.0</td>\n",
       "      <td>0</td>\n",
       "      <td>4716.0</td>\n",
       "      <td>816</td>\n",
       "    </tr>\n",
       "    <tr>\n",
       "      <th>...</th>\n",
       "      <td>...</td>\n",
       "      <td>...</td>\n",
       "      <td>...</td>\n",
       "      <td>...</td>\n",
       "      <td>...</td>\n",
       "      <td>...</td>\n",
       "      <td>...</td>\n",
       "      <td>...</td>\n",
       "      <td>...</td>\n",
       "      <td>...</td>\n",
       "      <td>...</td>\n",
       "    </tr>\n",
       "    <tr>\n",
       "      <th>95</th>\n",
       "      <td>719712633</td>\n",
       "      <td>Existing Customer</td>\n",
       "      <td>64</td>\n",
       "      <td>M</td>\n",
       "      <td>1</td>\n",
       "      <td>Graduate</td>\n",
       "      <td>Less than $40K</td>\n",
       "      <td>1709.0</td>\n",
       "      <td>895</td>\n",
       "      <td>814.0</td>\n",
       "      <td>1673</td>\n",
       "    </tr>\n",
       "    <tr>\n",
       "      <th>96</th>\n",
       "      <td>772629333</td>\n",
       "      <td>Existing Customer</td>\n",
       "      <td>45</td>\n",
       "      <td>M</td>\n",
       "      <td>3</td>\n",
       "      <td>Graduate</td>\n",
       "      <td>$40K - $60K</td>\n",
       "      <td>3454.0</td>\n",
       "      <td>1200</td>\n",
       "      <td>2254.0</td>\n",
       "      <td>1313</td>\n",
       "    </tr>\n",
       "    <tr>\n",
       "      <th>97</th>\n",
       "      <td>720336708</td>\n",
       "      <td>Existing Customer</td>\n",
       "      <td>53</td>\n",
       "      <td>M</td>\n",
       "      <td>3</td>\n",
       "      <td>Doctorate</td>\n",
       "      <td>$40K - $60K</td>\n",
       "      <td>3789.0</td>\n",
       "      <td>1706</td>\n",
       "      <td>2083.0</td>\n",
       "      <td>1609</td>\n",
       "    </tr>\n",
       "    <tr>\n",
       "      <th>98</th>\n",
       "      <td>802013583</td>\n",
       "      <td>Existing Customer</td>\n",
       "      <td>56</td>\n",
       "      <td>M</td>\n",
       "      <td>3</td>\n",
       "      <td>College</td>\n",
       "      <td>$120K +</td>\n",
       "      <td>9689.0</td>\n",
       "      <td>2250</td>\n",
       "      <td>7439.0</td>\n",
       "      <td>1158</td>\n",
       "    </tr>\n",
       "    <tr>\n",
       "      <th>99</th>\n",
       "      <td>711887583</td>\n",
       "      <td>Attrited Customer</td>\n",
       "      <td>47</td>\n",
       "      <td>M</td>\n",
       "      <td>2</td>\n",
       "      <td>Unknown</td>\n",
       "      <td>$80K - $120K</td>\n",
       "      <td>5449.0</td>\n",
       "      <td>1628</td>\n",
       "      <td>3821.0</td>\n",
       "      <td>836</td>\n",
       "    </tr>\n",
       "  </tbody>\n",
       "</table>\n",
       "<p>100 rows × 11 columns</p>\n",
       "</div>"
      ],
      "text/plain": [
       "    CLIENTNUM     Attrition_Flag  Customer_Age Gender  Dependent_count  \\\n",
       "0   768805383  Existing Customer            45      M                3   \n",
       "1   818770008  Existing Customer            49      F                5   \n",
       "2   713982108  Existing Customer            51      M                3   \n",
       "3   769911858  Existing Customer            40      F                4   \n",
       "4   709106358  Existing Customer            40      M                3   \n",
       "..        ...                ...           ...    ...              ...   \n",
       "95  719712633  Existing Customer            64      M                1   \n",
       "96  772629333  Existing Customer            45      M                3   \n",
       "97  720336708  Existing Customer            53      M                3   \n",
       "98  802013583  Existing Customer            56      M                3   \n",
       "99  711887583  Attrited Customer            47      M                2   \n",
       "\n",
       "   Education_Level Income_Category  Credit_Limit  Total_Revolving_Bal  \\\n",
       "0      High School     $60K - $80K       12691.0                  777   \n",
       "1         Graduate  Less than $40K        8256.0                  864   \n",
       "2         Graduate    $80K - $120K        3418.0                    0   \n",
       "3      High School  Less than $40K        3313.0                 2517   \n",
       "4       Uneducated     $60K - $80K        4716.0                    0   \n",
       "..             ...             ...           ...                  ...   \n",
       "95        Graduate  Less than $40K        1709.0                  895   \n",
       "96        Graduate     $40K - $60K        3454.0                 1200   \n",
       "97       Doctorate     $40K - $60K        3789.0                 1706   \n",
       "98         College         $120K +        9689.0                 2250   \n",
       "99         Unknown    $80K - $120K        5449.0                 1628   \n",
       "\n",
       "    Avg_Purchase  Total_Trans_Amt  \n",
       "0        11914.0             1144  \n",
       "1         7392.0             1291  \n",
       "2         3418.0             1887  \n",
       "3          796.0             1171  \n",
       "4         4716.0              816  \n",
       "..           ...              ...  \n",
       "95         814.0             1673  \n",
       "96        2254.0             1313  \n",
       "97        2083.0             1609  \n",
       "98        7439.0             1158  \n",
       "99        3821.0              836  \n",
       "\n",
       "[100 rows x 11 columns]"
      ]
     },
     "execution_count": 29,
     "metadata": {},
     "output_type": "execute_result"
    }
   ],
   "source": [
    "credit_df = pd.read_csv(\"creditcard_DV.csv\")\n",
    "credit_df"
   ]
  },
  {
   "cell_type": "markdown",
   "id": "c9209cdc",
   "metadata": {},
   "source": [
    "# 2...Create a bivariate plot to find if there is a correlation between \n",
    "credit card limit and average purchase made on the card."
   ]
  },
  {
   "cell_type": "code",
   "execution_count": 30,
   "id": "9ffe0285",
   "metadata": {},
   "outputs": [
    {
     "data": {
      "text/plain": [
       "Text(0.5, 1.0, 'Credit_Limit vs Avg_Purchase')"
      ]
     },
     "execution_count": 30,
     "metadata": {},
     "output_type": "execute_result"
    },
    {
     "data": {
      "image/png": "[encoded data removed]",
      "text/plain": [
       "<Figure size 720x504 with 1 Axes>"
      ]
     },
     "metadata": {
      "needs_background": "light"
     },
     "output_type": "display_data"
    }
   ],
   "source": [
    "ax = credit_df.plot(\"Credit_Limit\",\"Avg_Purchase\",kind=\"scatter\", color = \"red\",marker = \"o\",figsize=(10,7))\n",
    "\n",
    "ax.set_xlabel(\"Credit_Limit\") \n",
    "ax.set_ylabel(\"Avg_Purchase\") \n",
    "ax.set_title(\"Credit_Limit vs Avg_Purchase\",fontsize=16)"
   ]
  },
  {
   "cell_type": "markdown",
   "id": "c3ea7041",
   "metadata": {},
   "source": [
    "# 3... Visualise the distribution of values for credit card limit and av\u0002erage purchase made on the card. Also, identify the outliers in\n",
    "the data, if any"
   ]
  },
  {
   "cell_type": "code",
   "execution_count": 31,
   "id": "e73802d2",
   "metadata": {},
   "outputs": [
    {
     "data": {
      "text/plain": [
       "count      100.000000\n",
       "mean     10881.756000\n",
       "std      10056.333148\n",
       "min       1438.300000\n",
       "25%       3309.250000\n",
       "50%       6666.000000\n",
       "75%      14746.500000\n",
       "max      34516.000000\n",
       "Name: Credit_Limit, dtype: float64"
      ]
     },
     "execution_count": 31,
     "metadata": {},
     "output_type": "execute_result"
    }
   ],
   "source": [
    "credit_df[\"Credit_Limit\"].describe()"
   ]
  },
  {
   "cell_type": "code",
   "execution_count": 32,
   "id": "bb76b6ee",
   "metadata": {},
   "outputs": [
    {
     "data": {
      "text/plain": [
       "Text(0.5, 1.0, 'Credit limit title')"
      ]
     },
     "execution_count": 32,
     "metadata": {},
     "output_type": "execute_result"
    },
    {
     "data": {
      "image/png": "[encoded data removed]",
      "text/plain": [
       "<Figure size 432x288 with 1 Axes>"
      ]
     },
     "metadata": {
      "needs_background": "light"
     },
     "output_type": "display_data"
    }
   ],
   "source": [
    "ax = credit_df[\"Credit_Limit\"].plot(kind=\"box\")\n",
    "ax.set_title(\"Credit limit title\")"
   ]
  },
  {
   "cell_type": "code",
   "execution_count": 33,
   "id": "8404bbf6",
   "metadata": {},
   "outputs": [
    {
     "data": {
      "image/png": "[encoded data removed]",
      "text/plain": [
       "<Figure size 432x288 with 1 Axes>"
      ]
     },
     "metadata": {
      "needs_background": "light"
     },
     "output_type": "display_data"
    }
   ],
   "source": [
    "fig, ax1 = plt.subplots(1, 1)\n",
    "ax1.boxplot(credit_df[\"Credit_Limit\"])\n",
    "\n",
    "ax1.set_title('Distribution of Credit_Limit')\n",
    "ax1.set_xlabel('Credit Limit')\n",
    "\n",
    "fig.tight_layout()"
   ]
  },
  {
   "cell_type": "code",
   "execution_count": 34,
   "id": "1d6179b6",
   "metadata": {},
   "outputs": [
    {
     "data": {
      "image/png": "[encoded data removed]",
      "text/plain": [
       "<Figure size 432x288 with 2 Axes>"
      ]
     },
     "metadata": {
      "needs_background": "light"
     },
     "output_type": "display_data"
    }
   ],
   "source": [
    "fig, (ax1, ax2) = plt.subplots(1, 2)\n",
    "ax1.boxplot(credit_df[\"Credit_Limit\"])\n",
    "ax2.boxplot(credit_df[\"Avg_Purchase\"])\n",
    "\n",
    "ax1.set_title('Distribution of Credit_Limit')\n",
    "ax1.set_xlabel('Credit Limit')\n",
    "\n",
    "ax2.set_title('Average Purchase')\n",
    "ax2.set_xlabel('Avg Purchase')\n",
    "fig.tight_layout()"
   ]
  },
  {
   "cell_type": "code",
   "execution_count": 36,
   "id": "65b9de06",
   "metadata": {},
   "outputs": [
    {
     "name": "stdout",
     "output_type": "stream",
     "text": [
      "IQR: 11437.25\n",
      "upper_bound: 31902.375\n",
      "lower_bound: -13846.625\n"
     ]
    }
   ],
   "source": [
    "import numpy as np\n",
    "cr_limit_arr = credit_df[\"Credit_Limit\"]\n",
    "q1 = np.quantile(cr_limit_arr, 0.25)\n",
    "\n",
    "q3 = np.quantile(cr_limit_arr, 0.75)\n",
    "med = np.median(cr_limit_arr)\n",
    "\n",
    "iqr = q3-q1\n",
    "\n",
    "upper_bound = q3+(1.5*iqr)\n",
    "lower_bound = q1-(1.5*iqr)\n",
    "print(\"IQR:\",iqr)\n",
    "print(\"upper_bound:\",upper_bound)\n",
    "print(\"lower_bound:\",lower_bound)"
   ]
  },
  {
   "cell_type": "code",
   "execution_count": null,
   "id": "0ef3a94a",
   "metadata": {},
   "outputs": [],
   "source": [
    "outliers = cr_limit_arr[(cr_limit_arr <= lower_bound) | (cr_limit_arr >= upper_bound)]\n",
    "print('The following are the outliers in the boxplot of Credit Limit: \\n',outliers)"
   ]
  },
  {
   "cell_type": "code",
   "execution_count": null,
   "id": "e8849541",
   "metadata": {},
   "outputs": [],
   "source": [
    "x = credit_df['Credit_Limit']\n",
    "v = x[(x == 34516)]\n",
    "v"
   ]
  },
  {
   "cell_type": "code",
   "execution_count": null,
   "id": "226950f9",
   "metadata": {},
   "outputs": [],
   "source": [
    "avg_purchase = credit_df[\"Avg_Purchase\"]\n",
    "\n",
    "q1 = np.quantile(avg_purchase, 0.25)\n",
    "\n",
    "q3 = np.quantile(avg_purchase, 0.75)\n",
    "med = np.median(avg_purchase)\n",
    "\n",
    "iqr = q3-q1\n",
    "\n",
    "upper_bound = q3+(1.5*iqr)\n",
    "lower_bound = q1-(1.5*iqr)\n",
    "print(\"IQR:\",iqr)\n",
    "print(\"upper_bound:\",upper_bound)\n",
    "print(\"lower_bound:\",lower_bound)"
   ]
  },
  {
   "cell_type": "code",
   "execution_count": null,
   "id": "835c63e4",
   "metadata": {},
   "outputs": [],
   "source": [
    "outliers = avg_purchase[(avg_purchase <= lower_bound) | (avg_purchase >= upper_bound)]\n",
    "print('The following are the outliers in the boxplot of Average Purchase: \\n',outliers)"
   ]
  },
  {
   "cell_type": "markdown",
   "id": "76e5e2c1",
   "metadata": {},
   "source": [
    "# 4...Provide a visual representation of the number of customers in\n",
    "each income group using a bar chart."
   ]
  },
  {
   "cell_type": "code",
   "execution_count": null,
   "id": "867d3fe9",
   "metadata": {},
   "outputs": [],
   "source": [
    "categories = credit_df[\"Income_Category\"].unique()\n",
    "categories"
   ]
  },
  {
   "cell_type": "code",
   "execution_count": null,
   "id": "b0abac72",
   "metadata": {},
   "outputs": [],
   "source": [
    "count_df = pd.DataFrame(credit_df[[\"Income_Category\"]].groupby(by=\"Income_Category\").size().reset_index())\n",
    "count_df.columns = [[\"Income_Category\",\"Count\"]]\n",
    "count_df"
   ]
  },
  {
   "cell_type": "code",
   "execution_count": null,
   "id": "9ad0fe6c",
   "metadata": {},
   "outputs": [],
   "source": [
    "count_df.set_index('Income_Category',inplace = True)\n",
    "count_df"
   ]
  },
  {
   "cell_type": "code",
   "execution_count": null,
   "id": "81c6d492",
   "metadata": {},
   "outputs": [],
   "source": [
    "count_df['Count'].plot(kind=\"barh\")\n",
    "plt.title(\"numbser of customers in each income group\")\n",
    "plt.xlabel(\"Income_Category\")\n",
    "plt.ylabel(\"Count\")"
   ]
  },
  {
   "cell_type": "markdown",
   "id": "ce363721",
   "metadata": {},
   "source": [
    "# 5... Plot the frequency distribution of the total transaction amount."
   ]
  },
  {
   "cell_type": "code",
   "execution_count": null,
   "id": "12fffea5",
   "metadata": {},
   "outputs": [],
   "source": [
    "credit_df[\"Total_Trans_Amt\"].min()"
   ]
  },
  {
   "cell_type": "code",
   "execution_count": null,
   "id": "5efdb00a",
   "metadata": {},
   "outputs": [],
   "source": [
    "credit_df[\"Total_Trans_Amt\"].max()"
   ]
  },
  {
   "cell_type": "code",
   "execution_count": null,
   "id": "f6b6a88b",
   "metadata": {},
   "outputs": [],
   "source": [
    "credit_df[\"Total_Trans_Amt\"].max() - credit_df[\"Total_Trans_Amt\"].min()"
   ]
  },
  {
   "cell_type": "code",
   "execution_count": null,
   "id": "7c91d165",
   "metadata": {},
   "outputs": [],
   "source": [
    "credit_df[\"Total_Trans_Amt\"].plot(kind=\"hist\")\n",
    "plt.title(\"frequency distribution of the total transaction amount\", fontsize=16)\n",
    "plt.legend()"
   ]
  },
  {
   "cell_type": "markdown",
   "id": "ac49ce46",
   "metadata": {},
   "source": [
    "# 6...Graphically represent the percentage of customers retained and\n",
    "those attrited. Highlight the latter by slicing it apart from the\n",
    "main pie"
   ]
  },
  {
   "cell_type": "code",
   "execution_count": 37,
   "id": "5830b20a",
   "metadata": {},
   "outputs": [
    {
     "data": {
      "text/html": [
       "<div>\n",
       "<style scoped>\n",
       "    .dataframe tbody tr th:only-of-type {\n",
       "        vertical-align: middle;\n",
       "    }\n",
       "\n",
       "    .dataframe tbody tr th {\n",
       "        vertical-align: top;\n",
       "    }\n",
       "\n",
       "    .dataframe thead tr th {\n",
       "        text-align: left;\n",
       "    }\n",
       "</style>\n",
       "<table border=\"1\" class=\"dataframe\">\n",
       "  <thead>\n",
       "    <tr>\n",
       "      <th></th>\n",
       "      <th>Attrition_Flag</th>\n",
       "      <th>count</th>\n",
       "    </tr>\n",
       "  </thead>\n",
       "  <tbody>\n",
       "    <tr>\n",
       "      <th>0</th>\n",
       "      <td>Attrited Customer</td>\n",
       "      <td>7</td>\n",
       "    </tr>\n",
       "    <tr>\n",
       "      <th>1</th>\n",
       "      <td>Existing Customer</td>\n",
       "      <td>93</td>\n",
       "    </tr>\n",
       "  </tbody>\n",
       "</table>\n",
       "</div>"
      ],
      "text/plain": [
       "      Attrition_Flag count\n",
       "0  Attrited Customer     7\n",
       "1  Existing Customer    93"
      ]
     },
     "execution_count": 37,
     "metadata": {},
     "output_type": "execute_result"
    }
   ],
   "source": [
    "Attrition_df = pd.DataFrame(credit_df[[\"Attrition_Flag\"]].groupby(by = [\"Attrition_Flag\"]).size().reset_index())\n",
    "Attrition_df.columns = [[\"Attrition_Flag\",\"count\"]]\n",
    "Attrition_df                    "
   ]
  },
  {
   "cell_type": "code",
   "execution_count": 38,
   "id": "46f6fc23",
   "metadata": {},
   "outputs": [
    {
     "data": {
      "text/html": [
       "<div>\n",
       "<style scoped>\n",
       "    .dataframe tbody tr th:only-of-type {\n",
       "        vertical-align: middle;\n",
       "    }\n",
       "\n",
       "    .dataframe tbody tr th {\n",
       "        vertical-align: top;\n",
       "    }\n",
       "\n",
       "    .dataframe thead tr th {\n",
       "        text-align: left;\n",
       "    }\n",
       "\n",
       "    .dataframe thead tr:last-of-type th {\n",
       "        text-align: right;\n",
       "    }\n",
       "</style>\n",
       "<table border=\"1\" class=\"dataframe\">\n",
       "  <thead>\n",
       "    <tr>\n",
       "      <th></th>\n",
       "      <th>count</th>\n",
       "    </tr>\n",
       "    <tr>\n",
       "      <th>Attrition_Flag</th>\n",
       "      <th></th>\n",
       "    </tr>\n",
       "  </thead>\n",
       "  <tbody>\n",
       "    <tr>\n",
       "      <th>(Attrited Customer,)</th>\n",
       "      <td>7</td>\n",
       "    </tr>\n",
       "    <tr>\n",
       "      <th>(Existing Customer,)</th>\n",
       "      <td>93</td>\n",
       "    </tr>\n",
       "  </tbody>\n",
       "</table>\n",
       "</div>"
      ],
      "text/plain": [
       "                     count\n",
       "Attrition_Flag            \n",
       "(Attrited Customer,)     7\n",
       "(Existing Customer,)    93"
      ]
     },
     "execution_count": 38,
     "metadata": {},
     "output_type": "execute_result"
    }
   ],
   "source": [
    "Attrition_df.set_index('Attrition_Flag', inplace = True)\n",
    "Attrition_df"
   ]
  },
  {
   "cell_type": "code",
   "execution_count": 39,
   "id": "704157cf",
   "metadata": {},
   "outputs": [
    {
     "data": {
      "text/plain": [
       "<AxesSubplot:ylabel='(count,)'>"
      ]
     },
     "execution_count": 39,
     "metadata": {},
     "output_type": "execute_result"
    },
    {
     "data": {
      "image/png": "[encoded data removed]",
      "text/plain": [
       "<Figure size 432x288 with 1 Axes>"
      ]
     },
     "metadata": {},
     "output_type": "display_data"
    }
   ],
   "source": [
    "explode = (0.05, 0.05)\n",
    "Attrition_df.plot(kind='pie', y='count', autopct='%1.0f%%',explode=explode)"
   ]
  },
  {
   "cell_type": "markdown",
   "id": "6280ea83",
   "metadata": {},
   "source": [
    "# 7... Consider the Cars93 dataset which contains the following\n",
    "columns:"
   ]
  },
  {
   "cell_type": "code",
   "execution_count": 41,
   "id": "a6e706be",
   "metadata": {},
   "outputs": [
    {
     "data": {
      "text/html": [
       "<div>\n",
       "<style scoped>\n",
       "    .dataframe tbody tr th:only-of-type {\n",
       "        vertical-align: middle;\n",
       "    }\n",
       "\n",
       "    .dataframe tbody tr th {\n",
       "        vertical-align: top;\n",
       "    }\n",
       "\n",
       "    .dataframe thead th {\n",
       "        text-align: right;\n",
       "    }\n",
       "</style>\n",
       "<table border=\"1\" class=\"dataframe\">\n",
       "  <thead>\n",
       "    <tr style=\"text-align: right;\">\n",
       "      <th></th>\n",
       "      <th>Manufacturer</th>\n",
       "      <th>Model</th>\n",
       "      <th>Type</th>\n",
       "      <th>Price</th>\n",
       "      <th>MPG.city</th>\n",
       "      <th>MPG.highway</th>\n",
       "      <th>Horsepower</th>\n",
       "      <th>Rear.seat.room</th>\n",
       "      <th>Passengers</th>\n",
       "    </tr>\n",
       "  </thead>\n",
       "  <tbody>\n",
       "    <tr>\n",
       "      <th>0</th>\n",
       "      <td>Acura</td>\n",
       "      <td>Integra</td>\n",
       "      <td>Small</td>\n",
       "      <td>15.9</td>\n",
       "      <td>25</td>\n",
       "      <td>31</td>\n",
       "      <td>140</td>\n",
       "      <td>26.5</td>\n",
       "      <td>5</td>\n",
       "    </tr>\n",
       "    <tr>\n",
       "      <th>1</th>\n",
       "      <td>Acura</td>\n",
       "      <td>Legend</td>\n",
       "      <td>Midsize</td>\n",
       "      <td>33.9</td>\n",
       "      <td>18</td>\n",
       "      <td>25</td>\n",
       "      <td>200</td>\n",
       "      <td>30.0</td>\n",
       "      <td>5</td>\n",
       "    </tr>\n",
       "    <tr>\n",
       "      <th>2</th>\n",
       "      <td>Audi</td>\n",
       "      <td>90</td>\n",
       "      <td>Compact</td>\n",
       "      <td>29.1</td>\n",
       "      <td>20</td>\n",
       "      <td>26</td>\n",
       "      <td>172</td>\n",
       "      <td>28.0</td>\n",
       "      <td>5</td>\n",
       "    </tr>\n",
       "    <tr>\n",
       "      <th>3</th>\n",
       "      <td>Audi</td>\n",
       "      <td>100</td>\n",
       "      <td>Midsize</td>\n",
       "      <td>37.7</td>\n",
       "      <td>19</td>\n",
       "      <td>26</td>\n",
       "      <td>172</td>\n",
       "      <td>31.0</td>\n",
       "      <td>6</td>\n",
       "    </tr>\n",
       "    <tr>\n",
       "      <th>4</th>\n",
       "      <td>BMW</td>\n",
       "      <td>535i</td>\n",
       "      <td>Midsize</td>\n",
       "      <td>30.0</td>\n",
       "      <td>22</td>\n",
       "      <td>30</td>\n",
       "      <td>208</td>\n",
       "      <td>27.0</td>\n",
       "      <td>4</td>\n",
       "    </tr>\n",
       "  </tbody>\n",
       "</table>\n",
       "</div>"
      ],
      "text/plain": [
       "  Manufacturer    Model     Type  Price  MPG.city  MPG.highway  Horsepower  \\\n",
       "0        Acura  Integra    Small   15.9        25           31         140   \n",
       "1        Acura   Legend  Midsize   33.9        18           25         200   \n",
       "2         Audi       90  Compact   29.1        20           26         172   \n",
       "3         Audi      100  Midsize   37.7        19           26         172   \n",
       "4          BMW     535i  Midsize   30.0        22           30         208   \n",
       "\n",
       "   Rear.seat.room  Passengers  \n",
       "0            26.5           5  \n",
       "1            30.0           5  \n",
       "2            28.0           5  \n",
       "3            31.0           6  \n",
       "4            27.0           4  "
      ]
     },
     "execution_count": 41,
     "metadata": {},
     "output_type": "execute_result"
    }
   ],
   "source": [
    "cars_df = pd.read_csv(\"Cars93.csv\")\n",
    "columns = [\"Manufacturer\",\"Model\",\"Type\",\"Price\",\"MPG.city\",\"MPG.highway\",\"Horsepower\",\"Rear.seat.room\",\"Passengers\"]\n",
    "cars_df[columns].head()"
   ]
  },
  {
   "cell_type": "markdown",
   "id": "d66d79ba",
   "metadata": {},
   "source": [
    "# 8... Visualize the spread of data for the 'Price' Columns"
   ]
  },
  {
   "cell_type": "code",
   "execution_count": 42,
   "id": "5fcc7c7d",
   "metadata": {},
   "outputs": [
    {
     "data": {
      "text/plain": [
       "<AxesSubplot:>"
      ]
     },
     "execution_count": 42,
     "metadata": {},
     "output_type": "execute_result"
    },
    {
     "data": {
      "image/png": "[encoded data removed]",
      "text/plain": [
       "<Figure size 720x504 with 1 Axes>"
      ]
     },
     "metadata": {
      "needs_background": "light"
     },
     "output_type": "display_data"
    }
   ],
   "source": [
    "cars_df[\"Price\"].plot(kind=\"box\",figsize = (10,7))"
   ]
  },
  {
   "cell_type": "markdown",
   "id": "8999cebf",
   "metadata": {},
   "source": [
    "# 9... Visualize the distribution of price for compact and large type of cars"
   ]
  },
  {
   "cell_type": "code",
   "execution_count": 44,
   "id": "0d57a21f",
   "metadata": {},
   "outputs": [
    {
     "data": {
      "image/png": "[encoded data removed]",
      "text/plain": [
       "<Figure size 720x504 with 2 Axes>"
      ]
     },
     "metadata": {
      "needs_background": "light"
     },
     "output_type": "display_data"
    }
   ],
   "source": [
    "fig, (ax1, ax2) = plt.subplots(1, 2)\n",
    "fig.set_figwidth(10)\n",
    "fig.set_figheight(7)\n",
    "\n",
    "ax1.boxplot(cars_df[\"Horsepower\"])\n",
    "ax2.boxplot(cars_df[\"MPG.city\"])\n",
    "\n",
    "ax1.set_title('Horsepower')\n",
    "ax1.set_xlabel('Horsepower')\n",
    "ax2.set_title('city Mileage')\n",
    "ax2.set_xlabel(\"City Mileaga (in miles per US gallon)\")\n",
    "\n",
    "fig.tight_layout()"
   ]
  },
  {
   "cell_type": "markdown",
   "id": "1f647f93",
   "metadata": {},
   "source": [
    "# 10... Visualize the distribution of price for each type of car"
   ]
  },
  {
   "cell_type": "code",
   "execution_count": 45,
   "id": "711d2ed9",
   "metadata": {},
   "outputs": [
    {
     "data": {
      "text/plain": [
       "Text(0.5, 1.0, 'Van')"
      ]
     },
     "execution_count": 45,
     "metadata": {},
     "output_type": "execute_result"
    },
    {
     "data": {
      "image/png": "[encoded data removed]",
      "text/plain": [
       "<Figure size 720x504 with 6 Axes>"
      ]
     },
     "metadata": {
      "needs_background": "light"
     },
     "output_type": "display_data"
    }
   ],
   "source": [
    "fig, ax = plt.subplots(2, 3)\n",
    "fig.set_figwidth(10)\n",
    "fig.set_figheight(7)\n",
    "fig.suptitle(\"Multiple Box Plots\", fontsize=16)\n",
    "\n",
    "ax[0][0].boxplot(cars_df[\"Price\"][cars_df[\"Type\"]==\"Compact\"])\n",
    "ax[0][0].set_title('Compact')\n",
    "\n",
    "ax[0][1].boxplot(cars_df[\"Price\"][cars_df[\"Type\"]==\"Large\"])\n",
    "ax[0][1].set_title('Large')\n",
    "\n",
    "ax[0][2].boxplot(cars_df[\"Price\"][cars_df[\"Type\"]==\"Midsize\"])\n",
    "ax[0][2].set_title('Midsize')\n",
    "\n",
    "ax[1][0].boxplot(cars_df[\"Price\"][cars_df[\"Type\"]==\"small\"])\n",
    "ax[1][0].set_title('small')\n",
    "\n",
    "ax[1][1].boxplot(cars_df[\"Price\"][cars_df[\"Type\"]==\"Sporty\"])\n",
    "ax[1][1].set_title('Sporty')\n",
    "\n",
    "ax[1][2].boxplot(cars_df[\"Price\"][cars_df[\"Type\"]==\"Van\"])\n",
    "ax[1][2].set_title('Van')"
   ]
  },
  {
   "cell_type": "markdown",
   "id": "81daa3b7",
   "metadata": {},
   "source": [
    "# 11... Visualize the correlation between Horsepower and Mileage in the city"
   ]
  },
  {
   "cell_type": "code",
   "execution_count": 46,
   "id": "1391f87a",
   "metadata": {},
   "outputs": [
    {
     "data": {
      "text/plain": [
       "Text(0.5, 1.0, 'Horsepower vs MPG.city')"
      ]
     },
     "execution_count": 46,
     "metadata": {},
     "output_type": "execute_result"
    },
    {
     "data": {
      "image/png": "[encoded data removed]",
      "text/plain": [
       "<Figure size 720x504 with 1 Axes>"
      ]
     },
     "metadata": {
      "needs_background": "light"
     },
     "output_type": "display_data"
    }
   ],
   "source": [
    "ax = cars_df.plot([\"Horsepower\"],[\"MPG.city\"],kind=\"scatter\", color= \"black\",marker = \"*\",figsize=(10,7))\n",
    "\n",
    "ax.set_xlabel(\"Horsepower\")\n",
    "ax.set_ylabel(\"MPG.city\")\n",
    "ax.set_title(\"Horsepower vs MPG.city\",fontsize=16)"
   ]
  },
  {
   "cell_type": "markdown",
   "id": "4fc6ee59",
   "metadata": {},
   "source": [
    "# 12... Visualize the correlation between Horsepower and Mileage in the city for each type of car"
   ]
  },
  {
   "cell_type": "code",
   "execution_count": null,
   "id": "ad0cb6b0",
   "metadata": {},
   "outputs": [],
   "source": []
  }
 ],
 "metadata": {
  "kernelspec": {
   "display_name": "Python 3 (ipykernel)",
   "language": "python",
   "name": "python3"
  },
  "language_info": {
   "codemirror_mode": {
    "name": "ipython",
    "version": 3
   },
   "file_extension": ".py",
   "mimetype": "text/x-python",
   "name": "python",
   "nbconvert_exporter": "python",
   "pygments_lexer": "ipython3",
   "version": "3.9.12"
  }
 },
 "nbformat": 4,
 "nbformat_minor": 5
}
