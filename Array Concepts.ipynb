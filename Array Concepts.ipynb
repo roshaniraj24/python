{
 "cells": [
  {
   "cell_type": "markdown",
   "id": "fe8eda88",
   "metadata": {},
   "source": [
    "# NUMPY LIBRARY"
   ]
  },
  {
   "cell_type": "code",
   "execution_count": 3,
   "id": "3794dd06",
   "metadata": {},
   "outputs": [
    {
     "data": {
      "text/plain": [
       "'1.21.5'"
      ]
     },
     "execution_count": 3,
     "metadata": {},
     "output_type": "execute_result"
    }
   ],
   "source": [
    "import numpy as np\n",
    "np.__version__\n",
    "'1.21.5'"
   ]
  },
  {
   "cell_type": "markdown",
   "id": "04cf3007",
   "metadata": {},
   "source": [
    "# CREATE A 1-D ARRAY USING array()"
   ]
  },
  {
   "cell_type": "code",
   "execution_count": 4,
   "id": "76075e7b",
   "metadata": {},
   "outputs": [
    {
     "name": "stdout",
     "output_type": "stream",
     "text": [
      "[1 2 3]\n",
      "int32\n",
      "(3,)\n"
     ]
    }
   ],
   "source": [
    "import numpy as np\n",
    "a=np.array([1,2,3])\n",
    "print(a)\n",
    "print(a.dtype)\n",
    "print(a.shape)"
   ]
  },
  {
   "cell_type": "markdown",
   "id": "2919a6d1",
   "metadata": {},
   "source": [
    "# Create A 1-D ARRAY USING arange()"
   ]
  },
  {
   "cell_type": "code",
   "execution_count": 5,
   "id": "14065239",
   "metadata": {},
   "outputs": [
    {
     "name": "stdout",
     "output_type": "stream",
     "text": [
      "[0 1 2]\n",
      "int32\n",
      "(3,)\n"
     ]
    }
   ],
   "source": [
    "import numpy as np\n",
    "a=np.arange(3)\n",
    "print(a)\n",
    "print(a.dtype)\n",
    "print(a.shape)"
   ]
  },
  {
   "cell_type": "markdown",
   "id": "137f8d31",
   "metadata": {},
   "source": [
    "# CREATE A 2-D ARRAY USING array()"
   ]
  },
  {
   "cell_type": "code",
   "execution_count": 6,
   "id": "fd396b99",
   "metadata": {},
   "outputs": [
    {
     "name": "stdout",
     "output_type": "stream",
     "text": [
      "[[1 2 3]\n",
      " [4 5 6]]\n",
      "int32\n",
      "(2, 3)\n"
     ]
    }
   ],
   "source": [
    "import numpy as np\n",
    "b=np.array(([1,2,3],[4,5,6]))\n",
    "print(b)\n",
    "print(b.dtype)\n",
    "print(b.shape)"
   ]
  },
  {
   "cell_type": "markdown",
   "id": "ad6e5e2b",
   "metadata": {},
   "source": [
    "# CREATE A 2-D ARRAY USING arange()"
   ]
  },
  {
   "cell_type": "code",
   "execution_count": 7,
   "id": "168b3f6c",
   "metadata": {},
   "outputs": [
    {
     "name": "stdout",
     "output_type": "stream",
     "text": [
      "[[0 1 2 3 4]\n",
      " [5 6 7 8 9]]\n",
      "int32\n",
      "(2, 5)\n"
     ]
    }
   ],
   "source": [
    "import numpy as np\n",
    "b=np.arange(10).reshape(2,5)\n",
    "print(b)\n",
    "print(b.dtype)\n",
    "print(b.shape)"
   ]
  },
  {
   "cell_type": "code",
   "execution_count": 8,
   "id": "7fdfacbb",
   "metadata": {},
   "outputs": [
    {
     "name": "stdout",
     "output_type": "stream",
     "text": [
      "[[0 1]\n",
      " [2 3]\n",
      " [4 5]\n",
      " [6 7]\n",
      " [8 9]]\n",
      "int32\n",
      "(5, 2)\n"
     ]
    }
   ],
   "source": [
    "import numpy as np\n",
    "b=np.arange(10).reshape(5,2)\n",
    "print(b)\n",
    "print(b.dtype)\n",
    "print(b.shape)"
   ]
  },
  {
   "cell_type": "markdown",
   "id": "b76d6534",
   "metadata": {},
   "source": [
    "# CREATE A 3-D ARRAY USING array()"
   ]
  },
  {
   "cell_type": "code",
   "execution_count": 9,
   "id": "5355ac2b",
   "metadata": {},
   "outputs": [
    {
     "name": "stdout",
     "output_type": "stream",
     "text": [
      "[[[ 1  2  3]\n",
      "  [ 5  6  7]]\n",
      "\n",
      " [[ 8  9 10]\n",
      "  [11 12 13]]\n",
      "\n",
      " [[14 15 16]\n",
      "  [17 18 19]]]\n",
      "int32\n",
      "(3, 2, 3)\n"
     ]
    }
   ],
   "source": [
    "import numpy as np\n",
    "c=np.array(\n",
    "    [\n",
    "    [[1,2,3],[5,6,7]],\n",
    "    [[8,9,10],[11,12,13]],\n",
    "    [[14,15,16],[17,18,19]]\n",
    "    ]\n",
    ")\n",
    "print(c)\n",
    "print(c.dtype)\n",
    "print(c.shape)"
   ]
  },
  {
   "cell_type": "markdown",
   "id": "aaa3d8a3",
   "metadata": {},
   "source": [
    "# CREATE A 3-D ARRAY USING arange()"
   ]
  },
  {
   "cell_type": "code",
   "execution_count": 11,
   "id": "29c464af",
   "metadata": {},
   "outputs": [
    {
     "name": "stdout",
     "output_type": "stream",
     "text": [
      "[[[ 1  2]\n",
      "  [ 3  4]\n",
      "  [ 5  6]]\n",
      "\n",
      " [[ 7  8]\n",
      "  [ 9 10]\n",
      "  [11 12]]\n",
      "\n",
      " [[13 14]\n",
      "  [15 16]\n",
      "  [17 18]]]\n",
      "int32\n",
      "(3, 3, 2)\n"
     ]
    }
   ],
   "source": [
    "import numpy as np\n",
    "c=np.arange(1,19).reshape(3,3,2)\n",
    "print(c)\n",
    "print(c.dtype)\n",
    "print(c.shape)"
   ]
  },
  {
   "cell_type": "markdown",
   "id": "c321dc22",
   "metadata": {},
   "source": [
    "# CREATE ARRAY OF ONES (1-D)"
   ]
  },
  {
   "cell_type": "code",
   "execution_count": 12,
   "id": "e6427032",
   "metadata": {},
   "outputs": [
    {
     "name": "stdout",
     "output_type": "stream",
     "text": [
      "[1 1]\n",
      "int32\n",
      "(2,)\n"
     ]
    }
   ],
   "source": [
    "import numpy as np\n",
    "d=np.ones(2,dtype=np.int32)\n",
    "print(d)\n",
    "print(d.dtype)\n",
    "print(d.shape)"
   ]
  },
  {
   "cell_type": "markdown",
   "id": "9c52fddb",
   "metadata": {},
   "source": [
    "# CREATE ARRAY OF ONES(2-D)"
   ]
  },
  {
   "cell_type": "code",
   "execution_count": 13,
   "id": "fc6a7892",
   "metadata": {},
   "outputs": [
    {
     "name": "stdout",
     "output_type": "stream",
     "text": [
      "[[1 1 1]\n",
      " [1 1 1]]\n",
      "int32\n",
      "(2, 3)\n"
     ]
    }
   ],
   "source": [
    "import numpy as np\n",
    "d=np.ones((2,3),dtype=np.int32)\n",
    "print(d)\n",
    "print(d.dtype)\n",
    "print(d.shape)"
   ]
  },
  {
   "cell_type": "markdown",
   "id": "1a4838d0",
   "metadata": {},
   "source": [
    "# CREATE ARRAY OF ONES(2-D)"
   ]
  },
  {
   "cell_type": "code",
   "execution_count": 14,
   "id": "9b40efcd",
   "metadata": {},
   "outputs": [
    {
     "name": "stdout",
     "output_type": "stream",
     "text": [
      "[[1 1 1]\n",
      " [1 1 1]]\n",
      "int32\n",
      "(2, 3)\n"
     ]
    }
   ],
   "source": [
    "import numpy as np\n",
    "d=np.ones((2,3),dtype=np.int32)\n",
    "print(d)\n",
    "print(d.dtype)\n",
    "print(d.shape)"
   ]
  },
  {
   "cell_type": "markdown",
   "id": "0b123b6b",
   "metadata": {},
   "source": [
    "# CREATE ARRAY OF ONES(3-D)"
   ]
  },
  {
   "cell_type": "code",
   "execution_count": 15,
   "id": "26ae9047",
   "metadata": {},
   "outputs": [
    {
     "name": "stdout",
     "output_type": "stream",
     "text": [
      "[[[1 1 1]\n",
      "  [1 1 1]]\n",
      "\n",
      " [[1 1 1]\n",
      "  [1 1 1]]\n",
      "\n",
      " [[1 1 1]\n",
      "  [1 1 1]]]\n",
      "int32\n",
      "(3, 2, 3)\n"
     ]
    }
   ],
   "source": [
    "import numpy as np\n",
    "d=np.ones((3,2,3),dtype=\"int32\")\n",
    "print(d)\n",
    "print(d.dtype)\n",
    "print(d.shape)"
   ]
  },
  {
   "cell_type": "markdown",
   "id": "69e8f10f",
   "metadata": {},
   "source": [
    "# CREATE ARRAY OF ZEROS(1-D)"
   ]
  },
  {
   "cell_type": "code",
   "execution_count": 16,
   "id": "b11ac56c",
   "metadata": {},
   "outputs": [
    {
     "name": "stdout",
     "output_type": "stream",
     "text": [
      "[0 0 0]\n",
      "int32\n",
      "(3,)\n"
     ]
    }
   ],
   "source": [
    "import numpy as np\n",
    "f=np.zeros((3),dtype=np.int32)\n",
    "print(f)\n",
    "print(f.dtype)\n",
    "print(f.shape)"
   ]
  },
  {
   "cell_type": "markdown",
   "id": "873008e3",
   "metadata": {},
   "source": [
    "# CREATE ARRAY OF ZEROS(2-D)"
   ]
  },
  {
   "cell_type": "code",
   "execution_count": 17,
   "id": "b041dda6",
   "metadata": {},
   "outputs": [
    {
     "name": "stdout",
     "output_type": "stream",
     "text": [
      "[[0 0 0]\n",
      " [0 0 0]]\n",
      "int32\n",
      "(2, 3)\n"
     ]
    }
   ],
   "source": [
    "import numpy as np\n",
    "f=np.zeros((2,3),dtype=np.int32)\n",
    "print(f)\n",
    "print(f.dtype)\n",
    "print(f.shape)"
   ]
  },
  {
   "cell_type": "markdown",
   "id": "957f5832",
   "metadata": {},
   "source": [
    "# CREATE ARRAY OF ZEROS(3-D)"
   ]
  },
  {
   "cell_type": "code",
   "execution_count": 18,
   "id": "a5eb21c1",
   "metadata": {},
   "outputs": [
    {
     "name": "stdout",
     "output_type": "stream",
     "text": [
      "[[[0 0 0]\n",
      "  [0 0 0]]\n",
      "\n",
      " [[0 0 0]\n",
      "  [0 0 0]]\n",
      "\n",
      " [[0 0 0]\n",
      "  [0 0 0]]]\n",
      "int32\n",
      "(3, 2, 3)\n"
     ]
    }
   ],
   "source": [
    "import numpy as np\n",
    "f=np.zeros((3,2,3),dtype=np.int32)\n",
    "print(f)\n",
    "print(f.dtype)\n",
    "print(f.shape)"
   ]
  },
  {
   "cell_type": "markdown",
   "id": "6e5d9e34",
   "metadata": {},
   "source": [
    "# CREATE AN ARRAY WITH RANDOM NUMBERS(1-D)"
   ]
  },
  {
   "cell_type": "code",
   "execution_count": 19,
   "id": "696d0c61",
   "metadata": {},
   "outputs": [
    {
     "name": "stdout",
     "output_type": "stream",
     "text": [
      "[4 5 3 4 1 3]\n",
      "int32\n",
      "(6,)\n"
     ]
    }
   ],
   "source": [
    "import numpy as np\n",
    "a=np.random.randint(1,6,size=(6))\n",
    "print(a)\n",
    "print(a.dtype)\n",
    "print(a.shape)"
   ]
  },
  {
   "cell_type": "markdown",
   "id": "c4113553",
   "metadata": {},
   "source": [
    "# CREATE AN ARRAY WITH RANDOM NUMBERS(2-D)"
   ]
  },
  {
   "cell_type": "code",
   "execution_count": 20,
   "id": "3147df85",
   "metadata": {},
   "outputs": [
    {
     "name": "stdout",
     "output_type": "stream",
     "text": [
      "[[ 5  1 10]\n",
      " [ 9  1  5]]\n",
      "int32\n",
      "(2, 3)\n"
     ]
    }
   ],
   "source": [
    "import numpy as np\n",
    "b=np.random.randint(1,11,size=(2,3))\n",
    "print(b)\n",
    "print(b.dtype)\n",
    "print(b.shape)"
   ]
  },
  {
   "cell_type": "markdown",
   "id": "b572bef6",
   "metadata": {},
   "source": [
    "# CREATE AN ARRAY WITH RANDOM NUMBERS(3-D)"
   ]
  },
  {
   "cell_type": "code",
   "execution_count": 22,
   "id": "9576b34f",
   "metadata": {},
   "outputs": [
    {
     "name": "stdout",
     "output_type": "stream",
     "text": [
      "[[[17 13 14]\n",
      "  [20 18 12]]\n",
      "\n",
      " [[18 13 15]\n",
      "  [14 17 12]]\n",
      "\n",
      " [[13 12 11]\n",
      "  [11 14 20]]]\n",
      "int32\n",
      "(3, 2, 3)\n"
     ]
    }
   ],
   "source": [
    "import numpy as np\n",
    "c=np.random.randint(10,21,size=(3,2,3))\n",
    "print(c)\n",
    "print(c.dtype)\n",
    "print(c.shape)"
   ]
  },
  {
   "cell_type": "markdown",
   "id": "a6b12b12",
   "metadata": {},
   "source": [
    "# CREATE ARRAY WITH SINGLE LOW MULTIPLE HIGH"
   ]
  },
  {
   "cell_type": "code",
   "execution_count": 1,
   "id": "3e3b2065",
   "metadata": {},
   "outputs": [
    {
     "name": "stdout",
     "output_type": "stream",
     "text": [
      "[ 6 15  7]\n",
      "int32\n",
      "(3,)\n"
     ]
    }
   ],
   "source": [
    "import numpy as np\n",
    "a=np.random.randint(5,[10,20,30])\n",
    "print(a)\n",
    "print(a.dtype)\n",
    "print(a.shape)"
   ]
  },
  {
   "cell_type": "markdown",
   "id": "6b59e91a",
   "metadata": {},
   "source": [
    "# CREATE ARRAY WITH MULTIPLE LOW SINGLE HIGH"
   ]
  },
  {
   "cell_type": "code",
   "execution_count": 2,
   "id": "1055f719",
   "metadata": {},
   "outputs": [
    {
     "name": "stdout",
     "output_type": "stream",
     "text": [
      "[7 2 3]\n",
      "int32\n",
      "(3,)\n"
     ]
    }
   ],
   "source": [
    "import numpy as np\n",
    "b=np.random.randint([1,2,3],10)\n",
    "print(b)\n",
    "print(b.dtype)\n",
    "print(b.shape)"
   ]
  },
  {
   "cell_type": "markdown",
   "id": "40757626",
   "metadata": {},
   "source": [
    "# CREATE ARRAY WITH MULTIPLE LOW MULTIPLE HIGH"
   ]
  },
  {
   "cell_type": "code",
   "execution_count": 3,
   "id": "ff39ab26",
   "metadata": {},
   "outputs": [
    {
     "name": "stdout",
     "output_type": "stream",
     "text": [
      "[ 6 15  7]\n",
      "int32\n",
      "(3,)\n"
     ]
    }
   ],
   "source": [
    "import numpy as np\n",
    "b=np.random.randint([1,2,3,5],[10,20,30,40])\n",
    "print(a)\n",
    "print(a.dtype)\n",
    "print(a.shape)"
   ]
  },
  {
   "cell_type": "markdown",
   "id": "7e8a4584",
   "metadata": {},
   "source": [
    "# CREATE ARRAY WITH RANDOM NUMBERS USING randn() (1-D)"
   ]
  },
  {
   "cell_type": "code",
   "execution_count": 4,
   "id": "55e9069c",
   "metadata": {},
   "outputs": [
    {
     "name": "stdout",
     "output_type": "stream",
     "text": [
      "[-1.34370101 -0.69461888 -1.2626062  -0.1862085   0.63412293]\n",
      "float64\n",
      "(5,)\n"
     ]
    }
   ],
   "source": [
    "import numpy as np\n",
    "a=np.random.randn(5)\n",
    "print(a)\n",
    "print(a.dtype)\n",
    "print(a.shape)"
   ]
  },
  {
   "cell_type": "markdown",
   "id": "cf37e886",
   "metadata": {},
   "source": [
    "# CREATE NUMPY WITH RANDOM NUMBERS USING randn() (2-D)"
   ]
  },
  {
   "cell_type": "code",
   "execution_count": 5,
   "id": "691045ef",
   "metadata": {},
   "outputs": [
    {
     "name": "stdout",
     "output_type": "stream",
     "text": [
      "[[ 1.73353282  0.18180597]\n",
      " [ 1.19088703  0.25626748]\n",
      " [-0.50982979 -0.63276622]]\n",
      "float64\n",
      "(3, 2)\n"
     ]
    }
   ],
   "source": [
    "import numpy as np\n",
    "b=np.random.randn(3,2)\n",
    "print(b)\n",
    "print(b.dtype)\n",
    "print(b.shape)"
   ]
  },
  {
   "cell_type": "markdown",
   "id": "7bb2e0b3",
   "metadata": {},
   "source": [
    "# CREATE ARRAY WITH RANDOM NUMBERS USING randn() (3-D)"
   ]
  },
  {
   "cell_type": "code",
   "execution_count": 6,
   "id": "d7e7cf65",
   "metadata": {},
   "outputs": [
    {
     "name": "stdout",
     "output_type": "stream",
     "text": [
      "[[[-0.92177914  0.20779461]\n",
      "  [-0.03172508  0.17811657]\n",
      "  [ 1.45446568 -0.59501582]]\n",
      "\n",
      " [[-1.13273379 -0.9304511 ]\n",
      "  [-0.79292336  0.50279463]\n",
      "  [ 0.0586013  -1.34315876]]\n",
      "\n",
      " [[-1.85253832  0.9444219 ]\n",
      "  [ 0.82008336  0.21302347]\n",
      "  [-0.67949653 -1.17685757]]]\n",
      "float64\n",
      "(3, 3, 2)\n"
     ]
    }
   ],
   "source": [
    "import numpy as np\n",
    "c=np.random.randn(3,3,2)\n",
    "print(c)\n",
    "print(c.dtype)\n",
    "print(c.shape)"
   ]
  },
  {
   "cell_type": "markdown",
   "id": "c48df430",
   "metadata": {},
   "source": [
    "# CREATE ARRAY OF RANDOM NUMBERS USING rand()"
   ]
  },
  {
   "cell_type": "code",
   "execution_count": 7,
   "id": "00c2f334",
   "metadata": {},
   "outputs": [
    {
     "name": "stdout",
     "output_type": "stream",
     "text": [
      "[0.48280252 0.88288868 0.90930596 0.34457064 0.6396612 ]\n",
      "float64\n",
      "(5,)\n"
     ]
    }
   ],
   "source": [
    "import numpy as np\n",
    "a=np.random.rand(5)\n",
    "print(a)\n",
    "print(a.dtype)\n",
    "print(a.shape)"
   ]
  },
  {
   "cell_type": "markdown",
   "id": "4868dec3",
   "metadata": {},
   "source": [
    "# POSITIVE INDEXING IN ARRAY(left-right)"
   ]
  },
  {
   "cell_type": "code",
   "execution_count": 13,
   "id": "ea40cbfd",
   "metadata": {},
   "outputs": [
    {
     "name": "stdout",
     "output_type": "stream",
     "text": [
      "3\n",
      "8\n"
     ]
    },
    {
     "data": {
      "text/plain": [
       "4"
      ]
     },
     "execution_count": 13,
     "metadata": {},
     "output_type": "execute_result"
    }
   ],
   "source": [
    "#array with 1-D\n",
    "import numpy as np\n",
    "arr=np.array([1,2,3,4,5,6,7,8])\n",
    "print(arr[2])\n",
    "print(arr[7])\n",
    "arr[3]"
   ]
  },
  {
   "cell_type": "code",
   "execution_count": 14,
   "id": "c7610728",
   "metadata": {},
   "outputs": [
    {
     "name": "stdout",
     "output_type": "stream",
     "text": [
      "3\n",
      "6\n",
      "5\n",
      "9\n"
     ]
    }
   ],
   "source": [
    "#array with 2-D\n",
    "import numpy as np\n",
    "arr=np.array([[1,2,3],[5,6,7],[8,9,10]])\n",
    "print(arr[0,2])\n",
    "print(arr[1,1])\n",
    "print(arr[1,0])\n",
    "print(arr[2,1])"
   ]
  },
  {
   "cell_type": "code",
   "execution_count": 15,
   "id": "a311b610",
   "metadata": {},
   "outputs": [
    {
     "name": "stdout",
     "output_type": "stream",
     "text": [
      "5\n",
      "400\n",
      "13\n"
     ]
    }
   ],
   "source": [
    "#array with 3-D\n",
    "import numpy as np\n",
    "arr=np.array(\n",
    "    [\n",
    "        [[1,2,3],[4,5,6]],\n",
    "        [[10,20,30],[12,13,14]],\n",
    "        [[100,200,300],[400,500,600]]    \n",
    "    ]\n",
    "            )\n",
    "print(arr[0,1,1])\n",
    "print(arr[2,1,0])\n",
    "print(arr[1,1,1])"
   ]
  },
  {
   "cell_type": "markdown",
   "id": "30f539e3",
   "metadata": {},
   "source": [
    "# NEGETIVE INDEXING IN ARRAY(right - left)"
   ]
  },
  {
   "cell_type": "code",
   "execution_count": 16,
   "id": "1b88108a",
   "metadata": {},
   "outputs": [
    {
     "name": "stdout",
     "output_type": "stream",
     "text": [
      "6\n",
      "7\n",
      "1\n"
     ]
    }
   ],
   "source": [
    "#array with 1-D\n",
    "import numpy as np\n",
    "arr=np.array([1,2,3,4,5,6,7])\n",
    "print(arr[-2])\n",
    "print(arr[-1])\n",
    "print(arr[-7])"
   ]
  },
  {
   "cell_type": "code",
   "execution_count": 17,
   "id": "12db3cac",
   "metadata": {},
   "outputs": [
    {
     "name": "stdout",
     "output_type": "stream",
     "text": [
      "5\n",
      "3\n"
     ]
    }
   ],
   "source": [
    "#array with 2-D\n",
    "import numpy as np\n",
    "arr=np.array([[1,2,3],[4,5,6]])\n",
    "print(arr[-1,-2])\n",
    "print(arr[-2,-1])"
   ]
  },
  {
   "cell_type": "code",
   "execution_count": 18,
   "id": "f03c1677",
   "metadata": {},
   "outputs": [
    {
     "name": "stdout",
     "output_type": "stream",
     "text": [
      "11\n",
      "5\n"
     ]
    }
   ],
   "source": [
    "#arry with 3-D\n",
    "import numpy as np\n",
    "arr=np.array(\n",
    "    [\n",
    "        [[1,2,3],[5,6,7]],\n",
    "        [[12,13,14],[11,10,49]]\n",
    "    ]\n",
    "            )\n",
    "print(arr[-1,-1,-3])\n",
    "print(arr[-2,-1,-3])"
   ]
  },
  {
   "cell_type": "markdown",
   "id": "98129b30",
   "metadata": {},
   "source": [
    "# MIXING OF (+ AND -)"
   ]
  },
  {
   "cell_type": "code",
   "execution_count": 19,
   "id": "f1631819",
   "metadata": {},
   "outputs": [
    {
     "name": "stdout",
     "output_type": "stream",
     "text": [
      "7\n",
      "7\n",
      "44\n",
      "45\n"
     ]
    }
   ],
   "source": [
    "import numpy as np\n",
    "arr=np.array(\n",
    "    [\n",
    "        [[2,3,4],[5,6,7]],\n",
    "        [[10,2,4],[6,7,29]],\n",
    "        [[22,11,14],[23,45,44]]\n",
    "    ]\n",
    ")\n",
    "print(arr[1,1,1])\n",
    "print(arr[-2,-1,-2])\n",
    "print(arr[2,-1,2])\n",
    "print(arr[-1,1,-2])"
   ]
  },
  {
   "cell_type": "markdown",
   "id": "211b245d",
   "metadata": {},
   "source": [
    "# NUMPY ARRAY SLICING"
   ]
  },
  {
   "cell_type": "code",
   "execution_count": 20,
   "id": "891f3d4e",
   "metadata": {},
   "outputs": [
    {
     "name": "stdout",
     "output_type": "stream",
     "text": [
      "[2 3 4 5]\n"
     ]
    }
   ],
   "source": [
    "import numpy as np\n",
    "arr=np.array([1,2,3,4,5,6,7])\n",
    "print(arr[1:5])"
   ]
  },
  {
   "cell_type": "code",
   "execution_count": 21,
   "id": "230c85c5",
   "metadata": {},
   "outputs": [
    {
     "name": "stdout",
     "output_type": "stream",
     "text": [
      "[5 6 7 8 9]\n"
     ]
    }
   ],
   "source": [
    "import numpy as np\n",
    "arr=np.array([1,2,3,4,5,6,7,8,9])\n",
    "print(arr[4:])"
   ]
  },
  {
   "cell_type": "code",
   "execution_count": null,
   "id": "d9ebdaad",
   "metadata": {},
   "outputs": [],
   "source": [
    "import numpy as np\n",
    "arr=np.array([1,2,3,4,5,6,7])\n",
    "print(arr[:4])"
   ]
  },
  {
   "cell_type": "markdown",
   "id": "e6e2c49a",
   "metadata": {},
   "source": [
    "# NEGETIVE SLICING"
   ]
  },
  {
   "cell_type": "code",
   "execution_count": 22,
   "id": "8f98b51c",
   "metadata": {},
   "outputs": [
    {
     "name": "stdout",
     "output_type": "stream",
     "text": [
      "[5 6]\n",
      "[2 3 4 5]\n"
     ]
    }
   ],
   "source": [
    "import numpy as np\n",
    "arr=np.array([1,2,3,4,5,6,7])\n",
    "print(arr[-3:-1])\n",
    "print(arr[-6:-2])"
   ]
  },
  {
   "cell_type": "code",
   "execution_count": 23,
   "id": "b4a1a4fe",
   "metadata": {},
   "outputs": [
    {
     "name": "stdout",
     "output_type": "stream",
     "text": [
      "[2 4]\n"
     ]
    }
   ],
   "source": [
    "import numpy as np\n",
    "arr=np.array([1,2,3,4,5,6,7])\n",
    "print(arr[1:5:2])"
   ]
  },
  {
   "cell_type": "code",
   "execution_count": 24,
   "id": "aa68c0f1",
   "metadata": {},
   "outputs": [
    {
     "name": "stdout",
     "output_type": "stream",
     "text": [
      "[1 3 5 7]\n"
     ]
    }
   ],
   "source": [
    "import numpy as np\n",
    "arr=np.array([1,2,3,4,5,6,7])\n",
    "print(arr[::2])"
   ]
  },
  {
   "cell_type": "markdown",
   "id": "e477502c",
   "metadata": {},
   "source": [
    "# SLICING 2-D ARRAY"
   ]
  },
  {
   "cell_type": "code",
   "execution_count": 25,
   "id": "fd677162",
   "metadata": {},
   "outputs": [
    {
     "name": "stdout",
     "output_type": "stream",
     "text": [
      "[7 8 9]\n"
     ]
    }
   ],
   "source": [
    "import numpy as np\n",
    "arr=np.array([[1,2,3,4,5],[6,7,8,9,10]])\n",
    "print(arr[1,1:4])"
   ]
  },
  {
   "cell_type": "code",
   "execution_count": 26,
   "id": "9ffba652",
   "metadata": {},
   "outputs": [
    {
     "name": "stdout",
     "output_type": "stream",
     "text": [
      "[3 8]\n"
     ]
    }
   ],
   "source": [
    "import numpy as np\n",
    "arr=np.array([[1,2,3,4,5],[6,7,8,9,10]])\n",
    "print(arr[0:2,2])"
   ]
  },
  {
   "cell_type": "code",
   "execution_count": 27,
   "id": "d5cec276",
   "metadata": {},
   "outputs": [
    {
     "name": "stdout",
     "output_type": "stream",
     "text": [
      "[[2 3 4]\n",
      " [7 8 9]]\n"
     ]
    }
   ],
   "source": [
    "import numpy as np\n",
    "arr=np.array([[1,2,3,4,5],[6,7,8,9,10]])\n",
    "print(arr[0:2,1:4])"
   ]
  },
  {
   "cell_type": "markdown",
   "id": "b10a8a9b",
   "metadata": {},
   "source": [
    "# NUMPY ARRAY COPY VS VIEW"
   ]
  },
  {
   "cell_type": "code",
   "execution_count": 28,
   "id": "3d85f3c5",
   "metadata": {},
   "outputs": [
    {
     "name": "stdout",
     "output_type": "stream",
     "text": [
      "original array\n",
      "[1 2 3 4 5]\n",
      "affected array\n",
      "[ 1  2 10  4  5]\n",
      "[1 2 3 4 5]\n"
     ]
    }
   ],
   "source": [
    "import numpy as np\n",
    "arr = np.array([1,2,3,4,5])\n",
    "a = arr.copy()\n",
    "print(\"original array\")\n",
    "print(arr)\n",
    "print(\"affected array\")\n",
    "arr[2] = 10\n",
    "print(arr)\n",
    "print(a)"
   ]
  },
  {
   "cell_type": "code",
   "execution_count": 29,
   "id": "0fa4c095",
   "metadata": {},
   "outputs": [
    {
     "name": "stdout",
     "output_type": "stream",
     "text": [
      "original array\n",
      "[1 2 3 4 5]\n",
      "viewed array\n",
      "[1 2 3 4 5]\n",
      "affected array\n",
      "arr :  [30  2  3  4  5]\n",
      " x : [30  2  3  4  5]\n"
     ]
    }
   ],
   "source": [
    "import numpy as np\n",
    "arr = np.array([1,2,3,4,5])\n",
    "x = arr.view()\n",
    "print(\"original array\")\n",
    "print(arr)\n",
    "print(\"viewed array\")\n",
    "print(x)\n",
    "print(\"affected array\")\n",
    "arr[0] = 30\n",
    "print(\"arr : \",arr)\n",
    "print(\" x :\",x)"
   ]
  },
  {
   "cell_type": "markdown",
   "id": "27c32a01",
   "metadata": {},
   "source": [
    "# Reshape Function()"
   ]
  },
  {
   "cell_type": "code",
   "execution_count": 1,
   "id": "ad317cd0",
   "metadata": {},
   "outputs": [
    {
     "name": "stdout",
     "output_type": "stream",
     "text": [
      "original array : [ 1  2  3  4  5  6  7  8  9 10]\n"
     ]
    }
   ],
   "source": [
    "#1d\n",
    "import numpy as np\n",
    "arr=np.array([1,2,3,4,5,6,7,8,9,10])\n",
    "print(\"original array :\",arr) "
   ]
  },
  {
   "cell_type": "code",
   "execution_count": 2,
   "id": "9fd174c2",
   "metadata": {},
   "outputs": [
    {
     "name": "stdout",
     "output_type": "stream",
     "text": [
      "2D array with shape 5x2\n",
      "[[ 1  2]\n",
      " [ 3  4]\n",
      " [ 5  6]\n",
      " [ 7  8]\n",
      " [ 9 10]]\n",
      "2D array with shape 2x5\n",
      "[[ 1  2  3  4  5]\n",
      " [ 6  7  8  9 10]]\n"
     ]
    }
   ],
   "source": [
    "#2D ARRAY\n",
    "b = arr.reshape(5,2) \n",
    "print(\"2D array with shape 5x2\")\n",
    "print(b)\n",
    "c = arr.reshape(2,5) \n",
    "print(\"2D array with shape 2x5\")\n",
    "print(c)"
   ]
  },
  {
   "cell_type": "code",
   "execution_count": 3,
   "id": "58dd229d",
   "metadata": {},
   "outputs": [
    {
     "name": "stdout",
     "output_type": "stream",
     "text": [
      "3D array with shape 2,1,5\n",
      "[[[ 1  2  3  4  5]]\n",
      "\n",
      " [[ 6  7  8  9 10]]]\n"
     ]
    }
   ],
   "source": [
    "#3D ARRAY \n",
    "d = arr.reshape(2,1,5)\n",
    "print(\"3D array with shape 2,1,5\")\n",
    "print(d)"
   ]
  },
  {
   "cell_type": "markdown",
   "id": "6c77abe5",
   "metadata": {},
   "source": [
    "# AGREEGATION FUNCTIONS\n",
    "sum() FUNCTION"
   ]
  },
  {
   "cell_type": "code",
   "execution_count": 5,
   "id": "f5b4a396",
   "metadata": {},
   "outputs": [
    {
     "name": "stdout",
     "output_type": "stream",
     "text": [
      "original 1D array :  [1 2 3 4 5]\n",
      "sum=15\n",
      "\n",
      "original 2D array :  [[ 1  2  3  4  5]\n",
      " [ 6  7  8  9 10]]\n",
      "sum=55\n",
      "\n",
      "original 3D array :  [[[ 1  2  3]\n",
      "  [ 4  5  6]]\n",
      "\n",
      " [[10 20 30]\n",
      "  [40 50 60]]]\n",
      "sum=231\n"
     ]
    }
   ],
   "source": [
    "import numpy as np\n",
    "arr=np.array([1,2,3,4,5]) #1D\n",
    "print(\"original 1D array : \",arr)\n",
    "print(f\"sum={np.sum(arr)}\")\n",
    "print()\n",
    "arr1=np.array([[1,2,3,4,5],[6,7,8,9,10]])\n",
    "print(\"original 2D array : \",arr1)\n",
    "print(f\"sum={np.sum(arr1)}\")\n",
    "print()\n",
    "arr2=np.array(\n",
    "              [\n",
    "               [[1,2,3],[4,5,6]],\n",
    "               [[10,20,30],[40,50,60]]    \n",
    "              ]\n",
    "             )\n",
    "print(\"original 3D array : \",arr2)\n",
    "print(f\"sum={np.sum(arr2)}\")"
   ]
  },
  {
   "cell_type": "code",
   "execution_count": 6,
   "id": "82edaa69",
   "metadata": {},
   "outputs": [
    {
     "name": "stdout",
     "output_type": "stream",
     "text": [
      "original array \n",
      ": [[1 2 3 4]\n",
      " [5 6 7 8]]\n",
      "Across Colswise\n",
      "sum = [ 6  8 10 12]\n",
      "Across Rowswise\n",
      "sum = [10 26]\n"
     ]
    }
   ],
   "source": [
    "import numpy as np\n",
    "arr = np.array([[1,2,3,4],[5,6,7,8]])\n",
    "print(\"original array \\n:\",arr)\n",
    "print(\"Across Colswise\") #column wise\n",
    "print(\"sum =\",np.sum(arr , axis=0))\n",
    "print(\"Across Rowswise\") #Row wise\n",
    "print(\"sum =\",np.sum(arr , axis=1))"
   ]
  },
  {
   "cell_type": "code",
   "execution_count": 7,
   "id": "b78dbf9e",
   "metadata": {},
   "outputs": [
    {
     "name": "stdout",
     "output_type": "stream",
     "text": [
      "original array \n",
      ":  [[1 2 3 4]\n",
      " [5 6 7 8]]\n",
      "Across Rows\n",
      "Mean = [3. 4. 5. 6.]\n",
      "Across Columns\n",
      "Mean = [2.5 6.5]\n"
     ]
    }
   ],
   "source": [
    "import numpy as np\n",
    "arr = np.array([[1,2,3,4],[5,6,7,8]])\n",
    "print(\"original array \\n: \",arr)\n",
    "print(\"Across Rows\") #column wise\n",
    "print(\"Mean =\",np.mean(arr , axis=0))\n",
    "print(\"Across Columns\") #Row wise\n",
    "print(\"Mean =\",np.mean(arr , axis=1))"
   ]
  },
  {
   "cell_type": "markdown",
   "id": "80346618",
   "metadata": {},
   "source": [
    "# std() FUNCTION"
   ]
  },
  {
   "cell_type": "code",
   "execution_count": 8,
   "id": "57d737a1",
   "metadata": {},
   "outputs": [
    {
     "name": "stdout",
     "output_type": "stream",
     "text": [
      "original array \n",
      ":  [[1 2 3 4]\n",
      " [5 6 7 8]]\n",
      "Across Rows\n",
      "Mean = [3. 4. 5. 6.]\n",
      "Across Columns\n",
      "Mean = [2.5 6.5]\n"
     ]
    }
   ],
   "source": [
    "import numpy as np\n",
    "arr = np.array([[1,2,3,4],[5,6,7,8]])\n",
    "print(\"original array \\n: \",arr)\n",
    "print(\"Across Rows\") #column wise\n",
    "print(\"Mean =\",np.mean(arr , axis=0))\n",
    "print(\"Across Columns\") #Row wise\n",
    "print(\"Mean =\",np.mean(arr , axis=1))\n"
   ]
  },
  {
   "cell_type": "code",
   "execution_count": 10,
   "id": "ab148fee",
   "metadata": {},
   "outputs": [
    {
     "name": "stdout",
     "output_type": "stream",
     "text": [
      "original array : [[1 2 3 4]\n",
      " [5 6 7 8]]\n",
      "\n",
      "standard div : 2.29128784747792\n"
     ]
    }
   ],
   "source": [
    "import numpy as np\n",
    "arr=np.array([[1,2,3,4],[5,6,7,8]])\n",
    "print(\"original array :\",arr)\n",
    "print()\n",
    "print(\"standard div :\",np.std(arr))"
   ]
  },
  {
   "cell_type": "code",
   "execution_count": 11,
   "id": "67c1a18e",
   "metadata": {},
   "outputs": [
    {
     "name": "stdout",
     "output_type": "stream",
     "text": [
      "original array :  [[1 2 3 4]\n",
      " [5 6 7 8]]\n",
      "Across Rows\n",
      "std div = [2. 2. 2. 2.]\n",
      "\n",
      "Across Columns\n",
      "std div = [1.11803399 1.11803399]\n"
     ]
    }
   ],
   "source": [
    "import numpy as np\n",
    "arr = np.array([[1,2,3,4],[5,6,7,8]])\n",
    "print(\"original array : \",arr)\n",
    "print(\"Across Rows\") #column wise\n",
    "print(\"std div =\",np.std(arr , axis=0))\n",
    "print()\n",
    "print(\"Across Columns\") #Row wise\n",
    "print(\"std div =\",np.std(arr , axis=1))"
   ]
  },
  {
   "cell_type": "markdown",
   "id": "8132a406",
   "metadata": {},
   "source": [
    "# Var() FUNCTION"
   ]
  },
  {
   "cell_type": "code",
   "execution_count": 12,
   "id": "ebe8a490",
   "metadata": {},
   "outputs": [
    {
     "name": "stdout",
     "output_type": "stream",
     "text": [
      "original array : [[1 2 3 4]\n",
      " [5 6 7 8]]\n",
      "\n",
      "varients : 5.25\n"
     ]
    }
   ],
   "source": [
    "# import numpy as np\n",
    "arr=np.array([[1,2,3,4],[5,6,7,8]])\n",
    "print(\"original array :\",arr)\n",
    "print()\n",
    "print(\"varients :\",np.var(arr))"
   ]
  },
  {
   "cell_type": "code",
   "execution_count": 15,
   "id": "77beb849",
   "metadata": {},
   "outputs": [
    {
     "name": "stdout",
     "output_type": "stream",
     "text": [
      "original array :,arr\n",
      "Across Rows\n",
      "var = [4. 4. 4. 4.]\n",
      "\n",
      "Across Columns\n",
      "var = [4. 4. 4. 4.]\n"
     ]
    }
   ],
   "source": [
    "# import numpy as np\n",
    "arr=np.array([[1,2,3,4],[5,6,7,8]])\n",
    "print(\"original array :,arr\")\n",
    "print(\"Across Rows\")\n",
    "print(\"var =\",np.var(arr , axis=0))\n",
    "print()\n",
    "print(\"Across Columns\")\n",
    "print(\"var =\",np.var(arr, axis=0))"
   ]
  },
  {
   "cell_type": "markdown",
   "id": "75175425",
   "metadata": {},
   "source": [
    "# Min() FUNCTION"
   ]
  },
  {
   "cell_type": "code",
   "execution_count": 16,
   "id": "1860cbb6",
   "metadata": {},
   "outputs": [
    {
     "name": "stdout",
     "output_type": "stream",
     "text": [
      "original array :  [[1 2 3 4]\n",
      " [5 6 7 8]]\n",
      "\n",
      "minimum :  1\n"
     ]
    }
   ],
   "source": [
    "import numpy as np\n",
    "arr = np.array([[1,2,3,4],[5,6,7,8]])\n",
    "print(\"original array : \",arr)\n",
    "print()\n",
    "print(\"minimum : \",np.min(arr)) "
   ]
  },
  {
   "cell_type": "code",
   "execution_count": 17,
   "id": "c5f643eb",
   "metadata": {},
   "outputs": [
    {
     "name": "stdout",
     "output_type": "stream",
     "text": [
      "original array :  [[1 2 3 4]\n",
      " [5 6 7 8]]\n",
      "Across Rows\n",
      "min = [1 2 3 4]\n",
      "\n",
      "Across Columns\n",
      "min = [1 5]\n"
     ]
    }
   ],
   "source": [
    "import numpy as np\n",
    "arr = np.array([[1,2,3,4],[5,6,7,8]])\n",
    "print(\"original array : \",arr)\n",
    "print(\"Across Rows\") #column wise\n",
    "print(\"min =\",np.min(arr , axis=0))\n",
    "print()\n",
    "print(\"Across Columns\") #Row wise\n",
    "print(\"min =\",np.min(arr , axis=1))"
   ]
  },
  {
   "cell_type": "markdown",
   "id": "11179ae7",
   "metadata": {},
   "source": [
    "# Max() FUNCTION"
   ]
  },
  {
   "cell_type": "code",
   "execution_count": 18,
   "id": "74ba4aa7",
   "metadata": {},
   "outputs": [
    {
     "name": "stdout",
     "output_type": "stream",
     "text": [
      "original array :  [[1 2 3 4]\n",
      " [5 6 7 8]]\n",
      "\n",
      "maximum :  8\n"
     ]
    }
   ],
   "source": [
    "import numpy as np\n",
    "arr=np.array([[1,2,3,4],[5,6,7,8]])\n",
    "print(\"original array : \",arr)\n",
    "print()\n",
    "print(\"maximum : \",np.max(arr)) "
   ]
  },
  {
   "cell_type": "code",
   "execution_count": 20,
   "id": "0f21d38f",
   "metadata": {},
   "outputs": [
    {
     "name": "stdout",
     "output_type": "stream",
     "text": [
      "original array :  [[1 2 3 4]\n",
      " [5 6 7 8]]\n",
      "Across Rows\n",
      "max = [5 6 7 8]\n",
      "\n",
      "Across Columns\n",
      "max = [4 8]\n"
     ]
    }
   ],
   "source": [
    "import numpy as np\n",
    "arr = np.array([[1,2,3,4],[5,6,7,8]])\n",
    "print(\"original array : \",arr)\n",
    "print(\"Across Rows\") #column wise\n",
    "print(\"max =\",np.max(arr , axis=0))\n",
    "print()\n",
    "print(\"Across Columns\") #Row wise\n",
    "print(\"max =\",np.max(arr , axis=1))"
   ]
  },
  {
   "cell_type": "code",
   "execution_count": null,
   "id": "20eefaa6",
   "metadata": {},
   "outputs": [],
   "source": []
  }
 ],
 "metadata": {
  "kernelspec": {
   "display_name": "Python 3 (ipykernel)",
   "language": "python",
   "name": "python3"
  },
  "language_info": {
   "codemirror_mode": {
    "name": "ipython",
    "version": 3
   },
   "file_extension": ".py",
   "mimetype": "text/x-python",
   "name": "python",
   "nbconvert_exporter": "python",
   "pygments_lexer": "ipython3",
   "version": "3.9.12"
  }
 },
 "nbformat": 4,
 "nbformat_minor": 5
}
