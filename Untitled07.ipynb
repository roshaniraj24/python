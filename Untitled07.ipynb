{
 "cells": [
  {
   "cell_type": "code",
   "execution_count": 3,
   "id": "d6cb0839",
   "metadata": {},
   "outputs": [
    {
     "name": "stdout",
     "output_type": "stream",
     "text": [
      "sum of the array is 12\n"
     ]
    }
   ],
   "source": [
    "def sum(arr):\n",
    "    sum=0\n",
    "    for i in arr:\n",
    "        sum=sum+i\n",
    "        return (sum)\n",
    "arr=[]\n",
    "arr=[12,3,4,15]\n",
    "n=len(arr)\n",
    "ans=sum(arr)\n",
    "print(\"sum of the array is\",ans)\n"
   ]
  },
  {
   "cell_type": "code",
   "execution_count": 13,
   "id": "2af3035f",
   "metadata": {},
   "outputs": [
    {
     "name": "stdout",
     "output_type": "stream",
     "text": [
      "3 5 7 9 11 13 15 17 19 "
     ]
    }
   ],
   "source": [
    "def Prime(n):\n",
    "    if(n==1 or n==0):\n",
    "        return False\n",
    "    for i in range(2,n):\n",
    "        if (n%i==0):\n",
    "            return False\n",
    "        return True\n",
    "N=20\n",
    "for i in range (1,N+1):\n",
    "    if (Prime(i)):\n",
    "        print(i,end=\" \")"
   ]
  },
  {
   "cell_type": "code",
   "execution_count": 14,
   "id": "bf45f5f9",
   "metadata": {},
   "outputs": [
    {
     "name": "stdout",
     "output_type": "stream",
     "text": [
      "The sum is 37\n"
     ]
    }
   ],
   "source": [
    "def add(sum):\n",
    "    sum=a+b+c+d+e\n",
    "    return sum\n",
    "a=5\n",
    "b=8\n",
    "c=9\n",
    "d=5\n",
    "e=10\n",
    "print(\"The sum is\",add(sum))"
   ]
  },
  {
   "cell_type": "code",
   "execution_count": 15,
   "id": "4d513507",
   "metadata": {},
   "outputs": [
    {
     "name": "stdout",
     "output_type": "stream",
     "text": [
      "The intrest is 4.2\n"
     ]
    }
   ],
   "source": [
    "P=6\n",
    "T=10\n",
    "R=7\n",
    "I=P*T*R/100\n",
    "print(\"The intrest is\",I)"
   ]
  },
  {
   "cell_type": "code",
   "execution_count": 16,
   "id": "c67c329b",
   "metadata": {},
   "outputs": [
    {
     "name": "stdout",
     "output_type": "stream",
     "text": [
      "Area of the rectangle is 200\n"
     ]
    }
   ],
   "source": [
    "l=10\n",
    "b=20\n",
    "Area=l*b\n",
    "print(\"Area of the rectangle is\",Area)"
   ]
  },
  {
   "cell_type": "code",
   "execution_count": 17,
   "id": "d8d87786",
   "metadata": {},
   "outputs": [
    {
     "name": "stdout",
     "output_type": "stream",
     "text": [
      "Area of triangle is 35.0\n"
     ]
    }
   ],
   "source": [
    "B=7\n",
    "H=10\n",
    "Area=1/2*B*H\n",
    "print(\"Area of triangle is\",Area)"
   ]
  },
  {
   "cell_type": "code",
   "execution_count": 18,
   "id": "8c59e14a",
   "metadata": {},
   "outputs": [
    {
     "name": "stdout",
     "output_type": "stream",
     "text": [
      "The square is 144\n",
      "The cube is 1728\n"
     ]
    }
   ],
   "source": [
    "s=12\n",
    "square=s*s\n",
    "cube=s*s*s\n",
    "print(\"The square is\",square)\n",
    "print(\"The cube is\",cube)"
   ]
  },
  {
   "cell_type": "code",
   "execution_count": 19,
   "id": "7b8fe7e3",
   "metadata": {},
   "outputs": [
    {
     "name": "stdout",
     "output_type": "stream",
     "text": [
      "Enter the age: 6\n",
      "You are not eligible to vote\n"
     ]
    }
   ],
   "source": [
    "age=int(input(\"Enter the age: \"))\n",
    "if age >= 18:\n",
    "    print(\"You are eligible to vote\")\n",
    "else:\n",
    "    print(\"You are not eligible to vote\")"
   ]
  },
  {
   "cell_type": "code",
   "execution_count": 22,
   "id": "8d187fe1",
   "metadata": {},
   "outputs": [
    {
     "name": "stdout",
     "output_type": "stream",
     "text": [
      "Enter the number: 6\n",
      "The given number is even\n"
     ]
    }
   ],
   "source": [
    "num=int(input(\"Enter the number: \"))\n",
    "if num % 2 == 0:\n",
    "    print(\"The given number is even\")\n",
    "else:\n",
    "    print(\"The given number is odd\")"
   ]
  },
  {
   "cell_type": "code",
   "execution_count": 31,
   "id": "d46ed72f",
   "metadata": {},
   "outputs": [
    {
     "name": "stdout",
     "output_type": "stream",
     "text": [
      "Enter the number: -6\n",
      "The given number is negative\n"
     ]
    }
   ],
   "source": [
    "def check(Num):\n",
    "    if Num > 0:\n",
    "        print(\"The given number is positive\")\n",
    "    else:\n",
    "        print(\"The given number is negative\")\n",
    "Num=int(input(\"Enter the number: \"))\n",
    "check(Num)"
   ]
  },
  {
   "cell_type": "code",
   "execution_count": 33,
   "id": "b62f9ec0",
   "metadata": {},
   "outputs": [
    {
     "name": "stdout",
     "output_type": "stream",
     "text": [
      "Enter the time:4\n",
      "Enter the minute:34\n",
      "Time is 4:34pm\n"
     ]
    }
   ],
   "source": [
    "time=int(input(\"Enter the time:\"))\n",
    "minute=int(input(\"Enter the minute:\"))\n",
    "if time>12:\n",
    "    t=time-12\n",
    "    print(\"Time is {0}:{1}am\".format(T,minute))\n",
    "else:\n",
    "    print(\"Time is {0}:{1}pm\".format(time,minute))"
   ]
  },
  {
   "cell_type": "code",
   "execution_count": 37,
   "id": "5a6aef96",
   "metadata": {},
   "outputs": [
    {
     "name": "stdout",
     "output_type": "stream",
     "text": [
      "Enter the number: 98\n",
      "The given number is not single\n"
     ]
    }
   ],
   "source": [
    "num=int(input(\"Enter the number: \"))\n",
    "if num>=-9 and num <10:\n",
    "    print(\"The given number is single\")\n",
    "else:\n",
    "    print(\"The given number is not single\")"
   ]
  },
  {
   "cell_type": "code",
   "execution_count": 2,
   "id": "ec06df79",
   "metadata": {},
   "outputs": [
    {
     "name": "stdout",
     "output_type": "stream",
     "text": [
      "the ASCII value og'g' is 103\n"
     ]
    }
   ],
   "source": [
    "c='g'\n",
    "print(\"the ASCII value og'\"+c+\"' is\",ord(c))"
   ]
  },
  {
   "cell_type": "code",
   "execution_count": 2,
   "id": "9f8e0014",
   "metadata": {},
   "outputs": [
    {
     "name": "stdout",
     "output_type": "stream",
     "text": [
      "-5\n"
     ]
    }
   ],
   "source": [
    "#list Examples\n",
    "def sum_list(items):\n",
    "    sum_numbers=0\n",
    "    for x in items:\n",
    "        sum_numbers += x\n",
    "    return sum_numbers\n",
    "print(sum_list([1,2,-8]))"
   ]
  },
  {
   "cell_type": "code",
   "execution_count": 6,
   "id": "00e1bdbe",
   "metadata": {},
   "outputs": [
    {
     "name": "stdout",
     "output_type": "stream",
     "text": [
      "2\n"
     ]
    }
   ],
   "source": [
    "#largest element in the list\n",
    "def max_num_in_list(list):\n",
    "    max=list[0]\n",
    "    for a in list:\n",
    "        if a > max:\n",
    "            max=a\n",
    "    return max\n",
    "print(max_num_in_list([1,2,-8,0]))\n",
    "        "
   ]
  },
  {
   "cell_type": "code",
   "execution_count": 7,
   "id": "b15aa430",
   "metadata": {},
   "outputs": [
    {
     "name": "stdout",
     "output_type": "stream",
     "text": [
      "[500, 400, 300, 200, 100]\n",
      "[500, 400, 300, 200, 100]\n"
     ]
    }
   ],
   "source": [
    "#Reserve the list\n",
    "list1=[100,200,300,400,500]\n",
    "list1.reverse()\n",
    "print(list1)\n",
    " \n",
    "list1=[100,200,300,400,500]\n",
    "list1=list1[::-1]\n",
    "print(list1)"
   ]
  },
  {
   "cell_type": "code",
   "execution_count": 9,
   "id": "213ebf85",
   "metadata": {},
   "outputs": [
    {
     "name": "stdout",
     "output_type": "stream",
     "text": [
      "['My', 'name', 'is', 'Roshani']\n"
     ]
    }
   ],
   "source": [
    "#Concatenate two lists index-wise\n",
    "list1=[\"M\",\"na\",\"i\",\"Rosh\"]\n",
    "list2=[\"y\",\"me\",\"s\",\"ani\"]\n",
    "list3=[i+j for i, j in zip(list1,list2)]\n",
    "print(list3)"
   ]
  },
  {
   "cell_type": "code",
   "execution_count": 10,
   "id": "eae88413",
   "metadata": {},
   "outputs": [
    {
     "name": "stdout",
     "output_type": "stream",
     "text": [
      "[1, 4, 9, 16, 25, 36, 49]\n",
      "[1, 4, 9, 16, 25, 36, 49]\n"
     ]
    }
   ],
   "source": [
    "#every item of a list into its square\n",
    "numbers=[1,2,3,4,5,6,7]\n",
    "res=[]\n",
    "for i in numbers:\n",
    "    res.append(i*i)\n",
    "print(res)\n",
    "numbers=[1,2,3,4,5,6,7]\n",
    "res=[x*x for x in numbers]\n",
    "print(res)"
   ]
  },
  {
   "cell_type": "code",
   "execution_count": 11,
   "id": "5c752312",
   "metadata": {},
   "outputs": [
    {
     "name": "stdout",
     "output_type": "stream",
     "text": [
      "['Mike', 'Emma', 'Kelly', 'brad']\n"
     ]
    }
   ],
   "source": [
    "#Remove empty strings from the list of strings\n",
    "list1=[\"Mike\",\"\",\"Emma\",\"Kelly\",\"\",\"brad\"]\n",
    "res=list(filter(None,list1))\n",
    "print(res)\n"
   ]
  },
  {
   "cell_type": "code",
   "execution_count": 12,
   "id": "9153b631",
   "metadata": {},
   "outputs": [
    {
     "name": "stdout",
     "output_type": "stream",
     "text": [
      "[5, 15, 25, 50]\n"
     ]
    }
   ],
   "source": [
    "#Remove all occurrences of a specific item from a list.\n",
    "list1=[5,20,15,20,25,50,20]\n",
    "def remove_value(sample_list,val):\n",
    "    return [i for i in sample_list if i !=val]\n",
    "\n",
    "res=remove_value(list1,20)\n",
    "print(res)"
   ]
  },
  {
   "cell_type": "code",
   "execution_count": 14,
   "id": "4419d5b8",
   "metadata": {},
   "outputs": [
    {
     "name": "stdout",
     "output_type": "stream",
     "text": [
      "{'Ten': 10, 'Twenty': 20, 'Thirty': 30}\n"
     ]
    }
   ],
   "source": [
    "#Dictionary example\n",
    "#two list into a dictionary\n",
    "Keys=['Ten','Twenty','Thirty']\n",
    "values=[10,20,30]\n",
    "res_dict=dict(zip(Keys,values))\n",
    "print(res_dict)"
   ]
  },
  {
   "cell_type": "code",
   "execution_count": 15,
   "id": "ab5b3713",
   "metadata": {},
   "outputs": [
    {
     "name": "stdout",
     "output_type": "stream",
     "text": [
      "{'Ten': 10, 'Twenty': 20, 'thirty': 30, 'Thirty': 30, 'Fourty': 40, 'Fifty': 50}\n",
      "{'Ten': 10, 'Twenty': 20, 'thirty': 30, 'Thirty': 30, 'Fourty': 40, 'Fifty': 50}\n"
     ]
    }
   ],
   "source": [
    "#merge two python dictionaries into one\n",
    "dict1={'Ten':10,'Twenty':20,'thirty':30}\n",
    "dict2={'Thirty':30,'Fourty':40,'Fifty':50}\n",
    "\n",
    "dict3={**dict1,**dict2}\n",
    "print(dict3)\n",
    "\n",
    "#OR\n",
    "\n",
    "dict1={'Ten':10,'Twenty':20,'thirty':30}\n",
    "dict2={'Thirty':30,'Fourty':40,'Fifty':50}\n",
    "\n",
    "dict3=dict1.copy()\n",
    "dict3.update(dict2)\n",
    "print(dict3)"
   ]
  },
  {
   "cell_type": "code",
   "execution_count": 19,
   "id": "6d32b003",
   "metadata": {},
   "outputs": [
    {
     "name": "stdout",
     "output_type": "stream",
     "text": [
      "80\n"
     ]
    }
   ],
   "source": [
    "# the value of key ‘history’ from the below dict.\n",
    "SampleDict={\n",
    "    \"class\":{\n",
    "        \"student\":{\n",
    "            \"name\":\"Mike\",\n",
    "            \"marks\":{\n",
    "                \"physics\":70,\n",
    "                \"history\":80\n",
    "            }\n",
    "        }\n",
    "    }\n",
    "}\n",
    "print(sampleDict['class']['student']['marks']['history'])"
   ]
  },
  {
   "cell_type": "code",
   "execution_count": 2,
   "id": "c4cbc07c",
   "metadata": {},
   "outputs": [
    {
     "name": "stdout",
     "output_type": "stream",
     "text": [
      "{'Kelly': {'designation': 'Developer', 'salary': 8000}, 'Emma': {'designation': 'Developer', 'salary': 8000}}\n",
      "{'designation': 'Developer', 'salary': 8000}\n"
     ]
    }
   ],
   "source": [
    "#Initialize dictionary with default values\n",
    "employees=['Kelly','Emma']\n",
    "defaults={\"designation\":'Developer',\"salary\":8000}\n",
    "\n",
    "res=dict.fromkeys(employees,defaults)\n",
    "print(res)\n",
    "print(res[\"Kelly\"])"
   ]
  },
  {
   "cell_type": "code",
   "execution_count": 4,
   "id": "62101118",
   "metadata": {},
   "outputs": [
    {
     "name": "stdout",
     "output_type": "stream",
     "text": [
      "{'name': 'Kelly', 'salary': 8000}\n"
     ]
    }
   ],
   "source": [
    "#A dictionary by extracting the keys from a given dictionary.\n",
    "SampleDict={\n",
    "    \"name\":\"Kelly\",\n",
    "    \"age\":25,\n",
    "    \"salary\":8000,\n",
    "    \"city\":\"new york\"}\n",
    "\n",
    "keys=[\"name\",\"salary\"]\n",
    "newDict={k: SampleDict[k] for k in keys}\n",
    "print(newDict)"
   ]
  },
  {
   "cell_type": "code",
   "execution_count": 5,
   "id": "faaec572",
   "metadata": {},
   "outputs": [
    {
     "name": "stdout",
     "output_type": "stream",
     "text": [
      "{'age': 25, 'city': 'New york'}\n"
     ]
    }
   ],
   "source": [
    "#Delete a list of keys from a dictionary\n",
    "Sample_Dict={\n",
    "    \"name\":\"Kelly\",\n",
    "    \"age\":25,\n",
    "    \"salary\":8000,\n",
    "    \"city\":\"New york\"\n",
    "}\n",
    "keys=[\"name\",\"salary\"]\n",
    "for k in keys:\n",
    "    Sample_Dict.pop(k)\n",
    "print(Sample_Dict)"
   ]
  },
  {
   "cell_type": "code",
   "execution_count": 6,
   "id": "6495a884",
   "metadata": {},
   "outputs": [
    {
     "name": "stdout",
     "output_type": "stream",
     "text": [
      "200 present in a dict\n"
     ]
    }
   ],
   "source": [
    "#Check if a value exists in a dictionary\n",
    "Sample_Dict={'a': 100, 'b': 200, 'c': 300}\n",
    "if 200 in Sample_Dict.values():\n",
    "    print('200 present in a dict')\n"
   ]
  },
  {
   "cell_type": "code",
   "execution_count": 9,
   "id": "29c28342",
   "metadata": {},
   "outputs": [
    {
     "name": "stdout",
     "output_type": "stream",
     "text": [
      "{'name': 'Kelly', 'age': 25, 'salary': 8000, 'location': 'New york'}\n"
     ]
    }
   ],
   "source": [
    "#Rename key of a dictionary\n",
    "Sample_Dict={\n",
    "    \"name\":\"Kelly\",\n",
    "    \"age\":25,\n",
    "    \"salary\":8000,\n",
    "    \"city\":\"New york\"\n",
    "}\n",
    "Sample_Dict['location']=Sample_Dict.pop('city')\n",
    "print(Sample_Dict)"
   ]
  },
  {
   "cell_type": "code",
   "execution_count": 10,
   "id": "127de7c5",
   "metadata": {},
   "outputs": [
    {
     "name": "stdout",
     "output_type": "stream",
     "text": [
      "{'emp1': {'name': 'John', 'salary': 7500}, 'emp2': {'name': 'Emma', 'salary': 8000}, 'emp3': {'name': 'Brad', 'salary': 8500}}\n"
     ]
    }
   ],
   "source": [
    "# Change value of a key in a nested dictionary\n",
    "Sample_Dict={\n",
    "    'emp1':{'name':'John','salary':7500},\n",
    "    'emp2':{'name':'Emma','salary':8000},\n",
    "    'emp3':{'name':'Brad','salary':6500}\n",
    "}\n",
    "Sample_Dict['emp3']['salary']=8500\n",
    "print(Sample_Dict)"
   ]
  },
  {
   "cell_type": "code",
   "execution_count": 11,
   "id": "5a2ee9c1",
   "metadata": {},
   "outputs": [
    {
     "name": "stdout",
     "output_type": "stream",
     "text": [
      "Maths\n"
     ]
    }
   ],
   "source": [
    "# Get the key of a minimum value from the dict\n",
    "Sample_Dict={\n",
    "    'Physics':82,\n",
    "    'Maths':65,\n",
    "    'History':75\n",
    "}\n",
    "print(min(Sample_Dict,key=Sample_Dict.get))"
   ]
  },
  {
   "cell_type": "code",
   "execution_count": 12,
   "id": "ef2787c6",
   "metadata": {},
   "outputs": [
    {
     "name": "stdout",
     "output_type": "stream",
     "text": [
      "{'Red', 'orange', 'Blue', 'Black', 'yellow', 'Green'}\n"
     ]
    }
   ],
   "source": [
    "#Add a list of elements to a set\n",
    "Sample_set={\"yellow\",\"orange\",\"Black\"}\n",
    "Sample_list=[\"Blue\",\"Green\",\"Red\"]\n",
    "\n",
    "Sample_set.update(Sample_list)\n",
    "print(Sample_set)"
   ]
  },
  {
   "cell_type": "code",
   "execution_count": 14,
   "id": "3162737e",
   "metadata": {},
   "outputs": [
    {
     "name": "stdout",
     "output_type": "stream",
     "text": [
      "{40, 50, 30}\n"
     ]
    }
   ],
   "source": [
    "#Return a new set of identical items from two sets\n",
    "Set1={10,20,30,40,50}\n",
    "Set2={30,40,50,60,70}\n",
    "print(Set1.intersection(Set2))"
   ]
  },
  {
   "cell_type": "code",
   "execution_count": 15,
   "id": "2f64e677",
   "metadata": {},
   "outputs": [
    {
     "name": "stdout",
     "output_type": "stream",
     "text": [
      "{70, 40, 10, 50, 20, 60, 30}\n"
     ]
    }
   ],
   "source": [
    "#Get Only unique items from two sets\n",
    "Set1={10,20,30,40,50}\n",
    "Set2={30,40,50,60,70}\n",
    "print(Set1.union(Set2))"
   ]
  },
  {
   "cell_type": "code",
   "execution_count": 16,
   "id": "d82f5f23",
   "metadata": {},
   "outputs": [
    {
     "name": "stdout",
     "output_type": "stream",
     "text": [
      "{10, 30}\n"
     ]
    }
   ],
   "source": [
    "#Update the first set with items that don’t exist in the second set\n",
    "Set1={10,20,30}\n",
    "Set2={20,40,50}\n",
    "Set1.difference_update(Set2)\n",
    "print(Set1)"
   ]
  },
  {
   "cell_type": "code",
   "execution_count": 17,
   "id": "435bf763",
   "metadata": {},
   "outputs": [
    {
     "name": "stdout",
     "output_type": "stream",
     "text": [
      "{50, 40}\n"
     ]
    }
   ],
   "source": [
    "#Remove items from the set at once\n",
    "Set1={10,20,30,40,50}\n",
    "Set1.difference_update({10,20,30})\n",
    "print(Set1)"
   ]
  },
  {
   "cell_type": "code",
   "execution_count": 18,
   "id": "b5cc90b7",
   "metadata": {},
   "outputs": [
    {
     "name": "stdout",
     "output_type": "stream",
     "text": [
      "Two Sets have items in common\n",
      "{10}\n"
     ]
    }
   ],
   "source": [
    "#Return a set of elements present in Set A or B, but not both\n",
    "Set1={10,20,30,40,50}\n",
    "Set2={60,70,80,90,10}\n",
    "\n",
    "if Set1.isdisjoint(Set2):\n",
    "    print(\"Two sets have no items in common\")\n",
    "else:\n",
    "    print(\"Two Sets have items in common\")\n",
    "    print(Set1.intersection(Set2))"
   ]
  },
  {
   "cell_type": "code",
   "execution_count": 20,
   "id": "adf79a9f",
   "metadata": {},
   "outputs": [
    {
     "name": "stdout",
     "output_type": "stream",
     "text": [
      "{20, 70, 10, 60}\n"
     ]
    }
   ],
   "source": [
    "#Update set1 by adding items from set2, except common items\n",
    "Set1={10,20,30,40,50}\n",
    "Set2={30,40,50,60,70}\n",
    "\n",
    "Set1.symmetric_difference_update(set2)\n",
    "print(Set1)"
   ]
  },
  {
   "cell_type": "code",
   "execution_count": 21,
   "id": "6e2eb62e",
   "metadata": {},
   "outputs": [
    {
     "name": "stdout",
     "output_type": "stream",
     "text": [
      "{40, 50, 30}\n"
     ]
    }
   ],
   "source": [
    "#Remove items from set1 that are not common to both set1 and set2\n",
    "Set1={10,20,30,40,50}\n",
    "Set2={30,40,50,60,70}\n",
    "\n",
    "Set1.intersection_update(set2)\n",
    "print(Set1)"
   ]
  },
  {
   "cell_type": "code",
   "execution_count": 23,
   "id": "3e83d730",
   "metadata": {},
   "outputs": [
    {
     "name": "stdout",
     "output_type": "stream",
     "text": [
      "(50, 40, 30, 20, 10)\n"
     ]
    }
   ],
   "source": [
    "#Reserve The Tupplr\n",
    "tuple1=(10,20,30,40,50)\n",
    "tuple1=tuple1[::-1]\n",
    "print(tuple1)"
   ]
  },
  {
   "cell_type": "code",
   "execution_count": 27,
   "id": "9a72f275",
   "metadata": {},
   "outputs": [
    {
     "name": "stdout",
     "output_type": "stream",
     "text": [
      "20\n"
     ]
    }
   ],
   "source": [
    "#Access value 20 from the tuple\n",
    "tuple1=(\"orange\",[10,20,30],(5,15,25))\n",
    "print(tuple1[1][1])"
   ]
  },
  {
   "cell_type": "code",
   "execution_count": 29,
   "id": "3d9e1b10",
   "metadata": {},
   "outputs": [
    {
     "name": "stdout",
     "output_type": "stream",
     "text": [
      "50\n"
     ]
    }
   ],
   "source": [
    "#Create a tuple with single item 50\n",
    "tuple1=(50)\n",
    "print(tuple1)"
   ]
  },
  {
   "cell_type": "code",
   "execution_count": 30,
   "id": "91d295ab",
   "metadata": {},
   "outputs": [
    {
     "name": "stdout",
     "output_type": "stream",
     "text": [
      "10\n",
      "20\n",
      "30\n",
      "40\n"
     ]
    }
   ],
   "source": [
    "#Unpack the tuple into 4 variables\n",
    "tuple1 = (10, 20, 30, 40)\n",
    "a, b, c, d = tuple1\n",
    "print(a)\n",
    "print(b)\n",
    "print(c)\n",
    "print(d)"
   ]
  },
  {
   "cell_type": "code",
   "execution_count": 31,
   "id": "38b13688",
   "metadata": {},
   "outputs": [
    {
     "name": "stdout",
     "output_type": "stream",
     "text": [
      "(11, 22)\n",
      "(99, 88)\n"
     ]
    }
   ],
   "source": [
    "#Swap two tuples in Python\n",
    "tuple1=(11,22)\n",
    "tuple2=(99,88)\n",
    "tuple1,tuple2=tuple2,tuple1\n",
    "print(tuple2)\n",
    "print(tuple1)"
   ]
  },
  {
   "cell_type": "code",
   "execution_count": 32,
   "id": "671b30ff",
   "metadata": {},
   "outputs": [
    {
     "name": "stdout",
     "output_type": "stream",
     "text": [
      "(44, 55)\n"
     ]
    }
   ],
   "source": [
    "#Copy specific elements from one tuple to a new tuple\n",
    "tuple1=(11,22,33,44,55,66)\n",
    "tuple2=tuple1[3:-1]\n",
    "print(tuple2)"
   ]
  },
  {
   "cell_type": "code",
   "execution_count": 33,
   "id": "f0a823d0",
   "metadata": {},
   "outputs": [
    {
     "name": "stdout",
     "output_type": "stream",
     "text": [
      "(11, [222, 33], 44, 55)\n"
     ]
    }
   ],
   "source": [
    "#Modify the tuple\n",
    "tuple1=(11,[22,33],44,55)\n",
    "tuple1[1][0]=222\n",
    "print(tuple1)"
   ]
  },
  {
   "cell_type": "code",
   "execution_count": 35,
   "id": "1c281447",
   "metadata": {},
   "outputs": [
    {
     "name": "stdout",
     "output_type": "stream",
     "text": [
      "(('c', 11), ('a', 23), ('d', 29), ('b', 37))\n"
     ]
    }
   ],
   "source": [
    "#Sort a tuple of tuples by 2nd item\n",
    "tuple1=(('a',23),('b',37),('c',11),('d',29))\n",
    "tuple1=tuple(sorted(list(tuple1),key=lambda x: x[1]))\n",
    "print(tuple1)"
   ]
  },
  {
   "cell_type": "code",
   "execution_count": 36,
   "id": "bf58926d",
   "metadata": {},
   "outputs": [
    {
     "name": "stdout",
     "output_type": "stream",
     "text": [
      "2\n"
     ]
    }
   ],
   "source": [
    "# Counts the number of occurrences of item 50 from a tuple\n",
    "tuple1=(50,10,60,70,50)\n",
    "print(tuple1.count(50))"
   ]
  },
  {
   "cell_type": "code",
   "execution_count": 37,
   "id": "5948a9f5",
   "metadata": {},
   "outputs": [
    {
     "name": "stdout",
     "output_type": "stream",
     "text": [
      "True\n"
     ]
    }
   ],
   "source": [
    "#Check if all items in the tuple are the same\n",
    "def check(t):\n",
    "    return all(i == t[0] for i in t)\n",
    "\n",
    "tuple1=(45,45,45,45)\n",
    "print(check(tuple1))"
   ]
  },
  {
   "cell_type": "code",
   "execution_count": null,
   "id": "5a5530a1",
   "metadata": {},
   "outputs": [],
   "source": [
    "#Numpy examples"
   ]
  },
  {
   "cell_type": "code",
   "execution_count": 3,
   "id": "abf16a49",
   "metadata": {},
   "outputs": [
    {
     "name": "stdout",
     "output_type": "stream",
     "text": [
      "Printing Array\n",
      "[[ 4104 10367]\n",
      " [10051  1501]\n",
      " [61950 29751]\n",
      " [34929 63482]]\n",
      "Printing numpy Array Attributes\n",
      "1> Array shape is: (4, 2)\n",
      "2> Array dimensions are 2\n",
      "3> Lngth of each element of array in bytes is 2\n"
     ]
    }
   ],
   "source": [
    "#Create a 4X2 integer array and Prints its attributes\n",
    "import numpy\n",
    "firstArray=numpy.empty([4,2],dtype=numpy.uint16)\n",
    "print(\"Printing Array\")\n",
    "print(firstArray)\n",
    "\n",
    "print(\"Printing numpy Array Attributes\")\n",
    "print(\"1> Array shape is:\",firstArray.shape)\n",
    "print(\"2> Array dimensions are\",firstArray.ndim)\n",
    "print(\"3> Lngth of each element of array in bytes is\",firstArray.itemsize)"
   ]
  },
  {
   "cell_type": "code",
   "execution_count": 6,
   "id": "3638eae8",
   "metadata": {},
   "outputs": [
    {
     "name": "stdout",
     "output_type": "stream",
     "text": [
      "Creating 5*2 array using numpy.arange\n",
      "[[100 110]\n",
      " [120 130]\n",
      " [140 150]\n",
      " [160 170]\n",
      " [180 190]]\n"
     ]
    }
   ],
   "source": [
    "#Create a 5X2 integer array from a range between 100 to 200 such that the difference between each element is 10\n",
    "import numpy\n",
    "print(\"Creating 5*2 array using numpy.arange\")\n",
    "samplearray=numpy.arange(100,200,10)\n",
    "samplearray=samplearray.reshape(5,2)\n",
    "print(samplearray)\n"
   ]
  },
  {
   "cell_type": "code",
   "execution_count": 8,
   "id": "a3fcf977",
   "metadata": {},
   "outputs": [
    {
     "name": "stdout",
     "output_type": "stream",
     "text": [
      "Printing Input Array\n",
      "[[11 22 33]\n",
      " [44 55 66]\n",
      " [77 88 99]]\n",
      "\n",
      " Printing array of items in the third column from all rows\n",
      "[33 66 99]\n"
     ]
    }
   ],
   "source": [
    "# Following is the provided numPy array. Return array of items by taking the third column from all rows\n",
    "import numpy\n",
    "samplearray=numpy.array([[11,22,33],[44,55,66],[77,88,99]])\n",
    "print(\"Printing Input Array\")\n",
    "print(samplearray)\n",
    "print(\"\\n Printing array of items in the third column from all rows\")\n",
    "newArray=samplearray[...,2]\n",
    "print(newArray)\n"
   ]
  },
  {
   "cell_type": "code",
   "execution_count": 14,
   "id": "b1d02a67",
   "metadata": {},
   "outputs": [
    {
     "name": "stdout",
     "output_type": "stream",
     "text": [
      "[[ 3  6  9 12]\n",
      " [15 18 21 24]\n",
      " [27 30 33 36]\n",
      " [39 42 45 48]\n",
      " [51 54 57 60]]\n",
      "\n",
      " Printing array of odd rows and even columns\n",
      "[[ 6 12]\n",
      " [30 36]\n",
      " [54 60]]\n"
     ]
    }
   ],
   "source": [
    "#Return array of odd rows and even columns from below numpy array\n",
    "import numpy\n",
    "sampleArray=numpy.array([[3,6,9,12],[15,18,21,24],\n",
    "[27,30,33,36], [39,42,45,48], [51,54,57,60]])\n",
    "print(sampleArray)\n",
    "print(\"\\n Printing array of odd rows and even columns\")\n",
    "newArray=sampleArray[::2,1::2]\n",
    "print(newArray)"
   ]
  },
  {
   "cell_type": "code",
   "execution_count": 15,
   "id": "0ebfc4d2",
   "metadata": {},
   "outputs": [
    {
     "name": "stdout",
     "output_type": "stream",
     "text": [
      "addition of two arrays in \n",
      "\n",
      "[[20 39 33]\n",
      " [25 25 28]]\n",
      "\n",
      "Result array after calculating the square root of all elements\n",
      "\n",
      "[[ 400 1521 1089]\n",
      " [ 625  625  784]]\n"
     ]
    }
   ],
   "source": [
    "#Create a result array by adding the following two NumPy arrays. Next, modify the result array by calculating the square of each element\n",
    "import numpy\n",
    "arrayOne=numpy.array([[5,6,9],[21,18,27]])\n",
    "arrayTwo=numpy.array([[15,33,24],[4,7,1]])\n",
    "resultArray=arrayOne + arrayTwo\n",
    "print(\"addition of two arrays in \\n\")\n",
    "print(resultArray)\n",
    "for num in numpy.nditer(resultArray,op_flags=['readwrite']):\n",
    "    num[...]=num*num\n",
    "print(\"\\nResult array after calculating the square root of all elements\\n\")\n",
    "print(resultArray)"
   ]
  },
  {
   "cell_type": "code",
   "execution_count": 17,
   "id": "0aafd3bb",
   "metadata": {},
   "outputs": [
    {
     "name": "stdout",
     "output_type": "stream",
     "text": [
      "creating 8*3 array using numpy.arange\n",
      "[[10 11 12]\n",
      " [13 14 15]\n",
      " [16 17 18]\n",
      " [19 20 21]\n",
      " [22 23 24]\n",
      " [25 26 27]\n",
      " [28 29 30]\n",
      " [31 32 33]]\n",
      "\n",
      "Dividing 8*3 array into 4 sb array\n",
      "\n",
      "[array([[10, 11, 12],\n",
      "       [13, 14, 15]]), array([[16, 17, 18],\n",
      "       [19, 20, 21]]), array([[22, 23, 24],\n",
      "       [25, 26, 27]]), array([[28, 29, 30],\n",
      "       [31, 32, 33]])]\n"
     ]
    }
   ],
   "source": [
    "#Split the array into four equal-sized sub-arrays\n",
    "import numpy\n",
    "print(\"creating 8*3 array using numpy.arange\")\n",
    "sampleArray=numpy.arange(10,34,1)\n",
    "sampleArray=sampleArray.reshape(8,3)\n",
    "print(sampleArray)\n",
    "\n",
    "print(\"\\nDividing 8*3 array into 4 sb array\\n\")\n",
    "subArrays=numpy.split(sampleArray,4)\n",
    "print(subArrays)"
   ]
  },
  {
   "cell_type": "code",
   "execution_count": 9,
   "id": "3ad289c4",
   "metadata": {},
   "outputs": [
    {
     "name": "stdout",
     "output_type": "stream",
     "text": [
      "printing Original array\n",
      "[[34 43 73]\n",
      " [82 22 12]\n",
      " [53 94 66]]\n",
      "Sorting Original Array by second row\n",
      "[[73 43 34]\n",
      " [12 22 82]\n",
      " [66 94 53]]\n",
      "Sorting Original Array by second column\n",
      "[[82 22 12]\n",
      " [34 43 73]\n",
      " [53 94 66]]\n"
     ]
    }
   ],
   "source": [
    "#Sort following NumPy array\n",
    "#Case 1: Sort array by the second row\n",
    "#Case 2: Sort the array by the second column\n",
    "\n",
    "import numpy\n",
    "print(\"printing Original array\")\n",
    "SampleArray = numpy.array([[34,43,73],[82,22,12],[53,94,66]])\n",
    "print(SampleArray)\n",
    "\n",
    "SortArrayByRow = SampleArray[:,SampleArray[1,:].argsort()]\n",
    "print(\"Sorting Original Array by second row\")\n",
    "print(SortArrayByRow)\n",
    "\n",
    "print(\"Sorting Original Array by second column\")\n",
    "SortArrayByColumn = SampleArray[SampleArray[:,1].argsort()]\n",
    "print(SortArrayByColumn)\n",
    "\n",
    "        "
   ]
  },
  {
   "cell_type": "code",
   "execution_count": 11,
   "id": "86e1912d",
   "metadata": {},
   "outputs": [
    {
     "name": "stdout",
     "output_type": "stream",
     "text": [
      "Printing Original array\n",
      "[[34 43 73]\n",
      " [82 22 12]\n",
      " [53 94 66]]\n",
      "Printing amin Of Axis 1\n",
      "[34 12 53]\n",
      "Printing amax Of Axis 0\n",
      "[82 94 73]\n"
     ]
    }
   ],
   "source": [
    "#Print max from axis 0 and min from axis 1 from the following 2-D array.\n",
    "import numpy\n",
    "print(\"Printing Original array\")\n",
    "SampleArray=numpy.array([[34,43,73],[82,22,12],[53,94,66]])\n",
    "print(SampleArray)\n",
    "\n",
    "minOfAxisOne=numpy.amin(SampleArray,1)\n",
    "print(\"Printing amin Of Axis 1\")\n",
    "print(minOfAxisOne)\n",
    "\n",
    "maxOfAxisOne=numpy.amax(SampleArray,0)\n",
    "print(\"Printing amax Of Axis 0\")\n",
    "print(maxOfAxisOne)"
   ]
  },
  {
   "cell_type": "code",
   "execution_count": 12,
   "id": "23ac84e8",
   "metadata": {},
   "outputs": [
    {
     "name": "stdout",
     "output_type": "stream",
     "text": [
      "Printing Original array\n",
      "[[34 43 73]\n",
      " [82 22 12]\n",
      " [53 94 66]]\n",
      "Array after deleting column 2 on axis 1\n",
      "[[34 73]\n",
      " [82 12]\n",
      " [53 66]]\n",
      "Array after inserting column 2 on axis 1\n",
      "[[34 10 73]\n",
      " [82 10 12]\n",
      " [53 10 66]]\n"
     ]
    }
   ],
   "source": [
    "#Delete the second column from a given array and insert the following new column in its place.\n",
    "import numpy\n",
    "\n",
    "print(\"Printing Original array\")\n",
    "sampleArray = numpy.array([[34,43,73],[82,22,12],[53,94,66]]) \n",
    "print (sampleArray)\n",
    "print(\"Array after deleting column 2 on axis 1\")\n",
    "sampleArray=numpy.delete(sampleArray,1,axis=1)\n",
    "print(sampleArray)\n",
    "\n",
    "arr=numpy.array([[10,10,10]])\n",
    "print(\"Array after inserting column 2 on axis 1\")\n",
    "sampleArray=numpy.insert(sampleArray,1,arr,axis=1)\n",
    "print(sampleArray)"
   ]
  },
  {
   "cell_type": "code",
   "execution_count": 13,
   "id": "7bb04126",
   "metadata": {},
   "outputs": [
    {
     "name": "stdout",
     "output_type": "stream",
     "text": [
      "Printing Original array\n",
      "[[34 43 73]\n",
      " [82 22 12]\n",
      " [53 94 66]]\n",
      "Array after deleting column 2 on axis 1\n",
      "[[34 73]\n",
      " [82 12]\n",
      " [53 66]]\n",
      "Array after inserting column 2 on axis 1\n",
      "[[34 10 73]\n",
      " [82 10 12]\n",
      " [53 10 66]]\n"
     ]
    }
   ],
   "source": [
    "#Create two 2-D arrays and Plot them using matplotlib\n",
    "import numpy\n",
    "\n",
    "print(\"Printing Original array\")\n",
    "sampleArray = numpy.array([[34,43,73],[82,22,12],[53,94,66]]) \n",
    "print (sampleArray)\n",
    "\n",
    "print(\"Array after deleting column 2 on axis 1\")\n",
    "sampleArray = numpy.delete(sampleArray , 1, axis = 1) \n",
    "print (sampleArray)\n",
    "\n",
    "arr = numpy.array([[10,10,10]])\n",
    "\n",
    "print(\"Array after inserting column 2 on axis 1\")\n",
    "sampleArray = numpy.insert(sampleArray , 1, arr, axis = 1) \n",
    "print (sampleArray)"
   ]
  },
  {
   "cell_type": "code",
   "execution_count": null,
   "id": "a1cafb1f",
   "metadata": {},
   "outputs": [],
   "source": [
    "#Histogram numpy"
   ]
  },
  {
   "cell_type": "code",
   "execution_count": 17,
   "id": "23aae58e",
   "metadata": {},
   "outputs": [
    {
     "data": {
      "text/plain": [
       "'1.21.5'"
      ]
     },
     "execution_count": 17,
     "metadata": {},
     "output_type": "execute_result"
    }
   ],
   "source": [
    "import numpy as np\n",
    "np.__version__"
   ]
  },
  {
   "cell_type": "code",
   "execution_count": 18,
   "id": "02982447",
   "metadata": {},
   "outputs": [
    {
     "name": "stdout",
     "output_type": "stream",
     "text": [
      "[0 1 2 3 4 5 6 7 8 9]\n"
     ]
    },
    {
     "data": {
      "text/plain": [
       "numpy.ndarray"
      ]
     },
     "execution_count": 18,
     "metadata": {},
     "output_type": "execute_result"
    }
   ],
   "source": [
    "x=np.arange(10)\n",
    "print(x)\n",
    "type(x)"
   ]
  },
  {
   "cell_type": "code",
   "execution_count": 19,
   "id": "aac394a9",
   "metadata": {},
   "outputs": [
    {
     "name": "stdout",
     "output_type": "stream",
     "text": [
      "Computioally faster than working with python Lists\n"
     ]
    },
    {
     "data": {
      "text/plain": [
       "array([         0,          1,          4, ..., 1409465417, 1409665412,\n",
       "       1409865409], dtype=int32)"
      ]
     },
     "execution_count": 19,
     "metadata": {},
     "output_type": "execute_result"
    }
   ],
   "source": [
    "print(\"Computioally faster than working with python Lists\")\n",
    "y=np.arange(100000)\n",
    "y=y**2\n",
    "y"
   ]
  },
  {
   "cell_type": "code",
   "execution_count": 20,
   "id": "b9b567de",
   "metadata": {},
   "outputs": [
    {
     "name": "stdout",
     "output_type": "stream",
     "text": [
      "['Dog', 'Mammal', 45, 7]\n"
     ]
    }
   ],
   "source": [
    "animal=['Dog','Mammal',45,7]\n",
    "print(animal)"
   ]
  },
  {
   "cell_type": "code",
   "execution_count": 21,
   "id": "5587c9eb",
   "metadata": {},
   "outputs": [
    {
     "name": "stdout",
     "output_type": "stream",
     "text": [
      "Data must be all of the same type\n"
     ]
    },
    {
     "data": {
      "text/plain": [
       "array(['Dog', 'Mammal', '45', '7'], dtype='<U11')"
      ]
     },
     "execution_count": 21,
     "metadata": {},
     "output_type": "execute_result"
    }
   ],
   "source": [
    "print(\"Data must be all of the same type\")\n",
    "np.array(animal)"
   ]
  },
  {
   "cell_type": "code",
   "execution_count": 22,
   "id": "4c0d86da",
   "metadata": {},
   "outputs": [
    {
     "name": "stdout",
     "output_type": "stream",
     "text": [
      "Array can be n dimensional --but most commonly one two or three dimensional\n",
      "[ 0  1  2  3  4  5  6  7  8  9 10 11 12 13 14 15 16 17 18 19 20 21 22 23\n",
      " 24 25 26]\n"
     ]
    }
   ],
   "source": [
    "print(\"Array can be n dimensional --but most commonly one two or three dimensional\")\n",
    "ndim=np.arange(27)\n",
    "print(ndim)"
   ]
  },
  {
   "cell_type": "code",
   "execution_count": 23,
   "id": "b1641ec6",
   "metadata": {},
   "outputs": [
    {
     "name": "stdout",
     "output_type": "stream",
     "text": [
      "[[[ 0  1  2]\n",
      "  [ 3  4  5]\n",
      "  [ 6  7  8]]\n",
      "\n",
      " [[ 9 10 11]\n",
      "  [12 13 14]\n",
      "  [15 16 17]]\n",
      "\n",
      " [[18 19 20]\n",
      "  [21 22 23]\n",
      "  [24 25 26]]]\n"
     ]
    }
   ],
   "source": [
    "ndim=np.arange(27).reshape(3,3,3)\n",
    "print(ndim)"
   ]
  },
  {
   "cell_type": "code",
   "execution_count": 27,
   "id": "73e6c363",
   "metadata": {},
   "outputs": [
    {
     "name": "stdout",
     "output_type": "stream",
     "text": [
      "[[[[ 0  1]\n",
      "   [ 2  3]]\n",
      "\n",
      "  [[ 4  5]\n",
      "   [ 6  7]]]\n",
      "\n",
      "\n",
      " [[[ 8  9]\n",
      "   [10 11]]\n",
      "\n",
      "  [[12 13]\n",
      "   [14 15]]]]\n"
     ]
    }
   ],
   "source": [
    "twos=np.arange(16).reshape(2,2,2,2)\n",
    "print(twos)"
   ]
  },
  {
   "cell_type": "code",
   "execution_count": 22,
   "id": "8abfe96f",
   "metadata": {},
   "outputs": [
    {
     "name": "stdout",
     "output_type": "stream",
     "text": [
      "Sometimes its easier to define a data holder before actually the getting or generating the data\n",
      "[[1. 1. 1. 1. 1.]\n",
      " [1. 1. 1. 1. 1.]\n",
      " [1. 1. 1. 1. 1.]]\n",
      "\n",
      "[[0. 0. 0. 0. 0.]\n",
      " [0. 0. 0. 0. 0.]\n",
      " [0. 0. 0. 0. 0.]]\n",
      "\n",
      "[[1. 0. 0. 0. 0.]\n",
      " [0. 1. 0. 0. 0.]\n",
      " [0. 0. 1. 0. 0.]]\n"
     ]
    }
   ],
   "source": [
    "print(\"Sometimes its easier to define a data holder before actually the getting or generating the data\")\n",
    "print(np.ones((3,5)), end='\\n\\n')\n",
    "print(np.zeros((3,5)), end='\\n\\n')\n",
    "print(np.eye(3,5))"
   ]
  },
  {
   "cell_type": "code",
   "execution_count": 29,
   "id": "4cbfd8d6",
   "metadata": {},
   "outputs": [
    {
     "name": "stdout",
     "output_type": "stream",
     "text": [
      "Subsetting can be on one or more dimensions\n",
      "[2 3 9 0 3 6 0 9 3 3 0 1 8 2 1]\n"
     ]
    }
   ],
   "source": [
    "print(\"Subsetting can be on one or more dimensions\")\n",
    "data = np.random.randint(10, size=15)\n",
    "print(data)"
   ]
  },
  {
   "cell_type": "code",
   "execution_count": 31,
   "id": "4611255c",
   "metadata": {},
   "outputs": [
    {
     "data": {
      "text/plain": [
       "2"
      ]
     },
     "execution_count": 31,
     "metadata": {},
     "output_type": "execute_result"
    }
   ],
   "source": [
    "data[0]"
   ]
  },
  {
   "cell_type": "code",
   "execution_count": 32,
   "id": "393b5cf0",
   "metadata": {},
   "outputs": [
    {
     "data": {
      "text/plain": [
       "array([2, 3, 9])"
      ]
     },
     "execution_count": 32,
     "metadata": {},
     "output_type": "execute_result"
    }
   ],
   "source": [
    "data[:3]\n"
   ]
  },
  {
   "cell_type": "code",
   "execution_count": 33,
   "id": "7470d4e9",
   "metadata": {},
   "outputs": [
    {
     "data": {
      "text/plain": [
       "array([0, 3, 6, 0, 9])"
      ]
     },
     "execution_count": 33,
     "metadata": {},
     "output_type": "execute_result"
    }
   ],
   "source": [
    "data[3:8]"
   ]
  },
  {
   "cell_type": "code",
   "execution_count": 34,
   "id": "040e518d",
   "metadata": {},
   "outputs": [
    {
     "data": {
      "text/plain": [
       "array([[2, 3, 9, 0, 3],\n",
       "       [6, 0, 9, 3, 3],\n",
       "       [0, 1, 8, 2, 1]])"
      ]
     },
     "execution_count": 34,
     "metadata": {},
     "output_type": "execute_result"
    }
   ],
   "source": [
    "data = data.reshape(3,5)\n",
    "data"
   ]
  },
  {
   "cell_type": "code",
   "execution_count": 35,
   "id": "f76d42f4",
   "metadata": {},
   "outputs": [
    {
     "data": {
      "text/plain": [
       "array([2, 3, 9, 0, 3])"
      ]
     },
     "execution_count": 35,
     "metadata": {},
     "output_type": "execute_result"
    }
   ],
   "source": [
    "data[0]"
   ]
  },
  {
   "cell_type": "code",
   "execution_count": 36,
   "id": "35de2032",
   "metadata": {},
   "outputs": [
    {
     "data": {
      "text/plain": [
       "array([2, 6, 0])"
      ]
     },
     "execution_count": 36,
     "metadata": {},
     "output_type": "execute_result"
    }
   ],
   "source": [
    "data[:,0]"
   ]
  },
  {
   "cell_type": "code",
   "execution_count": 37,
   "id": "6467e403",
   "metadata": {},
   "outputs": [
    {
     "data": {
      "text/plain": [
       "2"
      ]
     },
     "execution_count": 37,
     "metadata": {},
     "output_type": "execute_result"
    }
   ],
   "source": [
    "data[0,0]"
   ]
  },
  {
   "cell_type": "code",
   "execution_count": 38,
   "id": "f8403af5",
   "metadata": {},
   "outputs": [
    {
     "name": "stdout",
     "output_type": "stream",
     "text": [
      "Creating indirect sorting\n",
      "Argsort  returns indices that would sort an array leaves array unchanged\n",
      "[2 4 0 1 3 5]\n",
      "[1 2 3 5 6 7]\n",
      "[3 5 1 6 2 7]\n"
     ]
    }
   ],
   "source": [
    "print(\"Creating indirect sorting\")\n",
    "print(\"Argsort  returns indices that would sort an array leaves array unchanged\")\n",
    "x = np.array([3,5,1,6,2,7])\n",
    "print(np.argsort(x))\n",
    "print(x[x.argsort()])\n",
    "print(x)\n"
   ]
  },
  {
   "cell_type": "code",
   "execution_count": 39,
   "id": "43a96de9",
   "metadata": {},
   "outputs": [
    {
     "name": "stdout",
     "output_type": "stream",
     "text": [
      "You can use it to match up values from separate arrays\n"
     ]
    }
   ],
   "source": [
    "print(\"You can use it to match up values from separate arrays\")\n",
    "grade = np.array([3, 5, 1, 6, 2, 7])\n",
    "ages = np.array([8, 10, 6, 11, 7,12])\n"
   ]
  },
  {
   "cell_type": "code",
   "execution_count": 40,
   "id": "0fd050f9",
   "metadata": {},
   "outputs": [
    {
     "name": "stdout",
     "output_type": "stream",
     "text": [
      "[1 2 3 5 6 7]\n",
      "[ 6  7  8 10 11 12]\n",
      "if you want the comma seperators between values\n",
      "[1, 2, 3, 5, 6, 7]\n",
      "Indiretly sort in descending order\n",
      "[12, 11, 10, 8, 7, 6]\n"
     ]
    }
   ],
   "source": [
    "sort_index = np.argsort(ages)\n",
    "\n",
    "print(grade[sort_index])\n",
    "print(ages[sort_index])\n",
    "\n",
    "print(\"if you want the comma seperators between values\")\n",
    "print(list(grade[sort_index]))\n",
    "\n",
    "\n",
    "print(\"Indiretly sort in descending order\")\n",
    "print(list(ages[sort_index])[::-1])"
   ]
  },
  {
   "cell_type": "code",
   "execution_count": 41,
   "id": "ab6f9f92",
   "metadata": {},
   "outputs": [
    {
     "name": "stdout",
     "output_type": "stream",
     "text": [
      "Working with Random Distributions\n"
     ]
    }
   ],
   "source": [
    "print(\"Working with Random Distributions\")\n",
    "import numpy as np\n",
    "import numpy.random as npr\n",
    "import matplotlib.pyplot as plt"
   ]
  },
  {
   "cell_type": "code",
   "execution_count": 42,
   "id": "77b5eef6",
   "metadata": {},
   "outputs": [
    {
     "name": "stdout",
     "output_type": "stream",
     "text": [
      "We can simulate values from a normal distribution\n",
      "{'   0.0192816568'}\n",
      "{'   0.9917079155'}\n"
     ]
    }
   ],
   "source": [
    "print(\"We can simulate values from a normal distribution\")\n",
    "x = npr.standard_normal(5000)\n",
    "print({\"{:15.10f}\".format(x.mean())})\n",
    "print({\"{:15.10f}\".format(x.std())})"
   ]
  },
  {
   "cell_type": "code",
   "execution_count": 43,
   "id": "e234d4f3",
   "metadata": {},
   "outputs": [
    {
     "name": "stdout",
     "output_type": "stream",
     "text": [
      "Represent the values roughly normal Over/Under representation\n",
      "The towers or bars of a histogram are called bins. The height of each bin shows how many values from that data fall into that range. The default value of the number of bins to be created in a histogram is 10. However, we can change the size of bins\n"
     ]
    },
    {
     "data": {
      "text/plain": [
       "(array([  5.,   1.,   0.,   5.,   6.,   7.,   7.,  10.,  19.,  22.,  30.,\n",
       "         45.,  64.,  69.,  82.,  99., 107., 138., 150., 202., 225., 223.,\n",
       "        236., 287., 276., 249., 273., 253., 232., 260., 210., 195., 191.,\n",
       "        161., 139.,  98., 100.,  75.,  61.,  54.,  43.,  24.,  17.,  17.,\n",
       "         15.,   3.,   3.,   4.,   6.,   2.]),\n",
       " array([-3.43609143, -3.30205045, -3.16800947, -3.0339685 , -2.89992752,\n",
       "        -2.76588655, -2.63184557, -2.4978046 , -2.36376362, -2.22972265,\n",
       "        -2.09568167, -1.9616407 , -1.82759972, -1.69355875, -1.55951777,\n",
       "        -1.42547679, -1.29143582, -1.15739484, -1.02335387, -0.88931289,\n",
       "        -0.75527192, -0.62123094, -0.48718997, -0.35314899, -0.21910802,\n",
       "        -0.08506704,  0.04897393,  0.18301491,  0.31705588,  0.45109686,\n",
       "         0.58513784,  0.71917881,  0.85321979,  0.98726076,  1.12130174,\n",
       "         1.25534271,  1.38938369,  1.52342466,  1.65746564,  1.79150661,\n",
       "         1.92554759,  2.05958856,  2.19362954,  2.32767052,  2.46171149,\n",
       "         2.59575247,  2.72979344,  2.86383442,  2.99787539,  3.13191637,\n",
       "         3.26595734]),\n",
       " <BarContainer object of 50 artists>)"
      ]
     },
     "execution_count": 43,
     "metadata": {},
     "output_type": "execute_result"
    },
    {
     "data": {
      "image/png": "[encoded data removed]",
      "text/plain": [
       "<Figure size 432x288 with 1 Axes>"
      ]
     },
     "metadata": {
      "needs_background": "light"
     },
     "output_type": "display_data"
    }
   ],
   "source": [
    "print(\"Represent the values roughly normal Over/Under representation\")\n",
    "print(\"The towers or bars of a histogram are called bins. The height of each bin shows how many values from that data fall into that range. The default value of the number of bins to be created in a histogram is 10. However, we can change the size of bins\")\n",
    "plt.hist(x,bins=50)"
   ]
  },
  {
   "cell_type": "code",
   "execution_count": 6,
   "id": "e8e30289",
   "metadata": {},
   "outputs": [
    {
     "name": "stdout",
     "output_type": "stream",
     "text": [
      "Working with Random Distributions\n"
     ]
    }
   ],
   "source": [
    "print(\"Working with Random Distributions\")\n",
    "import numpy as np\n",
    "import numpy.random as npr\n",
    "import matplotlib.pyplot as plt"
   ]
  },
  {
   "cell_type": "code",
   "execution_count": 7,
   "id": "6cb90a56",
   "metadata": {},
   "outputs": [
    {
     "name": "stdout",
     "output_type": "stream",
     "text": [
      "we can simulate values from a normal distribution\n",
      "{'   0.0104398378'}\n",
      "{'   1.0099443390'}\n"
     ]
    },
    {
     "data": {
      "text/plain": [
       "(array([  1.,   2.,   2.,   3.,   4.,   7.,  14.,  14.,  24.,  24.,  25.,\n",
       "         40.,  49.,  74.,  91., 112., 129., 135., 187., 191., 192., 218.,\n",
       "        253., 251., 264., 294., 255., 249., 246., 246., 216., 224., 167.,\n",
       "        128., 126., 113.,  89.,  79.,  65.,  45.,  40.,  25.,  25.,  28.,\n",
       "         13.,  10.,   3.,   4.,   3.,   1.]),\n",
       " array([-3.46323261, -3.32808873, -3.19294486, -3.05780099, -2.92265712,\n",
       "        -2.78751324, -2.65236937, -2.5172255 , -2.38208163, -2.24693775,\n",
       "        -2.11179388, -1.97665001, -1.84150613, -1.70636226, -1.57121839,\n",
       "        -1.43607452, -1.30093064, -1.16578677, -1.0306429 , -0.89549902,\n",
       "        -0.76035515, -0.62521128, -0.49006741, -0.35492353, -0.21977966,\n",
       "        -0.08463579,  0.05050809,  0.18565196,  0.32079583,  0.4559397 ,\n",
       "         0.59108358,  0.72622745,  0.86137132,  0.9965152 ,  1.13165907,\n",
       "         1.26680294,  1.40194681,  1.53709069,  1.67223456,  1.80737843,\n",
       "         1.94252231,  2.07766618,  2.21281005,  2.34795392,  2.4830978 ,\n",
       "         2.61824167,  2.75338554,  2.88852942,  3.02367329,  3.15881716,\n",
       "         3.29396103]),\n",
       " <BarContainer object of 50 artists>)"
      ]
     },
     "execution_count": 7,
     "metadata": {},
     "output_type": "execute_result"
    },
    {
     "data": {
      "image/png": "[encoded data removed]",
      "text/plain": [
       "<Figure size 432x288 with 1 Axes>"
      ]
     },
     "metadata": {
      "needs_background": "light"
     },
     "output_type": "display_data"
    }
   ],
   "source": [
    "print(\"we can simulate values from a normal distribution\")\n",
    "x=npr.standard_normal(5000)\n",
    "print({\"{:15.10f}\".format(x.mean())})\n",
    "print({\"{:15.10f}\".format(x.std())})\n",
    "plt.hist(x,bins=50)\n"
   ]
  },
  {
   "cell_type": "code",
   "execution_count": 8,
   "id": "311ac004",
   "metadata": {},
   "outputs": [
    {
     "name": "stdout",
     "output_type": "stream",
     "text": [
      "{'  -0.0000000000'}\n",
      "{'   1.0099982961'}\n"
     ]
    },
    {
     "data": {
      "text/plain": [
       "(array([  1.,   3.,   5.,   8.,   6.,  20.,  24.,  47.,  50.,  47.,  70.,\n",
       "         95., 130., 157., 196., 235., 268., 296., 380., 439., 415., 505.,\n",
       "        524., 519., 560., 560., 519., 524., 505., 415., 439., 380., 296.,\n",
       "        268., 235., 196., 157., 130.,  95.,  70.,  47.,  50.,  47.,  24.,\n",
       "         20.,   6.,   8.,   5.,   3.,   1.]),\n",
       " array([-3.46323261e+00, -3.32470330e+00, -3.18617400e+00, -3.04764469e+00,\n",
       "        -2.90911539e+00, -2.77058609e+00, -2.63205678e+00, -2.49352748e+00,\n",
       "        -2.35499817e+00, -2.21646887e+00, -2.07793956e+00, -1.93941026e+00,\n",
       "        -1.80088096e+00, -1.66235165e+00, -1.52382235e+00, -1.38529304e+00,\n",
       "        -1.24676374e+00, -1.10823443e+00, -9.69705130e-01, -8.31175826e-01,\n",
       "        -6.92646522e-01, -5.54117217e-01, -4.15587913e-01, -2.77058609e-01,\n",
       "        -1.38529304e-01,  4.44089210e-16,  1.38529304e-01,  2.77058609e-01,\n",
       "         4.15587913e-01,  5.54117217e-01,  6.92646522e-01,  8.31175826e-01,\n",
       "         9.69705130e-01,  1.10823443e+00,  1.24676374e+00,  1.38529304e+00,\n",
       "         1.52382235e+00,  1.66235165e+00,  1.80088096e+00,  1.93941026e+00,\n",
       "         2.07793956e+00,  2.21646887e+00,  2.35499817e+00,  2.49352748e+00,\n",
       "         2.63205678e+00,  2.77058609e+00,  2.90911539e+00,  3.04764469e+00,\n",
       "         3.18617400e+00,  3.32470330e+00,  3.46323261e+00]),\n",
       " <BarContainer object of 50 artists>)"
      ]
     },
     "execution_count": 8,
     "metadata": {},
     "output_type": "execute_result"
    },
    {
     "data": {
      "image/png": "[encoded data removed]",
      "text/plain": [
       "<Figure size 432x288 with 1 Axes>"
      ]
     },
     "metadata": {
      "needs_background": "light"
     },
     "output_type": "display_data"
    }
   ],
   "source": [
    "y=np.concatenate([x,-x])\n",
    "print({\"{:15.10f}\".format(y.mean())})\n",
    "print({\"{:15.10f}\".format(y.std())})\n",
    "\n",
    "plt.hist(y,bins=50)"
   ]
  },
  {
   "cell_type": "code",
   "execution_count": 9,
   "id": "d6dd44d7",
   "metadata": {},
   "outputs": [
    {
     "name": "stdout",
     "output_type": "stream",
     "text": [
      "Normalizing data will be us a variance of 1\n",
      "{'   1.0099982961'}\n",
      "{'   1.0000000000'}\n",
      "{'   0.0000000000'}\n"
     ]
    }
   ],
   "source": [
    "print(\"Normalizing data will be us a variance of 1\")\n",
    "z=(y-y.mean())/y.std()\n",
    "print({\"{:15.10f}\".format(y.std())})\n",
    "print({\"{:15.10f}\".format(z.std())})\n",
    "print({\"{:15.10f}\".format(z.mean())})"
   ]
  },
  {
   "cell_type": "code",
   "execution_count": 10,
   "id": "ccdb6c15",
   "metadata": {},
   "outputs": [
    {
     "name": "stdout",
     "output_type": "stream",
     "text": [
      "To isolate the randomness for sensitivity analysis use a seed value\n"
     ]
    },
    {
     "data": {
      "text/plain": [
       "<function RandomState.random>"
      ]
     },
     "execution_count": 10,
     "metadata": {},
     "output_type": "execute_result"
    }
   ],
   "source": [
    "print(\"To isolate the randomness for sensitivity analysis use a seed value\")\n",
    "c=npr.random\n",
    "c"
   ]
  },
  {
   "cell_type": "code",
   "execution_count": 11,
   "id": "a69a7e9c",
   "metadata": {},
   "outputs": [
    {
     "data": {
      "text/plain": [
       "array([0.50629201, 0.0387264 , 0.69430816, 0.41049616, 0.71673662,\n",
       "       0.00493279, 0.49106   , 0.11033499, 0.95235334, 0.76483662])"
      ]
     },
     "execution_count": 11,
     "metadata": {},
     "output_type": "execute_result"
    }
   ],
   "source": [
    "npr.seed()\n",
    "d=npr.random(10)\n",
    "d"
   ]
  },
  {
   "cell_type": "code",
   "execution_count": 12,
   "id": "73a5fe96",
   "metadata": {},
   "outputs": [],
   "source": [
    "import numpy as np\n",
    "import numpy.random as npr"
   ]
  },
  {
   "cell_type": "code",
   "execution_count": 14,
   "id": "56eae4a5",
   "metadata": {},
   "outputs": [
    {
     "name": "stdout",
     "output_type": "stream",
     "text": [
      "[-2  1  2  6  2  2 -9  0 -4  7 -8  6  7 -9  3  3 -7  8  9 -3 -3 -9  7  8\n",
      " -8 -4 -3 -6  7  2  6  0 -7  4  0  7 -9  9  9  7  0  1  7  1 -9  5  9  8\n",
      "  4 -6  1  7  2 -8  1  1 -6 -7 -2  6  3 -3  5 -2  8 -1 -9  1 -7 -9  6  1\n",
      " -5 -8  1  5 -8  2 -1 -1  9 -5 -9 -1  8 -3 -9 -5  3  8 -2  2 -2 -6  5 -1\n",
      " -9 -8  6  8]\n"
     ]
    }
   ],
   "source": [
    "x=npr.randint(-10,10,size=100)\n",
    "print(x)"
   ]
  },
  {
   "cell_type": "code",
   "execution_count": 15,
   "id": "502aada2",
   "metadata": {},
   "outputs": [
    {
     "name": "stdout",
     "output_type": "stream",
     "text": [
      "Get observation with a threshold value\n",
      "Replace negative value with zero\n"
     ]
    },
    {
     "data": {
      "text/plain": [
       "array([0, 1, 2, 6, 2, 2, 0, 0, 0, 7, 0, 6, 7, 0, 3, 3, 0, 8, 9, 0, 0, 0,\n",
       "       7, 8, 0, 0, 0, 0, 7, 2, 6, 0, 0, 4, 0, 7, 0, 9, 9, 7, 0, 1, 7, 1,\n",
       "       0, 5, 9, 8, 4, 0, 1, 7, 2, 0, 1, 1, 0, 0, 0, 6, 3, 0, 5, 0, 8, 0,\n",
       "       0, 1, 0, 0, 6, 1, 0, 0, 1, 5, 0, 2, 0, 0, 9, 0, 0, 0, 8, 0, 0, 0,\n",
       "       3, 8, 0, 2, 0, 0, 5, 0, 0, 0, 6, 8])"
      ]
     },
     "execution_count": 15,
     "metadata": {},
     "output_type": "execute_result"
    }
   ],
   "source": [
    "print(\"Get observation with a threshold value\")\n",
    "print(\"Replace negative value with zero\")\n",
    "x.clip(0)"
   ]
  },
  {
   "cell_type": "code",
   "execution_count": 16,
   "id": "db2b2af1",
   "metadata": {},
   "outputs": [
    {
     "name": "stdout",
     "output_type": "stream",
     "text": [
      "Replace observations with a threshold value\n",
      "Replace negative value with zero\n"
     ]
    },
    {
     "data": {
      "text/plain": [
       "array([0, 1, 2, 6, 2, 2, 0, 0, 0, 7, 0, 6, 7, 0, 3, 3, 0, 8, 9, 0, 0, 0,\n",
       "       7, 8, 0, 0, 0, 0, 7, 2, 6, 0, 0, 4, 0, 7, 0, 9, 9, 7, 0, 1, 7, 1,\n",
       "       0, 5, 9, 8, 4, 0, 1, 7, 2, 0, 1, 1, 0, 0, 0, 6, 3, 0, 5, 0, 8, 0,\n",
       "       0, 1, 0, 0, 6, 1, 0, 0, 1, 5, 0, 2, 0, 0, 9, 0, 0, 0, 8, 0, 0, 0,\n",
       "       3, 8, 0, 2, 0, 0, 5, 0, 0, 0, 6, 8])"
      ]
     },
     "execution_count": 16,
     "metadata": {},
     "output_type": "execute_result"
    }
   ],
   "source": [
    "print(\"Replace observations with a threshold value\")\n",
    "print(\"Replace negative value with zero\")\n",
    "x.clip(0)"
   ]
  },
  {
   "cell_type": "code",
   "execution_count": 18,
   "id": "8d5c3784",
   "metadata": {},
   "outputs": [
    {
     "name": "stdout",
     "output_type": "stream",
     "text": [
      "Random Sampling\n"
     ]
    }
   ],
   "source": [
    "print(\"Random Sampling\")\n",
    "y=npr.randint(1000,size=100)"
   ]
  },
  {
   "cell_type": "code",
   "execution_count": 19,
   "id": "0ac26723",
   "metadata": {},
   "outputs": [
    {
     "data": {
      "text/plain": [
       "array([709, 794, 363, 965, 377, 636, 734, 533, 533, 501, 794, 301,   7,\n",
       "        46, 205, 405, 906, 357, 709,  56])"
      ]
     },
     "execution_count": 19,
     "metadata": {},
     "output_type": "execute_result"
    }
   ],
   "source": [
    "npr.choice(y,20)"
   ]
  },
  {
   "cell_type": "code",
   "execution_count": 21,
   "id": "73e233f3",
   "metadata": {},
   "outputs": [
    {
     "data": {
      "text/plain": [
       "array([127, 269, 405, 383, 304, 266, 597, 414, 435,  46, 288, 156, 120,\n",
       "       906, 445, 601, 586, 477,  91, 994])"
      ]
     },
     "execution_count": 21,
     "metadata": {},
     "output_type": "execute_result"
    }
   ],
   "source": [
    "npr.choice(y,20,replace=False)"
   ]
  },
  {
   "cell_type": "code",
   "execution_count": 23,
   "id": "5f3999ef",
   "metadata": {},
   "outputs": [
    {
     "name": "stdout",
     "output_type": "stream",
     "text": [
      "Choice can also be used to generate a non-uniform probabilty distribution\n",
      "getting one value out of 1 to 7 i.e prob 1 is 0.2 and so on\n"
     ]
    },
    {
     "data": {
      "text/plain": [
       "array([ 1.58652159,  0.38968318, -0.34153633, ...,  0.91436828,\n",
       "        1.05796641,  0.12074245])"
      ]
     },
     "execution_count": 23,
     "metadata": {},
     "output_type": "execute_result"
    }
   ],
   "source": [
    "print(\"Choice can also be used to generate a non-uniform probabilty distribution\")\n",
    "print(\"getting one value out of 1 to 7 i.e prob 1 is 0.2 and so on\")\n",
    "npr.choice(np.arange(1,7),1,p=[.2,.1,.3,.15,.05,.2])\n",
    "npr.standard_normal(5000)"
   ]
  },
  {
   "cell_type": "code",
   "execution_count": 24,
   "id": "8f7c28be",
   "metadata": {},
   "outputs": [
    {
     "name": "stdout",
     "output_type": "stream",
     "text": [
      "stable sample\n"
     ]
    }
   ],
   "source": [
    "print(\"stable sample\")\n",
    "z=npr.random(100)\n",
    "sample=np.argsort(z)"
   ]
  },
  {
   "cell_type": "code",
   "execution_count": 25,
   "id": "03dc31f9",
   "metadata": {},
   "outputs": [
    {
     "name": "stdout",
     "output_type": "stream",
     "text": [
      "Getting sorted random number\n"
     ]
    },
    {
     "data": {
      "text/plain": [
       "array([0.01259941, 0.01300937, 0.03102786, 0.04364529, 0.0475391 ,\n",
       "       0.06924784, 0.07582975, 0.09014961, 0.09074486, 0.1088808 ,\n",
       "       0.10973357, 0.1149848 , 0.11504018, 0.12520922, 0.14452459,\n",
       "       0.17090296, 0.17124451, 0.21931645, 0.22574806, 0.23313979,\n",
       "       0.23748392, 0.23939632, 0.25465495, 0.26073103, 0.26948118,\n",
       "       0.27425883, 0.28246519, 0.28473157, 0.29328929, 0.32161535,\n",
       "       0.32235289, 0.3409688 , 0.36092138, 0.36207158, 0.36213903,\n",
       "       0.37777594, 0.38059819, 0.39151666, 0.3949505 , 0.40388305,\n",
       "       0.4238108 , 0.4472443 , 0.456348  , 0.45707941, 0.45783766,\n",
       "       0.46190706, 0.47296275, 0.4733159 , 0.48382972, 0.49351999,\n",
       "       0.5057014 , 0.52596449, 0.55055077, 0.55986553, 0.58948655,\n",
       "       0.59949825, 0.60055081, 0.611246  , 0.61138797, 0.61671324,\n",
       "       0.62141671, 0.62643134, 0.62665373, 0.65747215, 0.65811911,\n",
       "       0.65851596, 0.65937712, 0.66570178, 0.66807968, 0.67954267,\n",
       "       0.68212166, 0.68733429, 0.68898854, 0.70821484, 0.71209056,\n",
       "       0.74933433, 0.75221114, 0.7586571 , 0.76106825, 0.77369302,\n",
       "       0.80259144, 0.80277304, 0.80878711, 0.81707289, 0.82172072,\n",
       "       0.83735036, 0.85316838, 0.85945977, 0.88415863, 0.89912615,\n",
       "       0.90351864, 0.92164895, 0.92196908, 0.92811692, 0.92862059,\n",
       "       0.93630625, 0.95760768, 0.96109319, 0.97049389, 0.99794997])"
      ]
     },
     "execution_count": 25,
     "metadata": {},
     "output_type": "execute_result"
    }
   ],
   "source": [
    "print(\"Getting sorted random number\")\n",
    "z[sample]"
   ]
  },
  {
   "cell_type": "code",
   "execution_count": 26,
   "id": "67158848",
   "metadata": {},
   "outputs": [
    {
     "name": "stdout",
     "output_type": "stream",
     "text": [
      "Getting sorted random number of 20\n"
     ]
    },
    {
     "data": {
      "text/plain": [
       "array([0.01259941, 0.01300937, 0.03102786, 0.04364529, 0.0475391 ,\n",
       "       0.06924784, 0.07582975, 0.09014961, 0.09074486, 0.1088808 ,\n",
       "       0.10973357, 0.1149848 , 0.11504018, 0.12520922, 0.14452459,\n",
       "       0.17090296, 0.17124451, 0.21931645, 0.22574806, 0.23313979])"
      ]
     },
     "execution_count": 26,
     "metadata": {},
     "output_type": "execute_result"
    }
   ],
   "source": [
    "print(\"Getting sorted random number of 20\")\n",
    "z[sample] [:20]"
   ]
  },
  {
   "cell_type": "code",
   "execution_count": 27,
   "id": "1f8d7b9c",
   "metadata": {},
   "outputs": [
    {
     "name": "stdout",
     "output_type": "stream",
     "text": [
      "To get a stable sampling\n"
     ]
    },
    {
     "data": {
      "text/plain": [
       "array([743, 734, 304, 906, 306, 729, 404, 545, 501,  46, 402, 220, 794,\n",
       "       213, 792, 200, 189, 120, 596, 822])"
      ]
     },
     "execution_count": 27,
     "metadata": {},
     "output_type": "execute_result"
    }
   ],
   "source": [
    "print(\"To get a stable sampling\")\n",
    "y[sample][:20]"
   ]
  },
  {
   "cell_type": "code",
   "execution_count": 28,
   "id": "1af621ad",
   "metadata": {},
   "outputs": [
    {
     "name": "stdout",
     "output_type": "stream",
     "text": [
      "Finding Unique values and Insertion point\n"
     ]
    }
   ],
   "source": [
    "print(\"Finding Unique values and Insertion point\")\n",
    "import numpy as np\n",
    "import numpy.random as npr\n",
    "from itertools import combinations"
   ]
  },
  {
   "cell_type": "code",
   "execution_count": 29,
   "id": "f992cc67",
   "metadata": {},
   "outputs": [
    {
     "data": {
      "text/plain": [
       "['ABC', 'ABD', 'ABE', 'ABF', 'ABG']"
      ]
     },
     "execution_count": 29,
     "metadata": {},
     "output_type": "execute_result"
    }
   ],
   "source": [
    "available=[x[0]+x[1]+x[2] for x in combinations(\"ABCDEFGHIJKLM\",3)]\n",
    "available[:5]"
   ]
  },
  {
   "cell_type": "code",
   "execution_count": 30,
   "id": "b89a1c28",
   "metadata": {},
   "outputs": [
    {
     "data": {
      "text/plain": [
       "array(['BCM', 'DKL', 'ACD', 'BCH', 'BGH', 'FGH', 'FHL', 'BDL', 'ABD',\n",
       "       'ABM', 'DEL', 'AFL', 'ABG', 'BHI', 'ABI', 'BEM', 'DFG', 'EHM',\n",
       "       'DHM', 'DKL', 'FGH', 'EFM', 'DFH', 'ADE', 'AIJ', 'AHL', 'BDG',\n",
       "       'AIL', 'BEG', 'IJK', 'EFG', 'GKL', 'BEF', 'AFG', 'EGM', 'EJL',\n",
       "       'DFM', 'DGI', 'CFL', 'BDF', 'DKM', 'CIL', 'BLM', 'BEK', 'AFH',\n",
       "       'ACI', 'BGL', 'CEM', 'GIK', 'EIM', 'ADF', 'CIJ', 'CHL', 'EKL',\n",
       "       'BKL', 'CEL', 'CFJ', 'DEG', 'DHI', 'KLM'], dtype='<U3')"
      ]
     },
     "execution_count": 30,
     "metadata": {},
     "output_type": "execute_result"
    }
   ],
   "source": [
    "available=[x[0]+x[1]+x[2] for x in combinations(\"ABCDEFGHIJKLM\",3)]\n",
    "symbols=npr.choice(available,60)\n",
    "symbols"
   ]
  },
  {
   "cell_type": "code",
   "execution_count": 31,
   "id": "74049f4e",
   "metadata": {},
   "outputs": [
    {
     "name": "stdout",
     "output_type": "stream",
     "text": [
      "Return sorted array of unique observations\n"
     ]
    },
    {
     "data": {
      "text/plain": [
       "array(['ABD', 'ABG', 'ABI', 'ABM', 'ACD', 'ACI', 'ADE', 'ADF', 'AFG',\n",
       "       'AFH', 'AFL', 'AHL', 'AIJ', 'AIL', 'BCH', 'BCM', 'BDF', 'BDG',\n",
       "       'BDL', 'BEF', 'BEG', 'BEK', 'BEM', 'BGH', 'BGL', 'BHI', 'BKL',\n",
       "       'BLM', 'CEL', 'CEM', 'CFJ', 'CFL', 'CHL', 'CIJ', 'CIL', 'DEG',\n",
       "       'DEL', 'DFG', 'DFH', 'DFM', 'DGI', 'DHI', 'DHM', 'DKL', 'DKM',\n",
       "       'EFG', 'EFM', 'EGM', 'EHM', 'EIM', 'EJL', 'EKL', 'FGH', 'FHL',\n",
       "       'GIK', 'GKL', 'IJK', 'KLM'], dtype='<U3')"
      ]
     },
     "execution_count": 31,
     "metadata": {},
     "output_type": "execute_result"
    }
   ],
   "source": [
    "print(\"Return sorted array of unique observations\")\n",
    "np.unique(symbols)"
   ]
  },
  {
   "cell_type": "code",
   "execution_count": 32,
   "id": "4f41ad1b",
   "metadata": {},
   "outputs": [
    {
     "data": {
      "text/plain": [
       "58"
      ]
     },
     "execution_count": 32,
     "metadata": {},
     "output_type": "execute_result"
    }
   ],
   "source": [
    "len(np.unique(symbols))"
   ]
  },
  {
   "cell_type": "code",
   "execution_count": 33,
   "id": "87aeebe4",
   "metadata": {},
   "outputs": [
    {
     "name": "stdout",
     "output_type": "stream",
     "text": [
      "Returns sorted array and index where obseration occurred\n"
     ]
    },
    {
     "data": {
      "text/plain": [
       "(array(['ABD', 'ABG', 'ABI', 'ABM', 'ACD', 'ACI', 'ADE', 'ADF', 'AFG',\n",
       "        'AFH', 'AFL', 'AHL', 'AIJ', 'AIL', 'BCH', 'BCM', 'BDF', 'BDG',\n",
       "        'BDL', 'BEF', 'BEG', 'BEK', 'BEM', 'BGH', 'BGL', 'BHI', 'BKL',\n",
       "        'BLM', 'CEL', 'CEM', 'CFJ', 'CFL', 'CHL', 'CIJ', 'CIL', 'DEG',\n",
       "        'DEL', 'DFG', 'DFH', 'DFM', 'DGI', 'DHI', 'DHM', 'DKL', 'DKM',\n",
       "        'EFG', 'EFM', 'EGM', 'EHM', 'EIM', 'EJL', 'EKL', 'FGH', 'FHL',\n",
       "        'GIK', 'GKL', 'IJK', 'KLM'], dtype='<U3'),\n",
       " array([ 8, 12, 14,  9,  2, 45, 23, 50, 33, 44, 11, 25, 24, 27,  3,  0, 39,\n",
       "        26,  7, 32, 28, 43, 15,  4, 46, 13, 54, 42, 55, 47, 56, 38, 52, 51,\n",
       "        41, 57, 10, 16, 22, 36, 37, 58, 18,  1, 40, 30, 21, 34, 17, 49, 35,\n",
       "        53,  5,  6, 48, 31, 29, 59], dtype=int64))"
      ]
     },
     "execution_count": 33,
     "metadata": {},
     "output_type": "execute_result"
    }
   ],
   "source": [
    "print(\"Returns sorted array and index where obseration occurred\")\n",
    "np.unique(symbols,return_index=True)"
   ]
  },
  {
   "cell_type": "code",
   "execution_count": 34,
   "id": "e69194fb",
   "metadata": {},
   "outputs": [],
   "source": [
    "a,b=np.unique(symbols,return_index=True)"
   ]
  },
  {
   "cell_type": "code",
   "execution_count": 35,
   "id": "881d9e3a",
   "metadata": {},
   "outputs": [
    {
     "name": "stdout",
     "output_type": "stream",
     "text": [
      "return_inverse\n"
     ]
    }
   ],
   "source": [
    "print(\"return_inverse\")\n",
    "unique,index=np.unique(symbols,return_inverse=True)"
   ]
  },
  {
   "cell_type": "code",
   "execution_count": 36,
   "id": "747f37fb",
   "metadata": {},
   "outputs": [
    {
     "name": "stdout",
     "output_type": "stream",
     "text": [
      "To get original unsorted array\n"
     ]
    },
    {
     "data": {
      "text/plain": [
       "array(['BCM', 'DKL', 'ACD', 'BCH', 'BGH', 'FGH', 'FHL', 'BDL', 'ABD',\n",
       "       'ABM', 'DEL', 'AFL', 'ABG', 'BHI', 'ABI', 'BEM', 'DFG', 'EHM',\n",
       "       'DHM', 'DKL', 'FGH', 'EFM', 'DFH', 'ADE', 'AIJ', 'AHL', 'BDG',\n",
       "       'AIL', 'BEG', 'IJK', 'EFG', 'GKL', 'BEF', 'AFG', 'EGM', 'EJL',\n",
       "       'DFM', 'DGI', 'CFL', 'BDF', 'DKM', 'CIL', 'BLM', 'BEK', 'AFH',\n",
       "       'ACI', 'BGL', 'CEM', 'GIK', 'EIM', 'ADF', 'CIJ', 'CHL', 'EKL',\n",
       "       'BKL', 'CEL', 'CFJ', 'DEG', 'DHI', 'KLM'], dtype='<U3')"
      ]
     },
     "execution_count": 36,
     "metadata": {},
     "output_type": "execute_result"
    }
   ],
   "source": [
    "print(\"To get original unsorted array\")\n",
    "unique[index]"
   ]
  },
  {
   "cell_type": "code",
   "execution_count": 39,
   "id": "b7eb46bc",
   "metadata": {},
   "outputs": [
    {
     "name": "stdout",
     "output_type": "stream",
     "text": [
      "Return counts of observations\n"
     ]
    },
    {
     "data": {
      "text/plain": [
       "(array(['ABD', 'ABG', 'ABI', 'ABM', 'ACD', 'ACI', 'ADE', 'ADF', 'AFG',\n",
       "        'AFH', 'AFL', 'AHL', 'AIJ', 'AIL', 'BCH', 'BCM', 'BDF', 'BDG',\n",
       "        'BDL', 'BEF', 'BEG', 'BEK', 'BEM', 'BGH', 'BGL', 'BHI', 'BKL',\n",
       "        'BLM', 'CEL', 'CEM', 'CFJ', 'CFL', 'CHL', 'CIJ', 'CIL', 'DEG',\n",
       "        'DEL', 'DFG', 'DFH', 'DFM', 'DGI', 'DHI', 'DHM', 'DKL', 'DKM',\n",
       "        'EFG', 'EFM', 'EGM', 'EHM', 'EIM', 'EJL', 'EKL', 'FGH', 'FHL',\n",
       "        'GIK', 'GKL', 'IJK', 'KLM'], dtype='<U3'),\n",
       " array([1, 1, 1, 1, 1, 1, 1, 1, 1, 1, 1, 1, 1, 1, 1, 1, 1, 1, 1, 1, 1, 1,\n",
       "        1, 1, 1, 1, 1, 1, 1, 1, 1, 1, 1, 1, 1, 1, 1, 1, 1, 1, 1, 1, 1, 2,\n",
       "        1, 1, 1, 1, 1, 1, 1, 1, 2, 1, 1, 1, 1, 1], dtype=int64))"
      ]
     },
     "execution_count": 39,
     "metadata": {},
     "output_type": "execute_result"
    }
   ],
   "source": [
    "print(\"Return counts of observations\")\n",
    "np.unique(symbols,return_counts=True)"
   ]
  },
  {
   "cell_type": "code",
   "execution_count": 40,
   "id": "05043d7a",
   "metadata": {},
   "outputs": [
    {
     "name": "stdout",
     "output_type": "stream",
     "text": [
      "Return the index where a value should be inserted to maintain order in sorted array\n"
     ]
    },
    {
     "data": {
      "text/plain": [
       "29"
      ]
     },
     "execution_count": 40,
     "metadata": {},
     "output_type": "execute_result"
    }
   ],
   "source": [
    "print(\"Return the index where a value should be inserted to maintain order in sorted array\")\n",
    "np.searchsorted(symbols,\"BFD\")"
   ]
  },
  {
   "cell_type": "code",
   "execution_count": 42,
   "id": "635037d1",
   "metadata": {},
   "outputs": [
    {
     "data": {
      "text/plain": [
       "array([29,  0, 59], dtype=int64)"
      ]
     },
     "execution_count": 42,
     "metadata": {},
     "output_type": "execute_result"
    }
   ],
   "source": [
    "np.searchsorted(symbols,['BFD','AKA','IMO'])"
   ]
  },
  {
   "cell_type": "code",
   "execution_count": 43,
   "id": "4532824d",
   "metadata": {},
   "outputs": [
    {
     "name": "stdout",
     "output_type": "stream",
     "text": [
      "Manipulating Arrays and Numpy Data Operations\n",
      "Working with Combining arrays\n"
     ]
    }
   ],
   "source": [
    "#numpy array\n",
    "print(\"Manipulating Arrays and Numpy Data Operations\")\n",
    "print(\"Working with Combining arrays\")"
   ]
  },
  {
   "cell_type": "code",
   "execution_count": 44,
   "id": "b40084bb",
   "metadata": {},
   "outputs": [],
   "source": [
    "import numpy as np\n",
    "import numpy.random as npr"
   ]
  },
  {
   "cell_type": "code",
   "execution_count": 48,
   "id": "7da34c5a",
   "metadata": {},
   "outputs": [],
   "source": [
    "array1=[[1,2],[3,4]]\n",
    "array2=[[5,6],[7,8]]"
   ]
  },
  {
   "cell_type": "code",
   "execution_count": 50,
   "id": "62dcf70c",
   "metadata": {},
   "outputs": [
    {
     "data": {
      "text/plain": [
       "array([[1, 2],\n",
       "       [3, 4],\n",
       "       [5, 6],\n",
       "       [7, 8]])"
      ]
     },
     "execution_count": 50,
     "metadata": {},
     "output_type": "execute_result"
    }
   ],
   "source": [
    "np.concatenate((array1,array2))"
   ]
  },
  {
   "cell_type": "code",
   "execution_count": 51,
   "id": "61446dd5",
   "metadata": {},
   "outputs": [
    {
     "name": "stdout",
     "output_type": "stream",
     "text": [
      "Added to column\n"
     ]
    },
    {
     "data": {
      "text/plain": [
       "array([[1, 2, 5, 6],\n",
       "       [3, 4, 7, 8]])"
      ]
     },
     "execution_count": 51,
     "metadata": {},
     "output_type": "execute_result"
    }
   ],
   "source": [
    "print(\"Added to column\")\n",
    "np.concatenate((array1,array2),axis=1)"
   ]
  },
  {
   "cell_type": "code",
   "execution_count": 53,
   "id": "e285d04e",
   "metadata": {},
   "outputs": [
    {
     "name": "stdout",
     "output_type": "stream",
     "text": [
      "[0 1 2 3 4 5 6 7 8 9]\n"
     ]
    }
   ],
   "source": [
    "x=npr.randint(20,size=20).reshape(10,2)\n",
    "y=np.arange(10)\n",
    "print(y)"
   ]
  },
  {
   "cell_type": "code",
   "execution_count": 54,
   "id": "fb774cf8",
   "metadata": {},
   "outputs": [
    {
     "name": "stdout",
     "output_type": "stream",
     "text": [
      "Append allows you to add values without requiring the same dimensionally\n"
     ]
    },
    {
     "data": {
      "text/plain": [
       "array([19,  5, 17, 11,  1,  1, 17,  4,  3, 18,  5, 13, 17, 14,  5, 17,  9,\n",
       "        0,  9, 10,  0,  1,  2,  3,  4,  5,  6,  7,  8,  9])"
      ]
     },
     "execution_count": 54,
     "metadata": {},
     "output_type": "execute_result"
    }
   ],
   "source": [
    "print(\"Append allows you to add values without requiring the same dimensionally\")\n",
    "np.append(x,y)"
   ]
  },
  {
   "cell_type": "code",
   "execution_count": 56,
   "id": "c70c149a",
   "metadata": {},
   "outputs": [
    {
     "name": "stdout",
     "output_type": "stream",
     "text": [
      "you can reshape the array to regain dimensions\n",
      "[[19  5]\n",
      " [17 11]\n",
      " [ 1  1]\n",
      " [17  4]\n",
      " [ 3 18]\n",
      " [ 5 13]\n",
      " [17 14]\n",
      " [ 5 17]\n",
      " [ 9  0]\n",
      " [ 9 10]\n",
      " [ 0  1]\n",
      " [ 2  3]\n",
      " [ 4  5]\n",
      " [ 6  7]\n",
      " [ 8  9]]\n",
      "(15, 2)\n"
     ]
    }
   ],
   "source": [
    "print(\"you can reshape the array to regain dimensions\")\n",
    "z=np.append(x,y)\n",
    "z=z.reshape(15,2)\n",
    "print(z)\n",
    "print(z.shape)"
   ]
  },
  {
   "cell_type": "code",
   "execution_count": 57,
   "id": "9b80bafe",
   "metadata": {},
   "outputs": [
    {
     "name": "stdout",
     "output_type": "stream",
     "text": [
      "we can add a third column\n"
     ]
    }
   ],
   "source": [
    "print(\"we can add a third column\")\n",
    "merged=np.zeros((10,3))\n",
    "merged[:,:2]=x\n",
    "merged[:,2]=y"
   ]
  },
  {
   "cell_type": "code",
   "execution_count": 58,
   "id": "cd8ca073",
   "metadata": {},
   "outputs": [
    {
     "name": "stdout",
     "output_type": "stream",
     "text": [
      "column y to x array\n",
      "hstack converts float to integer\n"
     ]
    },
    {
     "data": {
      "text/plain": [
       "array([[19,  5,  0],\n",
       "       [17, 11,  1],\n",
       "       [ 1,  1,  2],\n",
       "       [17,  4,  3],\n",
       "       [ 3, 18,  4],\n",
       "       [ 5, 13,  5],\n",
       "       [17, 14,  6],\n",
       "       [ 5, 17,  7],\n",
       "       [ 9,  0,  8],\n",
       "       [ 9, 10,  9]])"
      ]
     },
     "execution_count": 58,
     "metadata": {},
     "output_type": "execute_result"
    }
   ],
   "source": [
    "print(\"column y to x array\")\n",
    "y=y.reshape(10,1)\n",
    "print(\"hstack converts float to integer\")\n",
    "np.hstack([x,y])"
   ]
  },
  {
   "cell_type": "code",
   "execution_count": 3,
   "id": "2bd155bc",
   "metadata": {},
   "outputs": [],
   "source": [
    "import numpy as np"
   ]
  },
  {
   "cell_type": "code",
   "execution_count": 4,
   "id": "39342415",
   "metadata": {},
   "outputs": [
    {
     "data": {
      "text/plain": [
       "array([[[ 0,  1,  2],\n",
       "        [ 3,  4,  5],\n",
       "        [ 6,  7,  8]],\n",
       "\n",
       "       [[ 9, 10, 11],\n",
       "        [12, 13, 14],\n",
       "        [15, 16, 17]],\n",
       "\n",
       "       [[18, 19, 20],\n",
       "        [21, 22, 23],\n",
       "        [24, 25, 26]]])"
      ]
     },
     "execution_count": 4,
     "metadata": {},
     "output_type": "execute_result"
    }
   ],
   "source": [
    "arr=np.arange(27).reshape(3,3,3)\n",
    "arr"
   ]
  },
  {
   "cell_type": "code",
   "execution_count": 5,
   "id": "85af9ec6",
   "metadata": {},
   "outputs": [
    {
     "name": "stdout",
     "output_type": "stream",
     "text": [
      "sometimes tou need to flatten an ndim array to a single dimension\n"
     ]
    },
    {
     "data": {
      "text/plain": [
       "array([ 0,  1,  2,  3,  4,  5,  6,  7,  8,  9, 10, 11, 12, 13, 14, 15, 16,\n",
       "       17, 18, 19, 20, 21, 22, 23, 24, 25, 26])"
      ]
     },
     "execution_count": 5,
     "metadata": {},
     "output_type": "execute_result"
    }
   ],
   "source": [
    "print(\"sometimes tou need to flatten an ndim array to a single dimension\")\n",
    "arr.flatten()"
   ]
  },
  {
   "cell_type": "code",
   "execution_count": 6,
   "id": "ddf166bb",
   "metadata": {},
   "outputs": [
    {
     "name": "stdout",
     "output_type": "stream",
     "text": [
      "sometimes you want to reassign values -> use .flat\n"
     ]
    },
    {
     "data": {
      "text/plain": [
       "array([[[3, 3, 3],\n",
       "        [3, 3, 3],\n",
       "        [3, 3, 3]],\n",
       "\n",
       "       [[3, 3, 3],\n",
       "        [3, 3, 3],\n",
       "        [3, 3, 3]],\n",
       "\n",
       "       [[3, 3, 3],\n",
       "        [3, 3, 3],\n",
       "        [3, 3, 3]]])"
      ]
     },
     "execution_count": 6,
     "metadata": {},
     "output_type": "execute_result"
    }
   ],
   "source": [
    "print(\"sometimes you want to reassign values -> use .flat\")\n",
    "arr_copy=arr\n",
    "arr_copy.flat=3\n",
    "arr_copy"
   ]
  },
  {
   "cell_type": "code",
   "execution_count": 7,
   "id": "6c8e0954",
   "metadata": {},
   "outputs": [
    {
     "name": "stdout",
     "output_type": "stream",
     "text": [
      "we can choose indexes to reassign\n",
      "[[[1 1 1]\n",
      "  [3 1 3]\n",
      "  [3 1 3]]\n",
      "\n",
      " [[3 1 3]\n",
      "  [3 3 3]\n",
      "  [3 3 3]]\n",
      "\n",
      " [[3 3 3]\n",
      "  [3 3 3]\n",
      "  [3 3 3]]]\n"
     ]
    }
   ],
   "source": [
    "print(\"we can choose indexes to reassign\")\n",
    "arr_copy.flat[[0,1,2,4,7,10]]=1\n",
    "print(arr_copy)"
   ]
  },
  {
   "cell_type": "code",
   "execution_count": 8,
   "id": "ad767515",
   "metadata": {},
   "outputs": [
    {
     "name": "stdout",
     "output_type": "stream",
     "text": [
      "we can reassign a range of indexes\n"
     ]
    },
    {
     "data": {
      "text/plain": [
       "array([[[1, 0, 0],\n",
       "        [0, 0, 0],\n",
       "        [0, 0, 0]],\n",
       "\n",
       "       [[3, 1, 3],\n",
       "        [3, 3, 3],\n",
       "        [3, 3, 3]],\n",
       "\n",
       "       [[3, 3, 3],\n",
       "        [3, 3, 3],\n",
       "        [3, 3, 3]]])"
      ]
     },
     "execution_count": 8,
     "metadata": {},
     "output_type": "execute_result"
    }
   ],
   "source": [
    "print(\"we can reassign a range of indexes\")\n",
    "arr_copy.flat[1:9]=0\n",
    "arr_copy"
   ]
  },
  {
   "cell_type": "code",
   "execution_count": 9,
   "id": "7700cfeb",
   "metadata": {},
   "outputs": [
    {
     "name": "stdout",
     "output_type": "stream",
     "text": [
      "you can also remove dimensions with reshape\n",
      "(3, 3, 3)\n"
     ]
    },
    {
     "data": {
      "text/plain": [
       "array([[[1, 0, 0],\n",
       "        [0, 0, 0],\n",
       "        [0, 0, 0]],\n",
       "\n",
       "       [[3, 1, 3],\n",
       "        [3, 3, 3],\n",
       "        [3, 3, 3]],\n",
       "\n",
       "       [[3, 3, 3],\n",
       "        [3, 3, 3],\n",
       "        [3, 3, 3]]])"
      ]
     },
     "execution_count": 9,
     "metadata": {},
     "output_type": "execute_result"
    }
   ],
   "source": [
    "print(\"you can also remove dimensions with reshape\")\n",
    "arr.reshape(-1,3)\n",
    "print(arr.shape)\n",
    "arr"
   ]
  },
  {
   "cell_type": "code",
   "execution_count": 10,
   "id": "ccda11cc",
   "metadata": {},
   "outputs": [],
   "source": [
    "import numpy as np\n",
    "import numpy.random as npr\n",
    "import matplotlib.pyplot as plt"
   ]
  },
  {
   "cell_type": "code",
   "execution_count": 11,
   "id": "0da5ca27",
   "metadata": {},
   "outputs": [
    {
     "name": "stdout",
     "output_type": "stream",
     "text": [
      "we can initialize an array with or without dtype\n",
      "[ True  True  True  True]\n",
      "[ True  True  True  True]\n",
      "[False False False False]\n"
     ]
    }
   ],
   "source": [
    "print(\"we can initialize an array with or without dtype\")\n",
    "print(np.full(4,True,dtype=bool))\n",
    "print(np.ones(4,dtype=bool))\n",
    "print(np.zeros(4,dtype=bool))"
   ]
  },
  {
   "cell_type": "code",
   "execution_count": 12,
   "id": "5e0bdef7",
   "metadata": {},
   "outputs": [
    {
     "name": "stdout",
     "output_type": "stream",
     "text": [
      "Evaluate to True & False; but dtype should be specified to avoid confusion\n"
     ]
    },
    {
     "data": {
      "text/plain": [
       "array([False,  True, False, False, False, False, False,  True, False,\n",
       "       False])"
      ]
     },
     "execution_count": 12,
     "metadata": {},
     "output_type": "execute_result"
    }
   ],
   "source": [
    "print(\"Evaluate to True & False; but dtype should be specified to avoid confusion\")\n",
    "npr.randint(0,2,size=10,dtype=bool)"
   ]
  },
  {
   "cell_type": "code",
   "execution_count": 13,
   "id": "331ee056",
   "metadata": {},
   "outputs": [
    {
     "name": "stdout",
     "output_type": "stream",
     "text": [
      "we can also create boolean arrays from other array\n"
     ]
    },
    {
     "data": {
      "text/plain": [
       "array([ 93.40309313, 102.64554873,  81.69320471,  91.76818749,\n",
       "       112.60510665,  96.18609207,  79.65551332,  76.46424249,\n",
       "       106.12665596,  97.51914151,  98.04010826, 125.82426101,\n",
       "       109.61425663,  82.24017617, 127.11779285, 119.5032996 ,\n",
       "        93.78796999,  72.26571581,  66.35473774, 122.41609344,\n",
       "       105.29447452,  99.66628886,  94.72383786,  82.07466684,\n",
       "        99.22140771])"
      ]
     },
     "execution_count": 13,
     "metadata": {},
     "output_type": "execute_result"
    }
   ],
   "source": [
    "print(\"we can also create boolean arrays from other array\")\n",
    "#npr.normal(mean,sd,size)\n",
    "data=npr.normal(100,15,25)\n",
    "data"
   ]
  },
  {
   "cell_type": "code",
   "execution_count": 14,
   "id": "0a9f0885",
   "metadata": {},
   "outputs": [
    {
     "data": {
      "text/plain": [
       "(array([2., 1., 4., 0., 5., 5., 2., 2., 1., 3.]),\n",
       " array([ 66.35473774,  72.43104325,  78.50734876,  84.58365427,\n",
       "         90.65995978,  96.73626529, 102.8125708 , 108.88887631,\n",
       "        114.96518183, 121.04148734, 127.11779285]),\n",
       " <BarContainer object of 10 artists>)"
      ]
     },
     "execution_count": 14,
     "metadata": {},
     "output_type": "execute_result"
    },
    {
     "data": {
      "image/png": "[encoded data removed]",
      "text/plain": [
       "<Figure size 432x288 with 1 Axes>"
      ]
     },
     "metadata": {
      "needs_background": "light"
     },
     "output_type": "display_data"
    }
   ],
   "source": [
    "plt.hist(data)"
   ]
  },
  {
   "cell_type": "code",
   "execution_count": 15,
   "id": "ae5edd6f",
   "metadata": {},
   "outputs": [
    {
     "data": {
      "text/plain": [
       "array([False,  True, False, False,  True, False, False, False,  True,\n",
       "       False, False,  True,  True, False,  True,  True, False, False,\n",
       "       False,  True,  True, False, False, False, False])"
      ]
     },
     "execution_count": 15,
     "metadata": {},
     "output_type": "execute_result"
    }
   ],
   "source": [
    "mask=data>100\n",
    "mask"
   ]
  },
  {
   "cell_type": "code",
   "execution_count": 16,
   "id": "80d5aa31",
   "metadata": {},
   "outputs": [
    {
     "data": {
      "text/plain": [
       "array([102.64554873, 112.60510665, 106.12665596, 125.82426101,\n",
       "       109.61425663, 127.11779285, 119.5032996 , 122.41609344,\n",
       "       105.29447452])"
      ]
     },
     "execution_count": 16,
     "metadata": {},
     "output_type": "execute_result"
    }
   ],
   "source": [
    "data[mask]"
   ]
  },
  {
   "cell_type": "code",
   "execution_count": 17,
   "id": "d7e6b65c",
   "metadata": {},
   "outputs": [
    {
     "name": "stdout",
     "output_type": "stream",
     "text": [
      "Numpy also has a number of logical function\n"
     ]
    },
    {
     "data": {
      "text/plain": [
       "array([102.64554873, 106.12665596, 109.61425663, 105.29447452])"
      ]
     },
     "execution_count": 17,
     "metadata": {},
     "output_type": "execute_result"
    }
   ],
   "source": [
    "print(\"Numpy also has a number of logical function\")\n",
    "mask=np.logical_and(data>100,data<110)\n",
    "data[mask]"
   ]
  },
  {
   "cell_type": "code",
   "execution_count": 18,
   "id": "8ccfef30",
   "metadata": {},
   "outputs": [
    {
     "data": {
      "text/plain": [
       "array([ 81.69320471,  79.65551332,  76.46424249, 125.82426101,\n",
       "        82.24017617, 127.11779285, 119.5032996 ,  72.26571581,\n",
       "        66.35473774, 122.41609344,  82.07466684])"
      ]
     },
     "execution_count": 18,
     "metadata": {},
     "output_type": "execute_result"
    }
   ],
   "source": [
    "mask=np.logical_or(data>115,data<85)\n",
    "data[mask]"
   ]
  },
  {
   "cell_type": "code",
   "execution_count": 20,
   "id": "faa7169b",
   "metadata": {},
   "outputs": [
    {
     "data": {
      "text/plain": [
       "array([ 99.40309313, 107.64554873,  83.69320471, 101.76818749,\n",
       "       121.60510665, 103.18609207,  87.65551332,  80.46424249,\n",
       "       113.12665596, 105.51914151, 107.04010826, 131.82426101,\n",
       "       119.61425663,  87.24017617, 136.11779285, 129.5032996 ,\n",
       "        97.78796999,  73.26571581,  74.35473774, 129.41609344,\n",
       "       114.29447452, 103.66628886,  96.72383786,  84.07466684,\n",
       "       102.22140771])"
      ]
     },
     "execution_count": 20,
     "metadata": {},
     "output_type": "execute_result"
    }
   ],
   "source": [
    "rand=npr.randint(1,11,25)\n",
    "close=data+rand\n",
    "close"
   ]
  },
  {
   "cell_type": "code",
   "execution_count": 31,
   "id": "5d60ea2a",
   "metadata": {},
   "outputs": [
    {
     "data": {
      "text/plain": [
       "False"
      ]
     },
     "execution_count": 31,
     "metadata": {},
     "output_type": "execute_result"
    }
   ],
   "source": [
    "np.allclose(data,close,atol=1)\n"
   ]
  },
  {
   "cell_type": "code",
   "execution_count": 32,
   "id": "0d0d9cfb",
   "metadata": {},
   "outputs": [
    {
     "data": {
      "text/plain": [
       "array([False,  True,  True, False, False, False, False,  True, False,\n",
       "       False, False, False, False,  True, False, False,  True,  True,\n",
       "       False, False, False,  True,  True,  True,  True])"
      ]
     },
     "execution_count": 32,
     "metadata": {},
     "output_type": "execute_result"
    }
   ],
   "source": [
    "np.isclose(data,close,atol=5)"
   ]
  },
  {
   "cell_type": "code",
   "execution_count": 33,
   "id": "aa95777f",
   "metadata": {},
   "outputs": [
    {
     "data": {
      "text/plain": [
       "10"
      ]
     },
     "execution_count": 33,
     "metadata": {},
     "output_type": "execute_result"
    }
   ],
   "source": [
    "np.count_nonzero(np.isclose(data,close,atol=5))"
   ]
  },
  {
   "cell_type": "code",
   "execution_count": 34,
   "id": "aeb5465c",
   "metadata": {},
   "outputs": [],
   "source": [
    "import numpy as np\n",
    "import numpy.random as ndr\n",
    "import matplotlib.pyplot as plt"
   ]
  },
  {
   "cell_type": "code",
   "execution_count": 35,
   "id": "dd1bdcca",
   "metadata": {},
   "outputs": [
    {
     "data": {
      "text/plain": [
       "array([ 0,  1,  4,  9, 16, 25, 36, 49, 64, 81])"
      ]
     },
     "execution_count": 35,
     "metadata": {},
     "output_type": "execute_result"
    }
   ],
   "source": [
    "data=np.arange(10)\n",
    "np.multiply(data,data)"
   ]
  },
  {
   "cell_type": "code",
   "execution_count": 36,
   "id": "bdf7534d",
   "metadata": {},
   "outputs": [
    {
     "data": {
      "text/plain": [
       "array([ 0,  1,  4,  9, 16, 25, 36, 49, 64, 81])"
      ]
     },
     "execution_count": 36,
     "metadata": {},
     "output_type": "execute_result"
    }
   ],
   "source": [
    "data=list(range(10))\n",
    "np.multiply(data,data)"
   ]
  },
  {
   "cell_type": "code",
   "execution_count": 37,
   "id": "dd5e7192",
   "metadata": {},
   "outputs": [
    {
     "data": {
      "text/plain": [
       "array([ 0,  1,  4,  9, 16, 25, 36, 49, 64, 81])"
      ]
     },
     "execution_count": 37,
     "metadata": {},
     "output_type": "execute_result"
    }
   ],
   "source": [
    "data=tuple(range(10))\n",
    "np.multiply(data,data)"
   ]
  },
  {
   "cell_type": "code",
   "execution_count": 38,
   "id": "d8d48348",
   "metadata": {},
   "outputs": [
    {
     "data": {
      "text/plain": [
       "array([[ 0,  1,  2,  3,  4,  5,  6,  7,  8,  9],\n",
       "       [10, 11, 12, 13, 14, 15, 16, 17, 18, 19]])"
      ]
     },
     "execution_count": 38,
     "metadata": {},
     "output_type": "execute_result"
    }
   ],
   "source": [
    "data=np.arange(20).reshape(2,10)\n",
    "data"
   ]
  },
  {
   "cell_type": "code",
   "execution_count": 39,
   "id": "8292dc7b",
   "metadata": {},
   "outputs": [
    {
     "data": {
      "text/plain": [
       "array([ 45, 145])"
      ]
     },
     "execution_count": 39,
     "metadata": {},
     "output_type": "execute_result"
    }
   ],
   "source": [
    "np.sum(data,axis=1)"
   ]
  },
  {
   "cell_type": "code",
   "execution_count": 40,
   "id": "9891f417",
   "metadata": {},
   "outputs": [
    {
     "data": {
      "text/plain": [
       "array([10, 12, 14, 16, 18, 20, 22, 24, 26, 28])"
      ]
     },
     "execution_count": 40,
     "metadata": {},
     "output_type": "execute_result"
    }
   ],
   "source": [
    "np.sum(data,axis=0)"
   ]
  },
  {
   "cell_type": "code",
   "execution_count": 41,
   "id": "c42ec2c2",
   "metadata": {},
   "outputs": [
    {
     "name": "stdout",
     "output_type": "stream",
     "text": [
      "[ 1  2  3  4  5  6  7  8  9 10 11 12 13 14 15 16 17 18 19 20 21 22 23 24\n",
      " 25 26 27 28 29 30 31 32 33 34 35 36]\n"
     ]
    },
    {
     "data": {
      "text/plain": [
       "array([ 1,  2,  3,  4,  5,  6,  7,  8,  9, 10, 11,  0,  1,  2,  3,  4,  5,\n",
       "        6,  7,  8,  9, 10, 11,  0,  1,  2,  3,  4,  5,  6,  7,  8,  9, 10,\n",
       "       11,  0], dtype=int32)"
      ]
     },
     "execution_count": 41,
     "metadata": {},
     "output_type": "execute_result"
    }
   ],
   "source": [
    "months=np.arange(1,37)\n",
    "print(months)\n",
    "conv=np.mod(months,12)\n",
    "conv"
   ]
  },
  {
   "cell_type": "code",
   "execution_count": 42,
   "id": "c70334ca",
   "metadata": {},
   "outputs": [
    {
     "data": {
      "text/plain": [
       "array([ 1,  2,  3,  4,  5,  6,  7,  8,  9, 10, 11, 12,  1,  2,  3,  4,  5,\n",
       "        6,  7,  8,  9, 10, 11, 12,  1,  2,  3,  4,  5,  6,  7,  8,  9, 10,\n",
       "       11, 12], dtype=int32)"
      ]
     },
     "execution_count": 42,
     "metadata": {},
     "output_type": "execute_result"
    }
   ],
   "source": [
    "mask=conv==0\n",
    "conv[mask]=12\n",
    "conv"
   ]
  },
  {
   "cell_type": "code",
   "execution_count": 43,
   "id": "a1dd421c",
   "metadata": {},
   "outputs": [
    {
     "data": {
      "text/plain": [
       "array([ 0.,  1.,  4.,  9., 16., 25., 36., 49., 64., 81.])"
      ]
     },
     "execution_count": 43,
     "metadata": {},
     "output_type": "execute_result"
    }
   ],
   "source": [
    "data=np.arange(10)\n",
    "destination=np.zeros(10)\n",
    "np.multiply(data,data,out=destination)\n",
    "destination"
   ]
  },
  {
   "cell_type": "code",
   "execution_count": 44,
   "id": "d50040d6",
   "metadata": {},
   "outputs": [
    {
     "data": {
      "text/plain": [
       "120"
      ]
     },
     "execution_count": 44,
     "metadata": {},
     "output_type": "execute_result"
    }
   ],
   "source": [
    "np.multiply.reduce(np.arange(1,6))"
   ]
  },
  {
   "cell_type": "code",
   "execution_count": 45,
   "id": "edf45746",
   "metadata": {},
   "outputs": [
    {
     "data": {
      "text/plain": [
       "array([ 0.01343776, -0.04968491, -0.01847237,  0.0412314 , -0.03064934,\n",
       "       -0.01855416,  0.01893213,  0.00771916,  0.02219665,  0.00560857,\n",
       "       -0.00212175, -0.00732637, -0.01339536, -0.00767226,  0.01412772,\n",
       "        0.00244629,  0.0178211 ,  0.01527933,  0.00269405,  0.01532841,\n",
       "        0.01093123])"
      ]
     },
     "execution_count": 45,
     "metadata": {},
     "output_type": "execute_result"
    }
   ],
   "source": [
    "data=np.log(1+npr.normal(0,.015, size=21))\n",
    "data"
   ]
  },
  {
   "cell_type": "code",
   "execution_count": 46,
   "id": "7e8674a8",
   "metadata": {},
   "outputs": [
    {
     "data": {
      "text/plain": [
       "array([ 0.01343776, -0.03624716, -0.05471953, -0.01348813, -0.04413748,\n",
       "       -0.06269164, -0.04375951, -0.03604035, -0.01384369, -0.00823512,\n",
       "       -0.01035687, -0.01768324, -0.0310786 , -0.03875085, -0.02462313,\n",
       "       -0.02217684, -0.00435575,  0.01092358,  0.01361763,  0.02894604,\n",
       "        0.03987727])"
      ]
     },
     "execution_count": 46,
     "metadata": {},
     "output_type": "execute_result"
    }
   ],
   "source": [
    "np.add.accumulate(data)"
   ]
  },
  {
   "cell_type": "code",
   "execution_count": 47,
   "id": "b6f916df",
   "metadata": {},
   "outputs": [
    {
     "data": {
      "text/plain": [
       "[<matplotlib.lines.Line2D at 0x2139902dac0>]"
      ]
     },
     "execution_count": 47,
     "metadata": {},
     "output_type": "execute_result"
    },
    {
     "data": {
      "image/png": "[encoded data removed]",
      "text/plain": [
       "<Figure size 432x288 with 1 Axes>"
      ]
     },
     "metadata": {
      "needs_background": "light"
     },
     "output_type": "display_data"
    }
   ],
   "source": [
    "plt.plot(np.add.accumulate(data))"
   ]
  },
  {
   "cell_type": "code",
   "execution_count": 48,
   "id": "4a6ddbf5",
   "metadata": {},
   "outputs": [
    {
     "data": {
      "text/plain": [
       "array([ 0.01343776, -0.03624716, -0.05471953, -0.01348813, -0.04413748,\n",
       "       -0.06269164, -0.04375951, -0.03604035, -0.01384369, -0.00823512,\n",
       "       -0.01035687, -0.01768324, -0.0310786 , -0.03875085, -0.02462313,\n",
       "       -0.02217684, -0.00435575,  0.01092358,  0.01361763,  0.02894604,\n",
       "        0.03987727])"
      ]
     },
     "execution_count": 48,
     "metadata": {},
     "output_type": "execute_result"
    }
   ],
   "source": [
    "data.cumsum()"
   ]
  },
  {
   "cell_type": "code",
   "execution_count": 49,
   "id": "2389e516",
   "metadata": {},
   "outputs": [],
   "source": [
    "import numpy as np\n",
    "import numpy.random as npr\n",
    "import matplotlib.pyplot as plt"
   ]
  },
  {
   "cell_type": "code",
   "execution_count": 50,
   "id": "418b7434",
   "metadata": {},
   "outputs": [],
   "source": [
    "data=npr.normal(0,0.015, size=252)"
   ]
  },
  {
   "cell_type": "code",
   "execution_count": 51,
   "id": "89f7bdcc",
   "metadata": {},
   "outputs": [
    {
     "data": {
      "text/plain": [
       "(array([ 1.,  1.,  2.,  7.,  6., 12., 12., 16., 12., 15., 27., 21., 22.,\n",
       "        16., 24., 12.,  9.,  8., 14.,  5.,  5.,  3.,  0.,  1.,  1.]),\n",
       " array([-0.03547559, -0.03238998, -0.02930437, -0.02621876, -0.02313315,\n",
       "        -0.02004754, -0.01696193, -0.01387632, -0.01079071, -0.0077051 ,\n",
       "        -0.00461949, -0.00153388,  0.00155173,  0.00463734,  0.00772295,\n",
       "         0.01080856,  0.01389417,  0.01697978,  0.02006539,  0.023151  ,\n",
       "         0.02623661,  0.02932221,  0.03240782,  0.03549343,  0.03857904,\n",
       "         0.04166465]),\n",
       " <BarContainer object of 25 artists>)"
      ]
     },
     "execution_count": 51,
     "metadata": {},
     "output_type": "execute_result"
    },
    {
     "data": {
      "image/png": "[encoded data removed]",
      "text/plain": [
       "<Figure size 432x288 with 1 Axes>"
      ]
     },
     "metadata": {
      "needs_background": "light"
     },
     "output_type": "display_data"
    }
   ],
   "source": [
    "plt.hist(data,bins=25)"
   ]
  },
  {
   "cell_type": "code",
   "execution_count": 52,
   "id": "b46b7f4f",
   "metadata": {},
   "outputs": [
    {
     "name": "stdout",
     "output_type": "stream",
     "text": [
      "use np.where as you whould an if...else block\n"
     ]
    }
   ],
   "source": [
    "print(\"use np.where as you whould an if...else block\")\n",
    "positive=np.where(data>0,True,False)"
   ]
  },
  {
   "cell_type": "code",
   "execution_count": 53,
   "id": "9219fe5c",
   "metadata": {},
   "outputs": [
    {
     "name": "stdout",
     "output_type": "stream",
     "text": [
      "133\n"
     ]
    }
   ],
   "source": [
    "print(len(data[positive]))"
   ]
  },
  {
   "cell_type": "code",
   "execution_count": 54,
   "id": "2fb9fee3",
   "metadata": {},
   "outputs": [
    {
     "name": "stdout",
     "output_type": "stream",
     "text": [
      "{:25%} 0.011821897576236208\n"
     ]
    }
   ],
   "source": [
    "print(\"{:25%}\",format(data[positive].mean()))"
   ]
  },
  {
   "cell_type": "code",
   "execution_count": 55,
   "id": "d2e0aa4d",
   "metadata": {},
   "outputs": [
    {
     "name": "stdout",
     "output_type": "stream",
     "text": [
      "use the tilde character to opposite of a mask\n"
     ]
    },
    {
     "data": {
      "text/plain": [
       "array([-0.00698569, -0.00479111, -0.0036983 , -0.01985753, -0.01817325,\n",
       "       -0.01754826, -0.02622066, -0.00350904, -0.00553391, -0.0211699 ,\n",
       "       -0.02608317, -0.00591882, -0.0032287 , -0.00840914, -0.00412449,\n",
       "       -0.00966751, -0.01856289, -0.01725653, -0.0086277 , -0.01479297,\n",
       "       -0.00921631, -0.00933057, -0.01731639, -0.01555583, -0.01187499,\n",
       "       -0.01255724, -0.01168702, -0.01210511, -0.0192442 , -0.00644148,\n",
       "       -0.00141199, -0.01426633, -0.03547559, -0.01561266, -0.02104638,\n",
       "       -0.02444694, -0.00154811, -0.0019734 , -0.00181867, -0.02637532,\n",
       "       -0.00060965, -0.02107308, -0.0104424 , -0.02618259, -0.02492229,\n",
       "       -0.01270131, -0.0174998 , -0.01844572, -0.01541572, -0.01023463,\n",
       "       -0.00234011, -0.00953991, -0.00440391, -0.01033257, -0.00604775,\n",
       "       -0.02389858, -0.01924021, -0.02563792, -0.00411841, -0.01838117,\n",
       "       -0.00386585, -0.01445619, -0.00540659, -0.00130099, -0.0092122 ,\n",
       "       -0.01159199, -0.01871632, -0.00477766, -0.02103474, -0.00407104,\n",
       "       -0.01669309, -0.00229757, -0.01463174, -0.01330802, -0.00092303,\n",
       "       -0.00528859, -0.00492268, -0.00512954, -0.01265421, -0.00275067,\n",
       "       -0.0024637 , -0.01113729, -0.01239016, -0.00366562, -0.00276681,\n",
       "       -0.01533589, -0.02392771, -0.02103612, -0.00138142, -0.00479973,\n",
       "       -0.002299  , -0.00480903, -0.00063929, -0.00302873, -0.00145608,\n",
       "       -0.0006262 , -0.00700762, -0.01235175, -0.00257153, -0.00850771,\n",
       "       -0.01294311, -0.0016976 , -0.00309852, -0.01223488, -0.01374838,\n",
       "       -0.00425593, -0.01004568, -0.0053474 , -0.0137572 , -0.02018958,\n",
       "       -0.01629284, -0.03077936, -0.00392719, -0.01686021, -0.01624969,\n",
       "       -0.00244046, -0.00252363, -0.01153889, -0.00421919])"
      ]
     },
     "execution_count": 55,
     "metadata": {},
     "output_type": "execute_result"
    }
   ],
   "source": [
    "print(\"use the tilde character to opposite of a mask\")\n",
    "data[~positive]"
   ]
  },
  {
   "cell_type": "code",
   "execution_count": 56,
   "id": "4ab34412",
   "metadata": {},
   "outputs": [
    {
     "name": "stdout",
     "output_type": "stream",
     "text": [
      "you can also use to replace corresponding values from an array\n"
     ]
    }
   ],
   "source": [
    "print(\"you can also use to replace corresponding values from an array\")\n",
    "x=npr.standard_normal(20)\n",
    "y=np.arange(20)"
   ]
  },
  {
   "cell_type": "code",
   "execution_count": 57,
   "id": "fac851e1",
   "metadata": {},
   "outputs": [
    {
     "data": {
      "text/plain": [
       "array([ 0.5496222 ,  1.        ,  2.        ,  0.03973405,  0.19775397,\n",
       "        0.56096996,  1.38728936,  7.        ,  8.        ,  0.397533  ,\n",
       "       10.        , 11.        , 12.        ,  0.69537782,  1.12176862,\n",
       "       15.        , 16.        ,  1.4084701 ,  1.54685596, 19.        ])"
      ]
     },
     "execution_count": 57,
     "metadata": {},
     "output_type": "execute_result"
    }
   ],
   "source": [
    "np.where(x<0,y,x)"
   ]
  },
  {
   "cell_type": "code",
   "execution_count": 1,
   "id": "5cca00c8",
   "metadata": {},
   "outputs": [
    {
     "data": {
      "text/plain": [
       "30"
      ]
     },
     "execution_count": 1,
     "metadata": {},
     "output_type": "execute_result"
    }
   ],
   "source": [
    "import numpy as np\n",
    "np.multiply.reduce([2,3,5])"
   ]
  },
  {
   "cell_type": "code",
   "execution_count": 2,
   "id": "0cf371bd",
   "metadata": {},
   "outputs": [
    {
     "data": {
      "text/plain": [
       "array([ 2,  5, 10], dtype=int32)"
      ]
     },
     "execution_count": 2,
     "metadata": {},
     "output_type": "execute_result"
    }
   ],
   "source": [
    "np.add.accumulate([2,3,5])"
   ]
  },
  {
   "cell_type": "code",
   "execution_count": 3,
   "id": "5a040603",
   "metadata": {},
   "outputs": [
    {
     "data": {
      "text/plain": [
       "array([ 2,  6, 30], dtype=int32)"
      ]
     },
     "execution_count": 3,
     "metadata": {},
     "output_type": "execute_result"
    }
   ],
   "source": [
    "np.multiply.accumulate([2,3,5])"
   ]
  },
  {
   "cell_type": "code",
   "execution_count": 5,
   "id": "67a57ef0",
   "metadata": {},
   "outputs": [
    {
     "data": {
      "text/plain": [
       "array([ 1,  3,  6, 10, 15, 21], dtype=int32)"
      ]
     },
     "execution_count": 5,
     "metadata": {},
     "output_type": "execute_result"
    }
   ],
   "source": [
    "a=np.array([[1,2,3],[4,5,6]])\n",
    "a\n",
    "np.cumsum(a)"
   ]
  },
  {
   "cell_type": "code",
   "execution_count": null,
   "id": "044d0386",
   "metadata": {},
   "outputs": [],
   "source": []
  }
 ],
 "metadata": {
  "kernelspec": {
   "display_name": "Python 3 (ipykernel)",
   "language": "python",
   "name": "python3"
  },
  "language_info": {
   "codemirror_mode": {
    "name": "ipython",
    "version": 3
   },
   "file_extension": ".py",
   "mimetype": "text/x-python",
   "name": "python",
   "nbconvert_exporter": "python",
   "pygments_lexer": "ipython3",
   "version": "3.9.12"
  }
 },
 "nbformat": 4,
 "nbformat_minor": 5
}
